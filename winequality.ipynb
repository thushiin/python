{
 "cells": [
  {
   "cell_type": "code",
   "execution_count": 134,
   "metadata": {},
   "outputs": [],
   "source": [
    "import pandas as pd\n",
    "import numpy as np\n",
    "import matplotlib.pyplot as plt\n",
    "import seaborn as sns"
   ]
  },
  {
   "cell_type": "code",
   "execution_count": 135,
   "metadata": {},
   "outputs": [],
   "source": [
    "df=pd.read_csv('winequalityN.csv')"
   ]
  },
  {
   "cell_type": "code",
   "execution_count": 136,
   "metadata": {},
   "outputs": [
    {
     "data": {
      "text/html": [
       "<div>\n",
       "<style scoped>\n",
       "    .dataframe tbody tr th:only-of-type {\n",
       "        vertical-align: middle;\n",
       "    }\n",
       "\n",
       "    .dataframe tbody tr th {\n",
       "        vertical-align: top;\n",
       "    }\n",
       "\n",
       "    .dataframe thead th {\n",
       "        text-align: right;\n",
       "    }\n",
       "</style>\n",
       "<table border=\"1\" class=\"dataframe\">\n",
       "  <thead>\n",
       "    <tr style=\"text-align: right;\">\n",
       "      <th></th>\n",
       "      <th>type</th>\n",
       "      <th>fixed acidity</th>\n",
       "      <th>volatile acidity</th>\n",
       "      <th>citric acid</th>\n",
       "      <th>residual sugar</th>\n",
       "      <th>chlorides</th>\n",
       "      <th>free sulfur dioxide</th>\n",
       "      <th>total sulfur dioxide</th>\n",
       "      <th>density</th>\n",
       "      <th>pH</th>\n",
       "      <th>sulphates</th>\n",
       "      <th>alcohol</th>\n",
       "      <th>quality</th>\n",
       "    </tr>\n",
       "  </thead>\n",
       "  <tbody>\n",
       "    <tr>\n",
       "      <th>0</th>\n",
       "      <td>white</td>\n",
       "      <td>7.0</td>\n",
       "      <td>0.27</td>\n",
       "      <td>0.36</td>\n",
       "      <td>20.7</td>\n",
       "      <td>0.045</td>\n",
       "      <td>45.0</td>\n",
       "      <td>170.0</td>\n",
       "      <td>1.0010</td>\n",
       "      <td>3.00</td>\n",
       "      <td>0.45</td>\n",
       "      <td>8.8</td>\n",
       "      <td>6</td>\n",
       "    </tr>\n",
       "    <tr>\n",
       "      <th>1</th>\n",
       "      <td>white</td>\n",
       "      <td>6.3</td>\n",
       "      <td>0.30</td>\n",
       "      <td>0.34</td>\n",
       "      <td>1.6</td>\n",
       "      <td>0.049</td>\n",
       "      <td>14.0</td>\n",
       "      <td>132.0</td>\n",
       "      <td>0.9940</td>\n",
       "      <td>3.30</td>\n",
       "      <td>0.49</td>\n",
       "      <td>9.5</td>\n",
       "      <td>6</td>\n",
       "    </tr>\n",
       "    <tr>\n",
       "      <th>2</th>\n",
       "      <td>white</td>\n",
       "      <td>8.1</td>\n",
       "      <td>0.28</td>\n",
       "      <td>0.40</td>\n",
       "      <td>6.9</td>\n",
       "      <td>0.050</td>\n",
       "      <td>30.0</td>\n",
       "      <td>97.0</td>\n",
       "      <td>0.9951</td>\n",
       "      <td>3.26</td>\n",
       "      <td>0.44</td>\n",
       "      <td>10.1</td>\n",
       "      <td>6</td>\n",
       "    </tr>\n",
       "    <tr>\n",
       "      <th>3</th>\n",
       "      <td>white</td>\n",
       "      <td>7.2</td>\n",
       "      <td>0.23</td>\n",
       "      <td>0.32</td>\n",
       "      <td>8.5</td>\n",
       "      <td>0.058</td>\n",
       "      <td>47.0</td>\n",
       "      <td>186.0</td>\n",
       "      <td>0.9956</td>\n",
       "      <td>3.19</td>\n",
       "      <td>0.40</td>\n",
       "      <td>9.9</td>\n",
       "      <td>6</td>\n",
       "    </tr>\n",
       "    <tr>\n",
       "      <th>4</th>\n",
       "      <td>white</td>\n",
       "      <td>7.2</td>\n",
       "      <td>0.23</td>\n",
       "      <td>0.32</td>\n",
       "      <td>8.5</td>\n",
       "      <td>0.058</td>\n",
       "      <td>47.0</td>\n",
       "      <td>186.0</td>\n",
       "      <td>0.9956</td>\n",
       "      <td>3.19</td>\n",
       "      <td>0.40</td>\n",
       "      <td>9.9</td>\n",
       "      <td>6</td>\n",
       "    </tr>\n",
       "  </tbody>\n",
       "</table>\n",
       "</div>"
      ],
      "text/plain": [
       "    type  fixed acidity  volatile acidity  citric acid  residual sugar  \\\n",
       "0  white            7.0              0.27         0.36            20.7   \n",
       "1  white            6.3              0.30         0.34             1.6   \n",
       "2  white            8.1              0.28         0.40             6.9   \n",
       "3  white            7.2              0.23         0.32             8.5   \n",
       "4  white            7.2              0.23         0.32             8.5   \n",
       "\n",
       "   chlorides  free sulfur dioxide  total sulfur dioxide  density    pH  \\\n",
       "0      0.045                 45.0                 170.0   1.0010  3.00   \n",
       "1      0.049                 14.0                 132.0   0.9940  3.30   \n",
       "2      0.050                 30.0                  97.0   0.9951  3.26   \n",
       "3      0.058                 47.0                 186.0   0.9956  3.19   \n",
       "4      0.058                 47.0                 186.0   0.9956  3.19   \n",
       "\n",
       "   sulphates  alcohol  quality  \n",
       "0       0.45      8.8        6  \n",
       "1       0.49      9.5        6  \n",
       "2       0.44     10.1        6  \n",
       "3       0.40      9.9        6  \n",
       "4       0.40      9.9        6  "
      ]
     },
     "execution_count": 136,
     "metadata": {},
     "output_type": "execute_result"
    }
   ],
   "source": [
    "df.head()"
   ]
  },
  {
   "cell_type": "code",
   "execution_count": 137,
   "metadata": {},
   "outputs": [
    {
     "name": "stdout",
     "output_type": "stream",
     "text": [
      "<class 'pandas.core.frame.DataFrame'>\n",
      "RangeIndex: 6497 entries, 0 to 6496\n",
      "Data columns (total 13 columns):\n",
      " #   Column                Non-Null Count  Dtype  \n",
      "---  ------                --------------  -----  \n",
      " 0   type                  6497 non-null   object \n",
      " 1   fixed acidity         6487 non-null   float64\n",
      " 2   volatile acidity      6489 non-null   float64\n",
      " 3   citric acid           6494 non-null   float64\n",
      " 4   residual sugar        6495 non-null   float64\n",
      " 5   chlorides             6495 non-null   float64\n",
      " 6   free sulfur dioxide   6497 non-null   float64\n",
      " 7   total sulfur dioxide  6497 non-null   float64\n",
      " 8   density               6497 non-null   float64\n",
      " 9   pH                    6488 non-null   float64\n",
      " 10  sulphates             6493 non-null   float64\n",
      " 11  alcohol               6497 non-null   float64\n",
      " 12  quality               6497 non-null   int64  \n",
      "dtypes: float64(11), int64(1), object(1)\n",
      "memory usage: 660.0+ KB\n"
     ]
    }
   ],
   "source": [
    "df.info()"
   ]
  },
  {
   "cell_type": "code",
   "execution_count": 138,
   "metadata": {},
   "outputs": [
    {
     "data": {
      "text/plain": [
       "type                     object\n",
       "fixed acidity           float64\n",
       "volatile acidity        float64\n",
       "citric acid             float64\n",
       "residual sugar          float64\n",
       "chlorides               float64\n",
       "free sulfur dioxide     float64\n",
       "total sulfur dioxide    float64\n",
       "density                 float64\n",
       "pH                      float64\n",
       "sulphates               float64\n",
       "alcohol                 float64\n",
       "quality                   int64\n",
       "dtype: object"
      ]
     },
     "execution_count": 138,
     "metadata": {},
     "output_type": "execute_result"
    }
   ],
   "source": [
    "df.dtypes"
   ]
  },
  {
   "cell_type": "code",
   "execution_count": 139,
   "metadata": {},
   "outputs": [
    {
     "data": {
      "text/plain": [
       "type                     0\n",
       "fixed acidity           10\n",
       "volatile acidity         8\n",
       "citric acid              3\n",
       "residual sugar           2\n",
       "chlorides                2\n",
       "free sulfur dioxide      0\n",
       "total sulfur dioxide     0\n",
       "density                  0\n",
       "pH                       9\n",
       "sulphates                4\n",
       "alcohol                  0\n",
       "quality                  0\n",
       "dtype: int64"
      ]
     },
     "execution_count": 139,
     "metadata": {},
     "output_type": "execute_result"
    }
   ],
   "source": [
    "df.isna().sum()"
   ]
  },
  {
   "cell_type": "code",
   "execution_count": 140,
   "metadata": {},
   "outputs": [
    {
     "data": {
      "text/plain": [
       "0       7.0\n",
       "1       6.3\n",
       "2       8.1\n",
       "3       7.2\n",
       "4       7.2\n",
       "       ... \n",
       "6492    6.2\n",
       "6493    5.9\n",
       "6494    6.3\n",
       "6495    5.9\n",
       "6496    6.0\n",
       "Name: fixed acidity, Length: 6497, dtype: float64"
      ]
     },
     "execution_count": 140,
     "metadata": {},
     "output_type": "execute_result"
    }
   ],
   "source": [
    "df['fixed acidity']"
   ]
  },
  {
   "cell_type": "code",
   "execution_count": 141,
   "metadata": {},
   "outputs": [
    {
     "name": "stderr",
     "output_type": "stream",
     "text": [
      "/var/folders/vk/24j_xhv17pzdvd9jmf97hcc80000gn/T/ipykernel_57318/1721781898.py:1: FutureWarning: Series.fillna with 'method' is deprecated and will raise in a future version. Use obj.ffill() or obj.bfill() instead.\n",
      "  df['fixed acidity']=df['fixed acidity'].fillna(method='bfill')\n"
     ]
    },
    {
     "data": {
      "text/plain": [
       "0"
      ]
     },
     "execution_count": 141,
     "metadata": {},
     "output_type": "execute_result"
    }
   ],
   "source": [
    "df['fixed acidity']=df['fixed acidity'].fillna(method='bfill')\n",
    "df['fixed acidity'].isna().sum()"
   ]
  },
  {
   "cell_type": "code",
   "execution_count": 142,
   "metadata": {},
   "outputs": [
    {
     "data": {
      "text/plain": [
       "array([0.27 , 0.3  , 0.28 , 0.23 , 0.32 , 0.22 , 0.18 , 0.16 , 0.42 ,\n",
       "       0.17 , 0.48 , 0.66 , 0.34 , 0.31 , 0.26 , 0.67 , 0.25 , 0.24 ,\n",
       "       0.14 , 0.12 , 0.39 , 0.33 , 0.45 , 0.46 , 0.19 , 0.2  , 0.21 ,\n",
       "       0.38 , 0.47 , 0.35 , 0.54 , 0.43 , 0.44 ,   nan, 0.265, 0.36 ,\n",
       "       0.305, 0.13 , 0.41 , 0.485, 0.425, 0.37 , 0.255, 0.595, 0.29 ,\n",
       "       0.53 , 0.15 , 0.57 , 0.4  , 0.245, 0.685, 0.495, 0.64 , 0.52 ,\n",
       "       0.115, 0.58 , 0.585, 0.59 , 0.6  , 0.55 , 0.125, 0.1  , 0.145,\n",
       "       0.335, 0.365, 0.905, 0.49 , 0.155, 0.51 , 0.62 , 0.345, 0.475,\n",
       "       0.56 , 0.235, 0.105, 0.5  , 0.11 , 0.225, 0.395, 0.655, 0.205,\n",
       "       0.415, 0.705, 0.08 , 0.68 , 0.275, 0.61 , 0.135, 0.165, 0.85 ,\n",
       "       0.185, 0.325, 0.445, 0.545, 0.91 , 0.71 , 1.005, 0.385, 0.76 ,\n",
       "       0.93 , 0.295, 0.695, 0.815, 0.285, 0.175, 0.615, 0.315, 0.965,\n",
       "       0.375, 0.74 , 0.78 , 0.215, 0.435, 0.75 , 0.085, 0.73 , 0.65 ,\n",
       "       0.455, 1.1  , 0.555, 0.09 , 0.63 , 0.69 , 0.785, 0.405, 0.355,\n",
       "       0.7  , 0.88 , 0.645, 0.675, 0.605, 1.13 , 0.935, 0.735, 0.725,\n",
       "       0.625, 1.02 , 0.775, 0.9  , 0.575, 1.07 , 1.33 , 0.745, 1.04 ,\n",
       "       0.715, 0.95 , 0.885, 0.805, 0.835, 1.09 , 0.635, 0.82 , 1.   ,\n",
       "       0.975, 0.87 , 0.83 , 0.77 , 0.795, 0.665, 0.765, 0.84 , 0.96 ,\n",
       "       0.825, 0.72 , 0.915, 0.755, 0.845, 1.24 , 0.8  , 0.98 , 1.185,\n",
       "       0.92 , 1.035, 1.025, 0.565, 1.115, 0.865, 0.875, 0.89 , 1.01 ,\n",
       "       0.86 , 0.955, 1.58 , 0.79 , 1.18 , 0.81 , 0.895, 0.855])"
      ]
     },
     "execution_count": 142,
     "metadata": {},
     "output_type": "execute_result"
    }
   ],
   "source": [
    "df['volatile acidity'].unique()"
   ]
  },
  {
   "cell_type": "code",
   "execution_count": 143,
   "metadata": {},
   "outputs": [],
   "source": [
    "for i in ['volatile acidity','citric acid','residual sugar','chlorides','pH','sulphates']:\n",
    "    df[i]=df[i].fillna(df[i].bfill())"
   ]
  },
  {
   "cell_type": "code",
   "execution_count": 144,
   "metadata": {},
   "outputs": [
    {
     "data": {
      "text/plain": [
       "type                    0\n",
       "fixed acidity           0\n",
       "volatile acidity        0\n",
       "citric acid             0\n",
       "residual sugar          0\n",
       "chlorides               0\n",
       "free sulfur dioxide     0\n",
       "total sulfur dioxide    0\n",
       "density                 0\n",
       "pH                      0\n",
       "sulphates               0\n",
       "alcohol                 0\n",
       "quality                 0\n",
       "dtype: int64"
      ]
     },
     "execution_count": 144,
     "metadata": {},
     "output_type": "execute_result"
    }
   ],
   "source": [
    "df.isna().sum()"
   ]
  },
  {
   "cell_type": "code",
   "execution_count": 145,
   "metadata": {},
   "outputs": [
    {
     "data": {
      "text/plain": [
       "type\n",
       "red      8.320700\n",
       "white    6.855012\n",
       "Name: fixed acidity, dtype: float64"
      ]
     },
     "execution_count": 145,
     "metadata": {},
     "output_type": "execute_result"
    }
   ],
   "source": [
    "df.groupby('type')['fixed acidity'].mean()"
   ]
  },
  {
   "cell_type": "code",
   "execution_count": 146,
   "metadata": {},
   "outputs": [
    {
     "data": {
      "image/png": "[encoded data removed]",
      "text/plain": [
       "<Figure size 640x480 with 1 Axes>"
      ]
     },
     "metadata": {},
     "output_type": "display_data"
    }
   ],
   "source": [
    "plt.boxplot(df['fixed acidity'])\n",
    "plt.title('Box plot of fixed acidity')\n",
    "plt.show()"
   ]
  },
  {
   "cell_type": "code",
   "execution_count": 147,
   "metadata": {},
   "outputs": [
    {
     "data": {
      "image/png": "[encoded data removed]",
      "text/plain": [
       "<Figure size 640x480 with 1 Axes>"
      ]
     },
     "metadata": {},
     "output_type": "display_data"
    }
   ],
   "source": [
    "plt.boxplot(df['volatile acidity'])\n",
    "plt.title('Box plot of volatile acidity')\n",
    "plt.show()"
   ]
  },
  {
   "cell_type": "code",
   "execution_count": 148,
   "metadata": {},
   "outputs": [
    {
     "data": {
      "image/png": "[encoded data removed]",
      "text/plain": [
       "<Figure size 640x480 with 1 Axes>"
      ]
     },
     "metadata": {},
     "output_type": "display_data"
    }
   ],
   "source": [
    "plt.boxplot(df['citric acid'])\n",
    "plt.title('Box plot of citric acid')\n",
    "plt.show()"
   ]
  },
  {
   "cell_type": "code",
   "execution_count": 149,
   "metadata": {},
   "outputs": [
    {
     "data": {
      "image/png": "[encoded data removed]",
      "text/plain": [
       "<Figure size 640x480 with 1 Axes>"
      ]
     },
     "metadata": {},
     "output_type": "display_data"
    }
   ],
   "source": [
    "plt.boxplot(df['residual sugar'])\n",
    "plt.title('Box plot of residual sugar')\n",
    "plt.show()"
   ]
  },
  {
   "cell_type": "code",
   "execution_count": 150,
   "metadata": {},
   "outputs": [
    {
     "data": {
      "image/png": "[encoded data removed]",
      "text/plain": [
       "<Figure size 640x480 with 1 Axes>"
      ]
     },
     "metadata": {},
     "output_type": "display_data"
    }
   ],
   "source": [
    "plt.boxplot(df['chlorides'])\n",
    "plt.title('Box plot of chlorides')\n",
    "plt.show()"
   ]
  },
  {
   "cell_type": "code",
   "execution_count": 151,
   "metadata": {},
   "outputs": [
    {
     "data": {
      "image/png": "[encoded data removed]",
      "text/plain": [
       "<Figure size 640x480 with 1 Axes>"
      ]
     },
     "metadata": {},
     "output_type": "display_data"
    }
   ],
   "source": [
    "plt.boxplot(df['free sulfur dioxide'])\n",
    "plt.title('Box plot of free sulphur dioxide ')\n",
    "plt.show()"
   ]
  },
  {
   "cell_type": "code",
   "execution_count": 152,
   "metadata": {},
   "outputs": [
    {
     "data": {
      "image/png": "[encoded data removed]",
      "text/plain": [
       "<Figure size 640x480 with 1 Axes>"
      ]
     },
     "metadata": {},
     "output_type": "display_data"
    }
   ],
   "source": [
    "plt.boxplot(df['total sulfur dioxide'])\n",
    "plt.title('Box plot of total sulphur dioxide ')\n",
    "plt.show()"
   ]
  },
  {
   "cell_type": "code",
   "execution_count": 153,
   "metadata": {},
   "outputs": [
    {
     "data": {
      "image/png": "[encoded data removed]",
      "text/plain": [
       "<Figure size 640x480 with 1 Axes>"
      ]
     },
     "metadata": {},
     "output_type": "display_data"
    }
   ],
   "source": [
    "plt.boxplot(df['density'])\n",
    "plt.title('Box plot of density')\n",
    "plt.show()"
   ]
  },
  {
   "cell_type": "code",
   "execution_count": 154,
   "metadata": {},
   "outputs": [
    {
     "data": {
      "image/png": "[encoded data removed]",
      "text/plain": [
       "<Figure size 640x480 with 1 Axes>"
      ]
     },
     "metadata": {},
     "output_type": "display_data"
    }
   ],
   "source": [
    "plt.boxplot(df['pH'])\n",
    "plt.title('Box plot of pH')\n",
    "plt.show()"
   ]
  },
  {
   "cell_type": "code",
   "execution_count": 155,
   "metadata": {},
   "outputs": [
    {
     "data": {
      "image/png": "[encoded data removed]",
      "text/plain": [
       "<Figure size 640x480 with 1 Axes>"
      ]
     },
     "metadata": {},
     "output_type": "display_data"
    }
   ],
   "source": [
    "plt.boxplot(df['sulphates'])\n",
    "plt.title('Box plot of sulphate')\n",
    "plt.show()"
   ]
  },
  {
   "cell_type": "code",
   "execution_count": 156,
   "metadata": {},
   "outputs": [
    {
     "data": {
      "image/png": "[encoded data removed]",
      "text/plain": [
       "<Figure size 640x480 with 1 Axes>"
      ]
     },
     "metadata": {},
     "output_type": "display_data"
    }
   ],
   "source": [
    "plt.boxplot(df['alcohol'])\n",
    "plt.title('Box plot of alcohol')\n",
    "plt.show()"
   ]
  },
  {
   "cell_type": "code",
   "execution_count": 157,
   "metadata": {},
   "outputs": [
    {
     "data": {
      "image/png": "[encoded data removed]",
      "text/plain": [
       "<Figure size 640x480 with 1 Axes>"
      ]
     },
     "metadata": {},
     "output_type": "display_data"
    }
   ],
   "source": [
    "plt.boxplot(df['quality'])\n",
    "plt.title('Box plot of quality')\n",
    "plt.show()"
   ]
  },
  {
   "cell_type": "code",
   "execution_count": 158,
   "metadata": {},
   "outputs": [
    {
     "name": "stdout",
     "output_type": "stream",
     "text": [
      "5.0\n",
      "6.0\n",
      "6.0\n"
     ]
    }
   ],
   "source": [
    "q1=np.percentile(df['quality'],25,interpolation='midpoint')\n",
    "q2=np.percentile(df['quality'],50,interpolation='midpoint')\n",
    "q3=np.percentile(df['quality'],75,interpolation='midpoint')\n",
    "\n",
    "print(q1)\n",
    "print(q2)\n",
    "print(q3)"
   ]
  },
  {
   "cell_type": "code",
   "execution_count": 159,
   "metadata": {},
   "outputs": [
    {
     "data": {
      "text/plain": [
       "6.0"
      ]
     },
     "execution_count": 159,
     "metadata": {},
     "output_type": "execute_result"
    }
   ],
   "source": [
    "df['quality'].median()"
   ]
  },
  {
   "cell_type": "code",
   "execution_count": 160,
   "metadata": {},
   "outputs": [
    {
     "name": "stdout",
     "output_type": "stream",
     "text": [
      "3.5\n",
      "7.5\n"
     ]
    }
   ],
   "source": [
    "iqr=q3-q1\n",
    "low_limit=q1-1.5*iqr\n",
    "up_limit=q3+1.5*iqr\n",
    "\n",
    "print(low_limit)\n",
    "print(up_limit)"
   ]
  },
  {
   "cell_type": "code",
   "execution_count": 161,
   "metadata": {},
   "outputs": [
    {
     "data": {
      "text/plain": [
       "[8,\n",
       " 8,\n",
       " 8,\n",
       " 8,\n",
       " 8,\n",
       " 8,\n",
       " 8,\n",
       " 8,\n",
       " 3,\n",
       " 3,\n",
       " 8,\n",
       " 8,\n",
       " 8,\n",
       " 3,\n",
       " 8,\n",
       " 8,\n",
       " 8,\n",
       " 8,\n",
       " 8,\n",
       " 3,\n",
       " 8,\n",
       " 8,\n",
       " 8,\n",
       " 8,\n",
       " 8,\n",
       " 3,\n",
       " 9,\n",
       " 8,\n",
       " 8,\n",
       " 8,\n",
       " 9,\n",
       " 9,\n",
       " 8,\n",
       " 8,\n",
       " 8,\n",
       " 8,\n",
       " 8,\n",
       " 8,\n",
       " 8,\n",
       " 8,\n",
       " 8,\n",
       " 3,\n",
       " 9,\n",
       " 8,\n",
       " 8,\n",
       " 8,\n",
       " 8,\n",
       " 8,\n",
       " 3,\n",
       " 8,\n",
       " 8,\n",
       " 8,\n",
       " 8,\n",
       " 8,\n",
       " 8,\n",
       " 8,\n",
       " 8,\n",
       " 8,\n",
       " 8,\n",
       " 8,\n",
       " 3,\n",
       " 8,\n",
       " 8,\n",
       " 8,\n",
       " 8,\n",
       " 8,\n",
       " 8,\n",
       " 8,\n",
       " 8,\n",
       " 8,\n",
       " 8,\n",
       " 8,\n",
       " 8,\n",
       " 8,\n",
       " 3,\n",
       " 8,\n",
       " 3,\n",
       " 8,\n",
       " 8,\n",
       " 8,\n",
       " 9,\n",
       " 8,\n",
       " 8,\n",
       " 8,\n",
       " 3,\n",
       " 8,\n",
       " 8,\n",
       " 8,\n",
       " 8,\n",
       " 8,\n",
       " 3,\n",
       " 8,\n",
       " 8,\n",
       " 8,\n",
       " 8,\n",
       " 8,\n",
       " 8,\n",
       " 3,\n",
       " 8,\n",
       " 8,\n",
       " 8,\n",
       " 3,\n",
       " 8,\n",
       " 8,\n",
       " 8,\n",
       " 8,\n",
       " 8,\n",
       " 8,\n",
       " 8,\n",
       " 8,\n",
       " 8,\n",
       " 8,\n",
       " 8,\n",
       " 8,\n",
       " 8,\n",
       " 8,\n",
       " 8,\n",
       " 8,\n",
       " 8,\n",
       " 8,\n",
       " 8,\n",
       " 8,\n",
       " 8,\n",
       " 8,\n",
       " 8,\n",
       " 8,\n",
       " 8,\n",
       " 8,\n",
       " 8,\n",
       " 8,\n",
       " 8,\n",
       " 8,\n",
       " 8,\n",
       " 8,\n",
       " 8,\n",
       " 8,\n",
       " 8,\n",
       " 3,\n",
       " 8,\n",
       " 8,\n",
       " 8,\n",
       " 8,\n",
       " 8,\n",
       " 8,\n",
       " 8,\n",
       " 3,\n",
       " 8,\n",
       " 8,\n",
       " 8,\n",
       " 3,\n",
       " 8,\n",
       " 8,\n",
       " 8,\n",
       " 3,\n",
       " 8,\n",
       " 8,\n",
       " 8,\n",
       " 8,\n",
       " 8,\n",
       " 8,\n",
       " 8,\n",
       " 8,\n",
       " 8,\n",
       " 8,\n",
       " 8,\n",
       " 8,\n",
       " 8,\n",
       " 8,\n",
       " 8,\n",
       " 8,\n",
       " 8,\n",
       " 8,\n",
       " 8,\n",
       " 8,\n",
       " 8,\n",
       " 8,\n",
       " 8,\n",
       " 8,\n",
       " 3,\n",
       " 8,\n",
       " 8,\n",
       " 8,\n",
       " 8,\n",
       " 8,\n",
       " 8,\n",
       " 8,\n",
       " 8,\n",
       " 8,\n",
       " 8,\n",
       " 8,\n",
       " 8,\n",
       " 8,\n",
       " 8,\n",
       " 8,\n",
       " 3,\n",
       " 8,\n",
       " 8,\n",
       " 8,\n",
       " 8,\n",
       " 8,\n",
       " 8,\n",
       " 8,\n",
       " 8,\n",
       " 8,\n",
       " 8,\n",
       " 3,\n",
       " 8,\n",
       " 8,\n",
       " 8,\n",
       " 3,\n",
       " 8,\n",
       " 3,\n",
       " 8,\n",
       " 3,\n",
       " 3,\n",
       " 8,\n",
       " 8,\n",
       " 8,\n",
       " 8,\n",
       " 8,\n",
       " 3,\n",
       " 3,\n",
       " 8,\n",
       " 8,\n",
       " 3,\n",
       " 3,\n",
       " 3,\n",
       " 8]"
      ]
     },
     "execution_count": 161,
     "metadata": {},
     "output_type": "execute_result"
    }
   ],
   "source": [
    "outlier=[]\n",
    "for x in df['quality']:\n",
    "    if((x>up_limit)or(x<low_limit)):\n",
    "        outlier.append(x)\n",
    "outlier"
   ]
  },
  {
   "cell_type": "code",
   "execution_count": 162,
   "metadata": {},
   "outputs": [
    {
     "data": {
      "text/plain": [
       "Index([  17,   20,   22,   68,   74,  158,  159,  188,  255,  280,\n",
       "       ...\n",
       "       5486, 5726, 5959, 5988, 6018, 6100, 6167, 6301, 6347, 6447],\n",
       "      dtype='int64', length=198)"
      ]
     },
     "execution_count": 162,
     "metadata": {},
     "output_type": "execute_result"
    }
   ],
   "source": [
    "ind1=df['quality']>up_limit\n",
    "df.loc[ind1].index"
   ]
  },
  {
   "cell_type": "code",
   "execution_count": 163,
   "metadata": {},
   "outputs": [
    {
     "data": {
      "text/plain": [
       "Index([  17,   20,   22,   68,   74,  158,  159,  188,  255,  280,\n",
       "       ...\n",
       "       5486, 5726, 5959, 5988, 6018, 6100, 6167, 6301, 6347, 6447],\n",
       "      dtype='int64', length=198)"
      ]
     },
     "execution_count": 163,
     "metadata": {},
     "output_type": "execute_result"
    }
   ],
   "source": [
    "a=df.loc[ind1].index\n",
    "a"
   ]
  },
  {
   "cell_type": "code",
   "execution_count": 164,
   "metadata": {},
   "outputs": [
    {
     "data": {
      "text/html": [
       "<div>\n",
       "<style scoped>\n",
       "    .dataframe tbody tr th:only-of-type {\n",
       "        vertical-align: middle;\n",
       "    }\n",
       "\n",
       "    .dataframe tbody tr th {\n",
       "        vertical-align: top;\n",
       "    }\n",
       "\n",
       "    .dataframe thead th {\n",
       "        text-align: right;\n",
       "    }\n",
       "</style>\n",
       "<table border=\"1\" class=\"dataframe\">\n",
       "  <thead>\n",
       "    <tr style=\"text-align: right;\">\n",
       "      <th></th>\n",
       "      <th>0</th>\n",
       "    </tr>\n",
       "  </thead>\n",
       "  <tbody>\n",
       "    <tr>\n",
       "      <th>0</th>\n",
       "      <td>17</td>\n",
       "    </tr>\n",
       "    <tr>\n",
       "      <th>1</th>\n",
       "      <td>20</td>\n",
       "    </tr>\n",
       "    <tr>\n",
       "      <th>2</th>\n",
       "      <td>22</td>\n",
       "    </tr>\n",
       "    <tr>\n",
       "      <th>3</th>\n",
       "      <td>68</td>\n",
       "    </tr>\n",
       "    <tr>\n",
       "      <th>4</th>\n",
       "      <td>74</td>\n",
       "    </tr>\n",
       "    <tr>\n",
       "      <th>...</th>\n",
       "      <td>...</td>\n",
       "    </tr>\n",
       "    <tr>\n",
       "      <th>193</th>\n",
       "      <td>6100</td>\n",
       "    </tr>\n",
       "    <tr>\n",
       "      <th>194</th>\n",
       "      <td>6167</td>\n",
       "    </tr>\n",
       "    <tr>\n",
       "      <th>195</th>\n",
       "      <td>6301</td>\n",
       "    </tr>\n",
       "    <tr>\n",
       "      <th>196</th>\n",
       "      <td>6347</td>\n",
       "    </tr>\n",
       "    <tr>\n",
       "      <th>197</th>\n",
       "      <td>6447</td>\n",
       "    </tr>\n",
       "  </tbody>\n",
       "</table>\n",
       "<p>198 rows × 1 columns</p>\n",
       "</div>"
      ],
      "text/plain": [
       "        0\n",
       "0      17\n",
       "1      20\n",
       "2      22\n",
       "3      68\n",
       "4      74\n",
       "..    ...\n",
       "193  6100\n",
       "194  6167\n",
       "195  6301\n",
       "196  6347\n",
       "197  6447\n",
       "\n",
       "[198 rows x 1 columns]"
      ]
     },
     "execution_count": 164,
     "metadata": {},
     "output_type": "execute_result"
    }
   ],
   "source": [
    "d=pd.DataFrame(a)\n",
    "d"
   ]
  },
  {
   "cell_type": "code",
   "execution_count": 165,
   "metadata": {},
   "outputs": [],
   "source": [
    "df.drop(a,inplace=True)"
   ]
  },
  {
   "cell_type": "code",
   "execution_count": 166,
   "metadata": {},
   "outputs": [
    {
     "data": {
      "text/plain": [
       "(6299, 13)"
      ]
     },
     "execution_count": 166,
     "metadata": {},
     "output_type": "execute_result"
    }
   ],
   "source": [
    "df.shape"
   ]
  },
  {
   "cell_type": "code",
   "execution_count": 167,
   "metadata": {},
   "outputs": [
    {
     "data": {
      "image/png": "[encoded data removed]",
      "text/plain": [
       "<Figure size 640x480 with 1 Axes>"
      ]
     },
     "metadata": {},
     "output_type": "display_data"
    }
   ],
   "source": [
    "plt.boxplot(df['quality'])\n",
    "plt.title('Box plot of quality')\n",
    "plt.show()"
   ]
  },
  {
   "cell_type": "code",
   "execution_count": 168,
   "metadata": {},
   "outputs": [
    {
     "name": "stdout",
     "output_type": "stream",
     "text": [
      "9.5\n",
      "10.2\n",
      "11.2\n"
     ]
    }
   ],
   "source": [
    "q1=np.percentile(df['alcohol'],25,interpolation='midpoint')\n",
    "q2=np.percentile(df['alcohol'],50,interpolation='midpoint')\n",
    "q3=np.percentile(df['alcohol'],75,interpolation='midpoint')\n",
    "\n",
    "print(q1)\n",
    "print(q2)\n",
    "print(q3)"
   ]
  },
  {
   "cell_type": "code",
   "execution_count": 169,
   "metadata": {},
   "outputs": [
    {
     "data": {
      "text/plain": [
       "10.2"
      ]
     },
     "execution_count": 169,
     "metadata": {},
     "output_type": "execute_result"
    }
   ],
   "source": [
    "df['alcohol'].median()"
   ]
  },
  {
   "cell_type": "code",
   "execution_count": 170,
   "metadata": {},
   "outputs": [
    {
     "name": "stdout",
     "output_type": "stream",
     "text": [
      "6.950000000000001\n",
      "13.749999999999998\n"
     ]
    }
   ],
   "source": [
    "iqr=q3-q1\n",
    "low_limit=q1-1.5*iqr\n",
    "up_limit=q3+1.5*iqr\n",
    "\n",
    "print(low_limit)\n",
    "print(up_limit)"
   ]
  },
  {
   "cell_type": "code",
   "execution_count": 171,
   "metadata": {},
   "outputs": [
    {
     "data": {
      "text/plain": [
       "[13.9,\n",
       " 14.0,\n",
       " 14.0,\n",
       " 13.9,\n",
       " 14.0,\n",
       " 14.0,\n",
       " 14.2,\n",
       " 13.9,\n",
       " 14.05,\n",
       " 13.8,\n",
       " 13.8,\n",
       " 14.0,\n",
       " 14.0,\n",
       " 14.0,\n",
       " 14.9,\n",
       " 14.0,\n",
       " 14.0]"
      ]
     },
     "execution_count": 171,
     "metadata": {},
     "output_type": "execute_result"
    }
   ],
   "source": [
    "outlier=[]\n",
    "for x in df['alcohol']:\n",
    "    if((x>up_limit)or(x<low_limit)):\n",
    "        outlier.append(x)\n",
    "outlier"
   ]
  },
  {
   "cell_type": "code",
   "execution_count": 172,
   "metadata": {},
   "outputs": [
    {
     "data": {
      "text/plain": [
       "Index([ 701, 1099, 3150, 3458, 3904, 3915, 3918, 4149, 4503, 4560, 4792, 5040,\n",
       "       5042, 5365, 5550, 5719, 6168],\n",
       "      dtype='int64')"
      ]
     },
     "execution_count": 172,
     "metadata": {},
     "output_type": "execute_result"
    }
   ],
   "source": [
    "ind1=df['alcohol']>up_limit\n",
    "df.loc[ind1].index"
   ]
  },
  {
   "cell_type": "code",
   "execution_count": 173,
   "metadata": {},
   "outputs": [],
   "source": [
    "df.drop([701, 1099, 3150, 3458, 3904, 3915, 3918, 4149, 4503, 4560, 4792, 5040,\n",
    "       5042, 5365, 5550, 5719, 6168],inplace=True)"
   ]
  },
  {
   "cell_type": "code",
   "execution_count": 174,
   "metadata": {},
   "outputs": [
    {
     "data": {
      "text/plain": [
       "(6282, 13)"
      ]
     },
     "execution_count": 174,
     "metadata": {},
     "output_type": "execute_result"
    }
   ],
   "source": [
    "df.shape"
   ]
  },
  {
   "cell_type": "code",
   "execution_count": 175,
   "metadata": {},
   "outputs": [
    {
     "data": {
      "image/png": "[encoded data removed]",
      "text/plain": [
       "<Figure size 640x480 with 1 Axes>"
      ]
     },
     "metadata": {},
     "output_type": "display_data"
    }
   ],
   "source": [
    "plt.boxplot(df['alcohol'])\n",
    "plt.title('Box plot of alcohol')\n",
    "plt.show()"
   ]
  },
  {
   "cell_type": "code",
   "execution_count": 176,
   "metadata": {},
   "outputs": [
    {
     "name": "stdout",
     "output_type": "stream",
     "text": [
      "0.43\n",
      "0.51\n",
      "0.6\n"
     ]
    }
   ],
   "source": [
    "q1=np.percentile(df['sulphates'],25,interpolation='midpoint')\n",
    "q2=np.percentile(df['sulphates'],50,interpolation='midpoint')\n",
    "q3=np.percentile(df['sulphates'],75,interpolation='midpoint')\n",
    "\n",
    "print(q1)\n",
    "print(q2)\n",
    "print(q3)"
   ]
  },
  {
   "cell_type": "code",
   "execution_count": 177,
   "metadata": {},
   "outputs": [
    {
     "data": {
      "text/plain": [
       "0.51"
      ]
     },
     "execution_count": 177,
     "metadata": {},
     "output_type": "execute_result"
    }
   ],
   "source": [
    "df['sulphates'].median()"
   ]
  },
  {
   "cell_type": "code",
   "execution_count": 178,
   "metadata": {},
   "outputs": [
    {
     "name": "stdout",
     "output_type": "stream",
     "text": [
      "0.175\n",
      "0.855\n"
     ]
    }
   ],
   "source": [
    "iqr=q3-q1\n",
    "low_limit=q1-1.5*iqr\n",
    "up_limit=q3+1.5*iqr\n",
    "\n",
    "print(low_limit)\n",
    "print(up_limit)"
   ]
  },
  {
   "cell_type": "code",
   "execution_count": 179,
   "metadata": {},
   "outputs": [
    {
     "data": {
      "text/plain": [
       "[0.96,\n",
       " 0.97,\n",
       " 0.95,\n",
       " 0.95,\n",
       " 0.95,\n",
       " 0.9,\n",
       " 0.88,\n",
       " 0.88,\n",
       " 0.87,\n",
       " 0.86,\n",
       " 0.9,\n",
       " 0.9,\n",
       " 0.92,\n",
       " 0.98,\n",
       " 1.06,\n",
       " 0.88,\n",
       " 0.88,\n",
       " 0.88,\n",
       " 1.0,\n",
       " 0.89,\n",
       " 0.99,\n",
       " 0.86,\n",
       " 0.87,\n",
       " 0.88,\n",
       " 0.88,\n",
       " 0.98,\n",
       " 0.98,\n",
       " 0.98,\n",
       " 0.98,\n",
       " 0.98,\n",
       " 0.96,\n",
       " 1.01,\n",
       " 0.96,\n",
       " 0.94,\n",
       " 0.95,\n",
       " 1.08,\n",
       " 1.56,\n",
       " 0.88,\n",
       " 0.93,\n",
       " 1.28,\n",
       " 1.08,\n",
       " 0.91,\n",
       " 0.91,\n",
       " 0.9,\n",
       " 1.2,\n",
       " 0.95,\n",
       " 1.12,\n",
       " 1.28,\n",
       " 1.14,\n",
       " 1.95,\n",
       " 1.22,\n",
       " 1.95,\n",
       " 1.98,\n",
       " 1.31,\n",
       " 0.93,\n",
       " 0.93,\n",
       " 0.92,\n",
       " 2.0,\n",
       " 1.08,\n",
       " 1.59,\n",
       " 1.02,\n",
       " 0.97,\n",
       " 1.03,\n",
       " 0.88,\n",
       " 0.86,\n",
       " 1.61,\n",
       " 1.09,\n",
       " 0.96,\n",
       " 0.96,\n",
       " 1.26,\n",
       " 0.87,\n",
       " 0.91,\n",
       " 0.97,\n",
       " 0.97,\n",
       " 0.91,\n",
       " 0.97,\n",
       " 1.08,\n",
       " 0.86,\n",
       " 0.95,\n",
       " 0.86,\n",
       " 1.0,\n",
       " 1.36,\n",
       " 1.18,\n",
       " 0.87,\n",
       " 0.89,\n",
       " 0.93,\n",
       " 0.92,\n",
       " 0.86,\n",
       " 0.98,\n",
       " 0.88,\n",
       " 0.91,\n",
       " 0.87,\n",
       " 0.93,\n",
       " 1.13,\n",
       " 0.87,\n",
       " 1.04,\n",
       " 1.11,\n",
       " 1.13,\n",
       " 0.99,\n",
       " 1.07,\n",
       " 0.9,\n",
       " 0.9,\n",
       " 0.89,\n",
       " 0.89,\n",
       " 1.06,\n",
       " 0.91,\n",
       " 0.89,\n",
       " 1.06,\n",
       " 1.05,\n",
       " 1.06,\n",
       " 0.92,\n",
       " 0.9,\n",
       " 1.04,\n",
       " 1.05,\n",
       " 1.02,\n",
       " 1.14,\n",
       " 0.9,\n",
       " 0.99,\n",
       " 0.87,\n",
       " 0.87,\n",
       " 0.86,\n",
       " 0.91,\n",
       " 1.02,\n",
       " 1.36,\n",
       " 0.93,\n",
       " 0.96,\n",
       " 1.36,\n",
       " 1.05,\n",
       " 1.17,\n",
       " 1.62,\n",
       " 1.06,\n",
       " 0.92,\n",
       " 0.91,\n",
       " 1.18,\n",
       " 0.94,\n",
       " 0.86,\n",
       " 0.86,\n",
       " 0.86,\n",
       " 1.07,\n",
       " 0.89,\n",
       " 0.89,\n",
       " 0.87,\n",
       " 0.9,\n",
       " 0.99,\n",
       " 0.86,\n",
       " 0.87,\n",
       " 0.87,\n",
       " 1.34,\n",
       " 0.89,\n",
       " 0.86,\n",
       " 0.86,\n",
       " 0.88,\n",
       " 0.87,\n",
       " 0.87,\n",
       " 1.16,\n",
       " 1.1,\n",
       " 0.98,\n",
       " 0.88,\n",
       " 0.86,\n",
       " 0.94,\n",
       " 0.87,\n",
       " 1.15,\n",
       " 0.87,\n",
       " 1.17,\n",
       " 1.17,\n",
       " 1.33,\n",
       " 1.18,\n",
       " 1.17,\n",
       " 1.03,\n",
       " 1.17,\n",
       " 0.9,\n",
       " 0.94,\n",
       " 0.93,\n",
       " 1.01,\n",
       " 0.93,\n",
       " 0.94,\n",
       " 0.9,\n",
       " 0.93,\n",
       " 0.88,\n",
       " 0.88,\n",
       " 0.97,\n",
       " 0.97,\n",
       " 0.93]"
      ]
     },
     "execution_count": 179,
     "metadata": {},
     "output_type": "execute_result"
    }
   ],
   "source": [
    "outlier=[]\n",
    "for x in df['sulphates']:\n",
    "    if((x>up_limit)or(x<low_limit)):\n",
    "        outlier.append(x)\n",
    "outlier"
   ]
  },
  {
   "cell_type": "code",
   "execution_count": 180,
   "metadata": {},
   "outputs": [
    {
     "data": {
      "text/plain": [
       "Index([ 758,  759,  852,  854,  866,  974, 1016, 1036, 1293, 1294,\n",
       "       ...\n",
       "       6306, 6307, 6310, 6311, 6327, 6373, 6375, 6414, 6420, 6468],\n",
       "      dtype='int64', length=183)"
      ]
     },
     "execution_count": 180,
     "metadata": {},
     "output_type": "execute_result"
    }
   ],
   "source": [
    "ind1=df['sulphates']>up_limit\n",
    "df.loc[ind1].index"
   ]
  },
  {
   "cell_type": "code",
   "execution_count": 181,
   "metadata": {},
   "outputs": [
    {
     "data": {
      "text/plain": [
       "Index([ 758,  759,  852,  854,  866,  974, 1016, 1036, 1293, 1294,\n",
       "       ...\n",
       "       6306, 6307, 6310, 6311, 6327, 6373, 6375, 6414, 6420, 6468],\n",
       "      dtype='int64', length=183)"
      ]
     },
     "execution_count": 181,
     "metadata": {},
     "output_type": "execute_result"
    }
   ],
   "source": [
    "b=df.loc[ind1].index\n",
    "b"
   ]
  },
  {
   "cell_type": "code",
   "execution_count": 183,
   "metadata": {},
   "outputs": [
    {
     "data": {
      "text/html": [
       "<div>\n",
       "<style scoped>\n",
       "    .dataframe tbody tr th:only-of-type {\n",
       "        vertical-align: middle;\n",
       "    }\n",
       "\n",
       "    .dataframe tbody tr th {\n",
       "        vertical-align: top;\n",
       "    }\n",
       "\n",
       "    .dataframe thead th {\n",
       "        text-align: right;\n",
       "    }\n",
       "</style>\n",
       "<table border=\"1\" class=\"dataframe\">\n",
       "  <thead>\n",
       "    <tr style=\"text-align: right;\">\n",
       "      <th></th>\n",
       "      <th>0</th>\n",
       "    </tr>\n",
       "  </thead>\n",
       "  <tbody>\n",
       "    <tr>\n",
       "      <th>0</th>\n",
       "      <td>758</td>\n",
       "    </tr>\n",
       "    <tr>\n",
       "      <th>1</th>\n",
       "      <td>759</td>\n",
       "    </tr>\n",
       "    <tr>\n",
       "      <th>2</th>\n",
       "      <td>852</td>\n",
       "    </tr>\n",
       "    <tr>\n",
       "      <th>3</th>\n",
       "      <td>854</td>\n",
       "    </tr>\n",
       "    <tr>\n",
       "      <th>4</th>\n",
       "      <td>866</td>\n",
       "    </tr>\n",
       "    <tr>\n",
       "      <th>...</th>\n",
       "      <td>...</td>\n",
       "    </tr>\n",
       "    <tr>\n",
       "      <th>178</th>\n",
       "      <td>6373</td>\n",
       "    </tr>\n",
       "    <tr>\n",
       "      <th>179</th>\n",
       "      <td>6375</td>\n",
       "    </tr>\n",
       "    <tr>\n",
       "      <th>180</th>\n",
       "      <td>6414</td>\n",
       "    </tr>\n",
       "    <tr>\n",
       "      <th>181</th>\n",
       "      <td>6420</td>\n",
       "    </tr>\n",
       "    <tr>\n",
       "      <th>182</th>\n",
       "      <td>6468</td>\n",
       "    </tr>\n",
       "  </tbody>\n",
       "</table>\n",
       "<p>183 rows × 1 columns</p>\n",
       "</div>"
      ],
      "text/plain": [
       "        0\n",
       "0     758\n",
       "1     759\n",
       "2     852\n",
       "3     854\n",
       "4     866\n",
       "..    ...\n",
       "178  6373\n",
       "179  6375\n",
       "180  6414\n",
       "181  6420\n",
       "182  6468\n",
       "\n",
       "[183 rows x 1 columns]"
      ]
     },
     "execution_count": 183,
     "metadata": {},
     "output_type": "execute_result"
    }
   ],
   "source": [
    "d=pd.DataFrame(b)\n",
    "d"
   ]
  },
  {
   "cell_type": "code",
   "execution_count": 184,
   "metadata": {},
   "outputs": [],
   "source": [
    "df.drop(b,inplace=True)"
   ]
  },
  {
   "cell_type": "code",
   "execution_count": 185,
   "metadata": {},
   "outputs": [
    {
     "data": {
      "text/plain": [
       "(6099, 13)"
      ]
     },
     "execution_count": 185,
     "metadata": {},
     "output_type": "execute_result"
    }
   ],
   "source": [
    "df.shape"
   ]
  },
  {
   "cell_type": "code",
   "execution_count": 186,
   "metadata": {},
   "outputs": [
    {
     "data": {
      "image/png": "[encoded data removed]",
      "text/plain": [
       "<Figure size 640x480 with 1 Axes>"
      ]
     },
     "metadata": {},
     "output_type": "display_data"
    }
   ],
   "source": [
    "plt.boxplot(df['sulphates'])\n",
    "plt.title('Box plot of sulphate')\n",
    "plt.show()"
   ]
  },
  {
   "cell_type": "code",
   "execution_count": 187,
   "metadata": {},
   "outputs": [
    {
     "name": "stdout",
     "output_type": "stream",
     "text": [
      "3.11\n",
      "3.2\n",
      "3.32\n"
     ]
    }
   ],
   "source": [
    "q1=np.percentile(df['pH'],25,interpolation='midpoint')\n",
    "q2=np.percentile(df['pH'],50,interpolation='midpoint')\n",
    "q3=np.percentile(df['pH'],75,interpolation='midpoint')\n",
    "\n",
    "print(q1)\n",
    "print(q2)\n",
    "print(q3)"
   ]
  },
  {
   "cell_type": "code",
   "execution_count": 188,
   "metadata": {},
   "outputs": [
    {
     "data": {
      "text/plain": [
       "3.2"
      ]
     },
     "execution_count": 188,
     "metadata": {},
     "output_type": "execute_result"
    }
   ],
   "source": [
    "df['pH'].median()"
   ]
  },
  {
   "cell_type": "code",
   "execution_count": 189,
   "metadata": {},
   "outputs": [
    {
     "name": "stdout",
     "output_type": "stream",
     "text": [
      "2.795\n",
      "3.635\n"
     ]
    }
   ],
   "source": [
    "iqr=q3-q1\n",
    "low_limit=q1-1.5*iqr\n",
    "up_limit=q3+1.5*iqr\n",
    "\n",
    "print(low_limit)\n",
    "print(up_limit)"
   ]
  },
  {
   "cell_type": "code",
   "execution_count": 190,
   "metadata": {},
   "outputs": [
    {
     "data": {
      "text/plain": [
       "[3.69,\n",
       " 3.72,\n",
       " 3.64,\n",
       " 3.64,\n",
       " 3.72,\n",
       " 3.72,\n",
       " 3.66,\n",
       " 2.74,\n",
       " 3.82,\n",
       " 3.81,\n",
       " 3.65,\n",
       " 3.65,\n",
       " 3.77,\n",
       " 3.65,\n",
       " 3.74,\n",
       " 2.72,\n",
       " 2.79,\n",
       " 2.79,\n",
       " 3.8,\n",
       " 3.68,\n",
       " 2.77,\n",
       " 3.79,\n",
       " 3.68,\n",
       " 3.66,\n",
       " 3.7,\n",
       " 3.74,\n",
       " 3.8,\n",
       " 3.77,\n",
       " 3.76,\n",
       " 3.69,\n",
       " 3.66,\n",
       " 2.79,\n",
       " 3.75,\n",
       " 3.75,\n",
       " 3.76,\n",
       " 3.66,\n",
       " 3.66,\n",
       " 3.67,\n",
       " 3.9,\n",
       " 3.75,\n",
       " 3.85,\n",
       " 3.67,\n",
       " 3.67,\n",
       " 3.68,\n",
       " 3.74,\n",
       " 3.9,\n",
       " 3.66,\n",
       " 3.66,\n",
       " 3.66,\n",
       " 3.69,\n",
       " 3.69,\n",
       " 3.71,\n",
       " 3.71,\n",
       " 3.78,\n",
       " 3.68,\n",
       " 3.68,\n",
       " 3.78,\n",
       " 4.01,\n",
       " 4.01,\n",
       " 3.71,\n",
       " 3.66,\n",
       " 3.72,\n",
       " 3.72,\n",
       " 3.67]"
      ]
     },
     "execution_count": 190,
     "metadata": {},
     "output_type": "execute_result"
    }
   ],
   "source": [
    "outlier=[]\n",
    "for x in df['pH']:\n",
    "    if((x>up_limit)or(x<low_limit)):\n",
    "        outlier.append(x)\n",
    "outlier"
   ]
  },
  {
   "cell_type": "code",
   "execution_count": 191,
   "metadata": {},
   "outputs": [
    {
     "data": {
      "text/plain": [
       "Index([  72,  250,  507,  509,  830,  834, 1014, 1250, 1255, 1335, 1352, 1385,\n",
       "       1649, 1681, 2036, 2078, 2321, 2369, 2399, 2646, 2711, 2771, 2964, 3025,\n",
       "       3128, 3556, 4109, 4259, 4470, 4565, 4567, 4744, 4943, 4992, 4993, 5195,\n",
       "       5196, 5197, 5451, 5593, 5679, 5681, 5759, 5828, 5832, 5894, 5895, 6009,\n",
       "       6076, 6126, 6198, 6214, 6219, 6275, 6378, 6386, 6389, 6489],\n",
       "      dtype='int64')"
      ]
     },
     "execution_count": 191,
     "metadata": {},
     "output_type": "execute_result"
    }
   ],
   "source": [
    "ind1=df['pH']>up_limit\n",
    "df.loc[ind1].index"
   ]
  },
  {
   "cell_type": "code",
   "execution_count": 192,
   "metadata": {},
   "outputs": [],
   "source": [
    "df.drop([  72,  250,  507,  509,  830,  834, 1014, 1250, 1255, 1335, 1352, 1385,\n",
    "       1649, 1681, 2036, 2078, 2321, 2369, 2399, 2646, 2711, 2771, 2964, 3025,\n",
    "       3128, 3556, 4109, 4259, 4470, 4565, 4567, 4744, 4943, 4992, 4993, 5195,\n",
    "       5196, 5197, 5451, 5593, 5679, 5681, 5759, 5828, 5832, 5894, 5895, 6009,\n",
    "       6076, 6126, 6198, 6214, 6219, 6275, 6378, 6386, 6389, 6489],inplace=True)"
   ]
  },
  {
   "cell_type": "code",
   "execution_count": 193,
   "metadata": {},
   "outputs": [
    {
     "data": {
      "text/plain": [
       "(6041, 13)"
      ]
     },
     "execution_count": 193,
     "metadata": {},
     "output_type": "execute_result"
    }
   ],
   "source": [
    "df.shape"
   ]
  },
  {
   "cell_type": "code",
   "execution_count": 194,
   "metadata": {},
   "outputs": [
    {
     "data": {
      "image/png": "[encoded data removed]",
      "text/plain": [
       "<Figure size 640x480 with 1 Axes>"
      ]
     },
     "metadata": {},
     "output_type": "display_data"
    }
   ],
   "source": [
    "plt.boxplot(df['pH'])\n",
    "plt.title('Box plot of pH')\n",
    "plt.show()"
   ]
  },
  {
   "cell_type": "code",
   "execution_count": 195,
   "metadata": {},
   "outputs": [
    {
     "name": "stdout",
     "output_type": "stream",
     "text": [
      "0.9924\n",
      "0.9949\n",
      "0.99694\n"
     ]
    }
   ],
   "source": [
    "q1=np.percentile(df['density'],25,interpolation='midpoint')\n",
    "q2=np.percentile(df['density'],50,interpolation='midpoint')\n",
    "q3=np.percentile(df['density'],75,interpolation='midpoint')\n",
    "\n",
    "print(q1)\n",
    "print(q2)\n",
    "print(q3)"
   ]
  },
  {
   "cell_type": "code",
   "execution_count": 196,
   "metadata": {},
   "outputs": [
    {
     "data": {
      "text/plain": [
       "0.9949"
      ]
     },
     "execution_count": 196,
     "metadata": {},
     "output_type": "execute_result"
    }
   ],
   "source": [
    "df['density'].median()"
   ]
  },
  {
   "cell_type": "code",
   "execution_count": 197,
   "metadata": {},
   "outputs": [
    {
     "name": "stdout",
     "output_type": "stream",
     "text": [
      "0.9855899999999997\n",
      "1.0037500000000001\n"
     ]
    }
   ],
   "source": [
    "iqr=q3-q1\n",
    "low_limit=q1-1.5*iqr\n",
    "up_limit=q3+1.5*iqr\n",
    "\n",
    "print(low_limit)\n",
    "print(up_limit)"
   ]
  },
  {
   "cell_type": "code",
   "execution_count": 198,
   "metadata": {},
   "outputs": [
    {
     "data": {
      "text/plain": [
       "[1.0103, 1.0103, 1.03898]"
      ]
     },
     "execution_count": 198,
     "metadata": {},
     "output_type": "execute_result"
    }
   ],
   "source": [
    "outlier=[]\n",
    "for x in df['density']:\n",
    "    if((x>up_limit)or(x<low_limit)):\n",
    "        outlier.append(x)\n",
    "outlier"
   ]
  },
  {
   "cell_type": "code",
   "execution_count": 199,
   "metadata": {},
   "outputs": [
    {
     "data": {
      "text/plain": [
       "Index([1653, 1663, 2781], dtype='int64')"
      ]
     },
     "execution_count": 199,
     "metadata": {},
     "output_type": "execute_result"
    }
   ],
   "source": [
    "ind1=df['density']>up_limit\n",
    "df.loc[ind1].index"
   ]
  },
  {
   "cell_type": "code",
   "execution_count": 200,
   "metadata": {},
   "outputs": [],
   "source": [
    "df.drop([1653, 1663, 2781],inplace=True)"
   ]
  },
  {
   "cell_type": "code",
   "execution_count": 201,
   "metadata": {},
   "outputs": [
    {
     "data": {
      "text/plain": [
       "(6038, 13)"
      ]
     },
     "execution_count": 201,
     "metadata": {},
     "output_type": "execute_result"
    }
   ],
   "source": [
    "df.shape"
   ]
  },
  {
   "cell_type": "code",
   "execution_count": 202,
   "metadata": {},
   "outputs": [
    {
     "data": {
      "image/png": "[encoded data removed]",
      "text/plain": [
       "<Figure size 640x480 with 1 Axes>"
      ]
     },
     "metadata": {},
     "output_type": "display_data"
    }
   ],
   "source": [
    "plt.boxplot(df['density'])\n",
    "plt.title('Box plot of density')\n",
    "plt.show()"
   ]
  },
  {
   "cell_type": "code",
   "execution_count": 203,
   "metadata": {},
   "outputs": [
    {
     "name": "stdout",
     "output_type": "stream",
     "text": [
      "80.0\n",
      "120.0\n",
      "157.0\n"
     ]
    }
   ],
   "source": [
    "q1=np.percentile(df['total sulfur dioxide'],25,interpolation='midpoint')\n",
    "q2=np.percentile(df['total sulfur dioxide'],50,interpolation='midpoint')\n",
    "q3=np.percentile(df['total sulfur dioxide'],75,interpolation='midpoint')\n",
    "\n",
    "print(q1)\n",
    "print(q2)\n",
    "print(q3)"
   ]
  },
  {
   "cell_type": "code",
   "execution_count": 204,
   "metadata": {},
   "outputs": [
    {
     "data": {
      "text/plain": [
       "120.0"
      ]
     },
     "execution_count": 204,
     "metadata": {},
     "output_type": "execute_result"
    }
   ],
   "source": [
    "df['total sulfur dioxide'].median()"
   ]
  },
  {
   "cell_type": "code",
   "execution_count": 205,
   "metadata": {},
   "outputs": [
    {
     "name": "stdout",
     "output_type": "stream",
     "text": [
      "-35.5\n",
      "272.5\n"
     ]
    }
   ],
   "source": [
    "iqr=q3-q1\n",
    "low_limit=q1-1.5*iqr\n",
    "up_limit=q3+1.5*iqr\n",
    "\n",
    "print(low_limit)\n",
    "print(up_limit)"
   ]
  },
  {
   "cell_type": "code",
   "execution_count": 206,
   "metadata": {},
   "outputs": [
    {
     "data": {
      "text/plain": [
       "[313.0, 366.5, 307.5, 344.0, 282.0, 303.0, 294.0, 440.0, 278.0, 289.0]"
      ]
     },
     "execution_count": 206,
     "metadata": {},
     "output_type": "execute_result"
    }
   ],
   "source": [
    "outlier=[]\n",
    "for x in df['total sulfur dioxide']:\n",
    "    if((x>up_limit)or(x<low_limit)):\n",
    "        outlier.append(x)\n",
    "outlier"
   ]
  },
  {
   "cell_type": "code",
   "execution_count": 207,
   "metadata": {},
   "outputs": [
    {
     "data": {
      "text/plain": [
       "Index([325, 1417, 1931, 2127, 2378, 2654, 3152, 4745, 5977, 5979], dtype='int64')"
      ]
     },
     "execution_count": 207,
     "metadata": {},
     "output_type": "execute_result"
    }
   ],
   "source": [
    "ind1=df['total sulfur dioxide']>up_limit\n",
    "df.loc[ind1].index"
   ]
  },
  {
   "cell_type": "code",
   "execution_count": 208,
   "metadata": {},
   "outputs": [],
   "source": [
    "df.drop([325, 1417, 1931, 2127, 2378, 2654, 3152, 4745, 5977, 5979],inplace=True)"
   ]
  },
  {
   "cell_type": "code",
   "execution_count": 209,
   "metadata": {},
   "outputs": [
    {
     "data": {
      "text/plain": [
       "(6028, 13)"
      ]
     },
     "execution_count": 209,
     "metadata": {},
     "output_type": "execute_result"
    }
   ],
   "source": [
    "df.shape"
   ]
  },
  {
   "cell_type": "code",
   "execution_count": 210,
   "metadata": {},
   "outputs": [
    {
     "data": {
      "image/png": "[encoded data removed]",
      "text/plain": [
       "<Figure size 640x480 with 1 Axes>"
      ]
     },
     "metadata": {},
     "output_type": "display_data"
    }
   ],
   "source": [
    "plt.boxplot(df['total sulfur dioxide'])\n",
    "plt.title('Box plot of total sulphur dioxide ')\n",
    "plt.show()"
   ]
  },
  {
   "cell_type": "code",
   "execution_count": 211,
   "metadata": {},
   "outputs": [
    {
     "name": "stdout",
     "output_type": "stream",
     "text": [
      "17.0\n",
      "29.0\n",
      "42.0\n"
     ]
    }
   ],
   "source": [
    "q1=np.percentile(df['free sulfur dioxide'],25,interpolation='midpoint')\n",
    "q2=np.percentile(df['free sulfur dioxide'],50,interpolation='midpoint')\n",
    "q3=np.percentile(df['free sulfur dioxide'],75,interpolation='midpoint')\n",
    "\n",
    "print(q1)\n",
    "print(q2)\n",
    "print(q3)"
   ]
  },
  {
   "cell_type": "code",
   "execution_count": 212,
   "metadata": {},
   "outputs": [
    {
     "data": {
      "text/plain": [
       "29.0"
      ]
     },
     "execution_count": 212,
     "metadata": {},
     "output_type": "execute_result"
    }
   ],
   "source": [
    "df['free sulfur dioxide'].median()"
   ]
  },
  {
   "cell_type": "code",
   "execution_count": 213,
   "metadata": {},
   "outputs": [
    {
     "name": "stdout",
     "output_type": "stream",
     "text": [
      "-20.5\n",
      "79.5\n"
     ]
    }
   ],
   "source": [
    "iqr=q3-q1\n",
    "low_limit=q1-1.5*iqr\n",
    "up_limit=q3+1.5*iqr\n",
    "\n",
    "print(low_limit)\n",
    "print(up_limit)"
   ]
  },
  {
   "cell_type": "code",
   "execution_count": 214,
   "metadata": {},
   "outputs": [
    {
     "data": {
      "text/plain": [
       "[81.0,\n",
       " 82.0,\n",
       " 82.5,\n",
       " 87.0,\n",
       " 87.0,\n",
       " 83.0,\n",
       " 122.5,\n",
       " 83.0,\n",
       " 81.0,\n",
       " 80.0,\n",
       " 88.0,\n",
       " 82.0,\n",
       " 118.5,\n",
       " 81.0,\n",
       " 96.0,\n",
       " 83.0,\n",
       " 83.0,\n",
       " 128.0,\n",
       " 110.0,\n",
       " 85.0,\n",
       " 89.0,\n",
       " 86.0,\n",
       " 86.0,\n",
       " 138.5,\n",
       " 95.0,\n",
       " 124.0,\n",
       " 87.0,\n",
       " 87.0,\n",
       " 101.0,\n",
       " 101.0,\n",
       " 108.0,\n",
       " 108.0,\n",
       " 98.0,\n",
       " 98.0,\n",
       " 112.0,\n",
       " 108.0,\n",
       " 98.0,\n",
       " 81.0,\n",
       " 81.0,\n",
       " 81.0,\n",
       " 97.0]"
      ]
     },
     "execution_count": 214,
     "metadata": {},
     "output_type": "execute_result"
    }
   ],
   "source": [
    "outlier=[]\n",
    "for x in df['free sulfur dioxide']:\n",
    "    if((x>up_limit)or(x<low_limit)):\n",
    "        outlier.append(x)\n",
    "outlier"
   ]
  },
  {
   "cell_type": "code",
   "execution_count": 215,
   "metadata": {},
   "outputs": [
    {
     "data": {
      "text/plain": [
       "Index([  67,  297,  387,  395,  405,  459,  659,  752,  766,  932, 1257, 1674,\n",
       "       1688, 1759, 1842, 1855, 1859, 2334, 2336, 2575, 2625, 2728, 2735, 3050,\n",
       "       3072, 3307, 3379, 3387, 3520, 3523, 3620, 3861, 3862, 3863, 3868, 3869,\n",
       "       3871, 3981, 4179, 4185, 4841],\n",
       "      dtype='int64')"
      ]
     },
     "execution_count": 215,
     "metadata": {},
     "output_type": "execute_result"
    }
   ],
   "source": [
    "ind1=df['free sulfur dioxide']>up_limit\n",
    "df.loc[ind1].index"
   ]
  },
  {
   "cell_type": "code",
   "execution_count": 216,
   "metadata": {},
   "outputs": [],
   "source": [
    "df.drop([  67,  297,  387,  395,  405,  459,  659,  752,  766,  932, 1257, 1674,\n",
    "       1688, 1759, 1842, 1855, 1859, 2334, 2336, 2575, 2625, 2728, 2735, 3050,\n",
    "       3072, 3307, 3379, 3387, 3520, 3523, 3620, 3861, 3862, 3863, 3868, 3869,\n",
    "       3871, 3981, 4179, 4185, 4841],inplace=True)"
   ]
  },
  {
   "cell_type": "code",
   "execution_count": 217,
   "metadata": {},
   "outputs": [
    {
     "data": {
      "text/plain": [
       "(5987, 13)"
      ]
     },
     "execution_count": 217,
     "metadata": {},
     "output_type": "execute_result"
    }
   ],
   "source": [
    "df.shape"
   ]
  },
  {
   "cell_type": "code",
   "execution_count": 218,
   "metadata": {},
   "outputs": [
    {
     "data": {
      "image/png": "[encoded data removed]",
      "text/plain": [
       "<Figure size 640x480 with 1 Axes>"
      ]
     },
     "metadata": {},
     "output_type": "display_data"
    }
   ],
   "source": [
    "plt.boxplot(df['free sulfur dioxide'])\n",
    "plt.title('Box plot of free sulphur dioxide ')\n",
    "plt.show()"
   ]
  },
  {
   "cell_type": "code",
   "execution_count": 219,
   "metadata": {},
   "outputs": [
    {
     "name": "stdout",
     "output_type": "stream",
     "text": [
      "0.038\n",
      "0.047\n",
      "0.064\n"
     ]
    }
   ],
   "source": [
    "q1=np.percentile(df['chlorides'],25,interpolation='midpoint')\n",
    "q2=np.percentile(df['chlorides'],50,interpolation='midpoint')\n",
    "q3=np.percentile(df['chlorides'],75,interpolation='midpoint')\n",
    "\n",
    "print(q1)\n",
    "print(q2)\n",
    "print(q3)"
   ]
  },
  {
   "cell_type": "code",
   "execution_count": 220,
   "metadata": {},
   "outputs": [
    {
     "data": {
      "text/plain": [
       "0.047"
      ]
     },
     "execution_count": 220,
     "metadata": {},
     "output_type": "execute_result"
    }
   ],
   "source": [
    "df['chlorides'].median()"
   ]
  },
  {
   "cell_type": "code",
   "execution_count": 221,
   "metadata": {},
   "outputs": [
    {
     "name": "stdout",
     "output_type": "stream",
     "text": [
      "-0.0010000000000000078\n",
      "0.10300000000000001\n"
     ]
    }
   ],
   "source": [
    "iqr=q3-q1\n",
    "low_limit=q1-1.5*iqr\n",
    "up_limit=q3+1.5*iqr\n",
    "\n",
    "print(low_limit)\n",
    "print(up_limit)"
   ]
  },
  {
   "cell_type": "code",
   "execution_count": 222,
   "metadata": {},
   "outputs": [
    {
     "data": {
      "text/plain": [
       "[0.172,\n",
       " 0.173,\n",
       " 0.147,\n",
       " 0.2,\n",
       " 0.197,\n",
       " 0.197,\n",
       " 0.132,\n",
       " 0.108,\n",
       " 0.346,\n",
       " 0.114,\n",
       " 0.186,\n",
       " 0.18,\n",
       " 0.24,\n",
       " 0.29,\n",
       " 0.185,\n",
       " 0.11,\n",
       " 0.13,\n",
       " 0.135,\n",
       " 0.115,\n",
       " 0.17,\n",
       " 0.119,\n",
       " 0.126,\n",
       " 0.15,\n",
       " 0.152,\n",
       " 0.244,\n",
       " 0.137,\n",
       " 0.201,\n",
       " 0.201,\n",
       " 0.301,\n",
       " 0.138,\n",
       " 0.169,\n",
       " 0.168,\n",
       " 0.122,\n",
       " 0.172,\n",
       " 0.167,\n",
       " 0.239,\n",
       " 0.138,\n",
       " 0.137,\n",
       " 0.123,\n",
       " 0.123,\n",
       " 0.133,\n",
       " 0.211,\n",
       " 0.123,\n",
       " 0.123,\n",
       " 0.255,\n",
       " 0.204,\n",
       " 0.208,\n",
       " 0.168,\n",
       " 0.16,\n",
       " 0.179,\n",
       " 0.217,\n",
       " 0.157,\n",
       " 0.157,\n",
       " 0.148,\n",
       " 0.158,\n",
       " 0.157,\n",
       " 0.168,\n",
       " 0.157,\n",
       " 0.147,\n",
       " 0.142,\n",
       " 0.156,\n",
       " 0.119,\n",
       " 0.119,\n",
       " 0.17,\n",
       " 0.171,\n",
       " 0.152,\n",
       " 0.169,\n",
       " 0.112,\n",
       " 0.154,\n",
       " 0.126,\n",
       " 0.126,\n",
       " 0.104,\n",
       " 0.142,\n",
       " 0.184,\n",
       " 0.184,\n",
       " 0.146,\n",
       " 0.117,\n",
       " 0.117,\n",
       " 0.118,\n",
       " 0.16,\n",
       " 0.167,\n",
       " 0.194,\n",
       " 0.144,\n",
       " 0.149,\n",
       " 0.185,\n",
       " 0.175,\n",
       " 0.11,\n",
       " 0.11,\n",
       " 0.174,\n",
       " 0.142,\n",
       " 0.145,\n",
       " 0.208,\n",
       " 0.209,\n",
       " 0.105,\n",
       " 0.176,\n",
       " 0.176,\n",
       " 0.108,\n",
       " 0.271,\n",
       " 0.12,\n",
       " 0.212,\n",
       " 0.117,\n",
       " 0.173,\n",
       " 0.175,\n",
       " 0.174,\n",
       " 0.127,\n",
       " 0.127,\n",
       " 0.136,\n",
       " 0.105,\n",
       " 0.172,\n",
       " 0.114,\n",
       " 0.113,\n",
       " 0.11,\n",
       " 0.111,\n",
       " 0.115,\n",
       " 0.104,\n",
       " 0.122,\n",
       " 0.119,\n",
       " 0.178,\n",
       " 0.119,\n",
       " 0.146,\n",
       " 0.118,\n",
       " 0.117,\n",
       " 0.236,\n",
       " 0.111,\n",
       " 0.343,\n",
       " 0.186,\n",
       " 0.112,\n",
       " 0.213,\n",
       " 0.214,\n",
       " 0.121,\n",
       " 0.107,\n",
       " 0.122,\n",
       " 0.122,\n",
       " 0.105,\n",
       " 0.128,\n",
       " 0.118,\n",
       " 0.118,\n",
       " 0.12,\n",
       " 0.116,\n",
       " 0.109,\n",
       " 0.159,\n",
       " 0.106,\n",
       " 0.124,\n",
       " 0.112,\n",
       " 0.122,\n",
       " 0.122,\n",
       " 0.174,\n",
       " 0.111,\n",
       " 0.121,\n",
       " 0.127,\n",
       " 0.114,\n",
       " 0.125,\n",
       " 0.107,\n",
       " 0.107,\n",
       " 0.2,\n",
       " 0.105,\n",
       " 0.171,\n",
       " 0.118,\n",
       " 0.118,\n",
       " 0.226,\n",
       " 0.226,\n",
       " 0.25,\n",
       " 0.108,\n",
       " 0.11,\n",
       " 0.122,\n",
       " 0.124,\n",
       " 0.124,\n",
       " 0.111,\n",
       " 0.105,\n",
       " 0.105,\n",
       " 0.143,\n",
       " 0.115,\n",
       " 0.107,\n",
       " 0.106,\n",
       " 0.104,\n",
       " 0.106,\n",
       " 0.222,\n",
       " 0.387,\n",
       " 0.112,\n",
       " 0.112,\n",
       " 0.243,\n",
       " 0.241,\n",
       " 0.19,\n",
       " 0.126,\n",
       " 0.114,\n",
       " 0.115,\n",
       " 0.119,\n",
       " 0.104,\n",
       " 0.109,\n",
       " 0.194,\n",
       " 0.112,\n",
       " 0.132,\n",
       " 0.114,\n",
       " 0.161,\n",
       " 0.111,\n",
       " 0.12,\n",
       " 0.115,\n",
       " 0.104,\n",
       " 0.109,\n",
       " 0.11,\n",
       " 0.116,\n",
       " 0.12,\n",
       " 0.123,\n",
       " 0.123,\n",
       " 0.104,\n",
       " 0.117,\n",
       " 0.117,\n",
       " 0.216,\n",
       " 0.171,\n",
       " 0.104,\n",
       " 0.118,\n",
       " 0.118,\n",
       " 0.11,\n",
       " 0.166,\n",
       " 0.166,\n",
       " 0.114,\n",
       " 0.111,\n",
       " 0.132,\n",
       " 0.132,\n",
       " 0.104,\n",
       " 0.123,\n",
       " 0.123,\n",
       " 0.123,\n",
       " 0.114,\n",
       " 0.137,\n",
       " 0.107,\n",
       " 0.166,\n",
       " 0.168,\n",
       " 0.112,\n",
       " 0.115,\n",
       " 0.11,\n",
       " 0.267,\n",
       " 0.107,\n",
       " 0.123,\n",
       " 0.214,\n",
       " 0.214,\n",
       " 0.169,\n",
       " 0.104,\n",
       " 0.205,\n",
       " 0.205,\n",
       " 0.104,\n",
       " 0.104,\n",
       " 0.114,\n",
       " 0.106,\n",
       " 0.106,\n",
       " 0.114,\n",
       " 0.106,\n",
       " 0.235,\n",
       " 0.118]"
      ]
     },
     "execution_count": 222,
     "metadata": {},
     "output_type": "execute_result"
    }
   ],
   "source": [
    "outlier=[]\n",
    "for x in df['chlorides']:\n",
    "    if((x>up_limit)or(x<low_limit)):\n",
    "        outlier.append(x)\n",
    "outlier"
   ]
  },
  {
   "cell_type": "code",
   "execution_count": 223,
   "metadata": {},
   "outputs": [
    {
     "data": {
      "text/plain": [
       "Index([  40,   41,   54,  194,  195,  196,  315,  433,  484,  525,\n",
       "       ...\n",
       "       6374, 6377, 6379, 6380, 6402, 6405, 6416, 6417, 6456, 6476],\n",
       "      dtype='int64', length=249)"
      ]
     },
     "execution_count": 223,
     "metadata": {},
     "output_type": "execute_result"
    }
   ],
   "source": [
    "ind1=df['chlorides']>up_limit\n",
    "df.loc[ind1].index"
   ]
  },
  {
   "cell_type": "code",
   "execution_count": 224,
   "metadata": {},
   "outputs": [
    {
     "data": {
      "text/plain": [
       "Index([  40,   41,   54,  194,  195,  196,  315,  433,  484,  525,\n",
       "       ...\n",
       "       6374, 6377, 6379, 6380, 6402, 6405, 6416, 6417, 6456, 6476],\n",
       "      dtype='int64', length=249)"
      ]
     },
     "execution_count": 224,
     "metadata": {},
     "output_type": "execute_result"
    }
   ],
   "source": [
    "c=df.loc[ind1].index\n",
    "c"
   ]
  },
  {
   "cell_type": "code",
   "execution_count": 225,
   "metadata": {},
   "outputs": [
    {
     "data": {
      "text/html": [
       "<div>\n",
       "<style scoped>\n",
       "    .dataframe tbody tr th:only-of-type {\n",
       "        vertical-align: middle;\n",
       "    }\n",
       "\n",
       "    .dataframe tbody tr th {\n",
       "        vertical-align: top;\n",
       "    }\n",
       "\n",
       "    .dataframe thead th {\n",
       "        text-align: right;\n",
       "    }\n",
       "</style>\n",
       "<table border=\"1\" class=\"dataframe\">\n",
       "  <thead>\n",
       "    <tr style=\"text-align: right;\">\n",
       "      <th></th>\n",
       "      <th>0</th>\n",
       "    </tr>\n",
       "  </thead>\n",
       "  <tbody>\n",
       "    <tr>\n",
       "      <th>0</th>\n",
       "      <td>40</td>\n",
       "    </tr>\n",
       "    <tr>\n",
       "      <th>1</th>\n",
       "      <td>41</td>\n",
       "    </tr>\n",
       "    <tr>\n",
       "      <th>2</th>\n",
       "      <td>54</td>\n",
       "    </tr>\n",
       "    <tr>\n",
       "      <th>3</th>\n",
       "      <td>194</td>\n",
       "    </tr>\n",
       "    <tr>\n",
       "      <th>4</th>\n",
       "      <td>195</td>\n",
       "    </tr>\n",
       "    <tr>\n",
       "      <th>...</th>\n",
       "      <td>...</td>\n",
       "    </tr>\n",
       "    <tr>\n",
       "      <th>244</th>\n",
       "      <td>6405</td>\n",
       "    </tr>\n",
       "    <tr>\n",
       "      <th>245</th>\n",
       "      <td>6416</td>\n",
       "    </tr>\n",
       "    <tr>\n",
       "      <th>246</th>\n",
       "      <td>6417</td>\n",
       "    </tr>\n",
       "    <tr>\n",
       "      <th>247</th>\n",
       "      <td>6456</td>\n",
       "    </tr>\n",
       "    <tr>\n",
       "      <th>248</th>\n",
       "      <td>6476</td>\n",
       "    </tr>\n",
       "  </tbody>\n",
       "</table>\n",
       "<p>249 rows × 1 columns</p>\n",
       "</div>"
      ],
      "text/plain": [
       "        0\n",
       "0      40\n",
       "1      41\n",
       "2      54\n",
       "3     194\n",
       "4     195\n",
       "..    ...\n",
       "244  6405\n",
       "245  6416\n",
       "246  6417\n",
       "247  6456\n",
       "248  6476\n",
       "\n",
       "[249 rows x 1 columns]"
      ]
     },
     "execution_count": 225,
     "metadata": {},
     "output_type": "execute_result"
    }
   ],
   "source": [
    "d=pd.DataFrame(c)\n",
    "d"
   ]
  },
  {
   "cell_type": "code",
   "execution_count": 226,
   "metadata": {},
   "outputs": [],
   "source": [
    "df.drop(c,inplace=True)"
   ]
  },
  {
   "cell_type": "code",
   "execution_count": 227,
   "metadata": {},
   "outputs": [
    {
     "data": {
      "text/plain": [
       "(5738, 13)"
      ]
     },
     "execution_count": 227,
     "metadata": {},
     "output_type": "execute_result"
    }
   ],
   "source": [
    "df.shape"
   ]
  },
  {
   "cell_type": "code",
   "execution_count": 228,
   "metadata": {},
   "outputs": [
    {
     "data": {
      "image/png": "[encoded data removed]",
      "text/plain": [
       "<Figure size 640x480 with 1 Axes>"
      ]
     },
     "metadata": {},
     "output_type": "display_data"
    }
   ],
   "source": [
    "plt.boxplot(df['chlorides'])\n",
    "plt.title('Box plot of chlorides')\n",
    "plt.show()"
   ]
  },
  {
   "cell_type": "code",
   "execution_count": 229,
   "metadata": {},
   "outputs": [
    {
     "name": "stdout",
     "output_type": "stream",
     "text": [
      "1.8\n",
      "3.2\n",
      "8.3\n"
     ]
    }
   ],
   "source": [
    "q1=np.percentile(df['residual sugar'],25,interpolation='midpoint')\n",
    "q2=np.percentile(df['residual sugar'],50,interpolation='midpoint')\n",
    "q3=np.percentile(df['residual sugar'],75,interpolation='midpoint')\n",
    "\n",
    "print(q1)\n",
    "print(q2)\n",
    "print(q3)"
   ]
  },
  {
   "cell_type": "code",
   "execution_count": 230,
   "metadata": {},
   "outputs": [
    {
     "data": {
      "text/plain": [
       "3.2"
      ]
     },
     "execution_count": 230,
     "metadata": {},
     "output_type": "execute_result"
    }
   ],
   "source": [
    "df['residual sugar'].median()"
   ]
  },
  {
   "cell_type": "code",
   "execution_count": 231,
   "metadata": {},
   "outputs": [
    {
     "name": "stdout",
     "output_type": "stream",
     "text": [
      "-7.950000000000002\n",
      "18.050000000000004\n"
     ]
    }
   ],
   "source": [
    "iqr=q3-q1\n",
    "low_limit=q1-1.5*iqr\n",
    "up_limit=q3+1.5*iqr\n",
    "\n",
    "print(low_limit)\n",
    "print(up_limit)"
   ]
  },
  {
   "cell_type": "code",
   "execution_count": 232,
   "metadata": {},
   "outputs": [
    {
     "data": {
      "text/plain": [
       "[20.7,\n",
       " 20.7,\n",
       " 19.25,\n",
       " 18.9,\n",
       " 18.75,\n",
       " 22.0,\n",
       " 22.0,\n",
       " 19.45,\n",
       " 19.45,\n",
       " 19.8,\n",
       " 18.2,\n",
       " 18.2,\n",
       " 18.95,\n",
       " 18.95,\n",
       " 20.8,\n",
       " 18.15,\n",
       " 18.75,\n",
       " 19.3,\n",
       " 18.6,\n",
       " 18.2,\n",
       " 19.45,\n",
       " 19.8,\n",
       " 19.4,\n",
       " 18.15,\n",
       " 18.15,\n",
       " 23.5,\n",
       " 18.35,\n",
       " 19.5,\n",
       " 19.6,\n",
       " 18.3,\n",
       " 18.3,\n",
       " 18.35,\n",
       " 18.35,\n",
       " 18.15,\n",
       " 18.15,\n",
       " 18.15,\n",
       " 18.8,\n",
       " 19.1,\n",
       " 19.35,\n",
       " 19.95,\n",
       " 19.95,\n",
       " 18.1,\n",
       " 18.1,\n",
       " 18.1,\n",
       " 18.95,\n",
       " 20.4,\n",
       " 20.2,\n",
       " 20.2,\n",
       " 18.1,\n",
       " 19.8,\n",
       " 19.8,\n",
       " 18.75,\n",
       " 20.15,\n",
       " 18.5,\n",
       " 18.75,\n",
       " 19.95,\n",
       " 19.5,\n",
       " 19.9,\n",
       " 26.05,\n",
       " 26.05,\n",
       " 18.8,\n",
       " 18.8,\n",
       " 18.15,\n",
       " 18.15,\n",
       " 20.8,\n",
       " 20.3,\n",
       " 18.1,\n",
       " 18.1,\n",
       " 19.3,\n",
       " 19.3,\n",
       " 19.3,\n",
       " 19.25,\n",
       " 19.25,\n",
       " 18.35,\n",
       " 18.4,\n",
       " 19.4]"
      ]
     },
     "execution_count": 232,
     "metadata": {},
     "output_type": "execute_result"
    }
   ],
   "source": [
    "outlier=[]\n",
    "for x in df['residual sugar']:\n",
    "    if((x>up_limit)or(x<low_limit)):\n",
    "        outlier.append(x)\n",
    "outlier"
   ]
  },
  {
   "cell_type": "code",
   "execution_count": 233,
   "metadata": {},
   "outputs": [
    {
     "data": {
      "text/plain": [
       "Index([   0,    7,   14,  103,  111,  182,  191,  261,  265,  292,  398,  403,\n",
       "        410,  414,  444,  469,  717,  762,  763,  946, 1043, 1454, 1487, 1524,\n",
       "       1529, 1608, 1680, 1722, 1775, 1892, 1893, 1973, 1974, 2051, 2052, 2056,\n",
       "       2164, 2411, 2419, 2489, 2492, 2497, 2498, 2500, 2580, 2620, 2785, 2787,\n",
       "       3009, 3014, 3023, 3262, 3420, 3438, 3444, 3497, 3545, 3547, 3619, 3623,\n",
       "       3678, 3694, 3701, 3718, 3730, 4107, 4116, 4117, 4455, 4456, 4457, 4691,\n",
       "       4694, 4748, 4749, 4778],\n",
       "      dtype='int64')"
      ]
     },
     "execution_count": 233,
     "metadata": {},
     "output_type": "execute_result"
    }
   ],
   "source": [
    "ind1=df['residual sugar']>up_limit\n",
    "df.loc[ind1].index"
   ]
  },
  {
   "cell_type": "code",
   "execution_count": 234,
   "metadata": {},
   "outputs": [],
   "source": [
    "df.drop([   0,    7,   14,  103,  111,  182,  191,  261,  265,  292,  398,  403,\n",
    "        410,  414,  444,  469,  717,  762,  763,  946, 1043, 1454, 1487, 1524,\n",
    "       1529, 1608, 1680, 1722, 1775, 1892, 1893, 1973, 1974, 2051, 2052, 2056,\n",
    "       2164, 2411, 2419, 2489, 2492, 2497, 2498, 2500, 2580, 2620, 2785, 2787,\n",
    "       3009, 3014, 3023, 3262, 3420, 3438, 3444, 3497, 3545, 3547, 3619, 3623,\n",
    "       3678, 3694, 3701, 3718, 3730, 4107, 4116, 4117, 4455, 4456, 4457, 4691,\n",
    "       4694, 4748, 4749, 4778],inplace=True)"
   ]
  },
  {
   "cell_type": "code",
   "execution_count": 235,
   "metadata": {},
   "outputs": [
    {
     "data": {
      "text/plain": [
       "(5662, 13)"
      ]
     },
     "execution_count": 235,
     "metadata": {},
     "output_type": "execute_result"
    }
   ],
   "source": [
    "df.shape"
   ]
  },
  {
   "cell_type": "code",
   "execution_count": 236,
   "metadata": {},
   "outputs": [
    {
     "data": {
      "image/png": "[encoded data removed]",
      "text/plain": [
       "<Figure size 640x480 with 1 Axes>"
      ]
     },
     "metadata": {},
     "output_type": "display_data"
    }
   ],
   "source": [
    "plt.boxplot(df['residual sugar'])\n",
    "plt.title('Box plot of residual sugar')\n",
    "plt.show()"
   ]
  },
  {
   "cell_type": "code",
   "execution_count": 237,
   "metadata": {},
   "outputs": [
    {
     "name": "stdout",
     "output_type": "stream",
     "text": [
      "0.25\n",
      "0.31\n",
      "0.39\n"
     ]
    }
   ],
   "source": [
    "q1=np.percentile(df['citric acid'],25,interpolation='midpoint')\n",
    "q2=np.percentile(df['citric acid'],50,interpolation='midpoint')\n",
    "q3=np.percentile(df['citric acid'],75,interpolation='midpoint')\n",
    "\n",
    "print(q1)\n",
    "print(q2)\n",
    "print(q3)"
   ]
  },
  {
   "cell_type": "code",
   "execution_count": 238,
   "metadata": {},
   "outputs": [
    {
     "data": {
      "text/plain": [
       "0.31"
      ]
     },
     "execution_count": 238,
     "metadata": {},
     "output_type": "execute_result"
    }
   ],
   "source": [
    "df['citric acid'].median()"
   ]
  },
  {
   "cell_type": "code",
   "execution_count": 239,
   "metadata": {},
   "outputs": [
    {
     "name": "stdout",
     "output_type": "stream",
     "text": [
      "0.03999999999999998\n",
      "0.6000000000000001\n"
     ]
    }
   ],
   "source": [
    "iqr=q3-q1\n",
    "low_limit=q1-1.5*iqr\n",
    "up_limit=q3+1.5*iqr\n",
    "\n",
    "print(low_limit)\n",
    "print(up_limit)"
   ]
  },
  {
   "cell_type": "code",
   "execution_count": 240,
   "metadata": {},
   "outputs": [
    {
     "data": {
      "text/plain": [
       "[0.03,\n",
       " 0.61,\n",
       " 0.62,\n",
       " 0.63,\n",
       " 0.61,\n",
       " 0.62,\n",
       " 0.63,\n",
       " 0.66,\n",
       " 0.66,\n",
       " 0.0,\n",
       " 0.67,\n",
       " 0.67,\n",
       " 0.88,\n",
       " 0.7,\n",
       " 0.0,\n",
       " 0.0,\n",
       " 0.62,\n",
       " 0.62,\n",
       " 0.7,\n",
       " 0.62,\n",
       " 0.62,\n",
       " 0.02,\n",
       " 0.65,\n",
       " 0.65,\n",
       " 0.71,\n",
       " 0.66,\n",
       " 0.66,\n",
       " 0.68,\n",
       " 0.68,\n",
       " 0.68,\n",
       " 0.68,\n",
       " 0.72,\n",
       " 0.69,\n",
       " 0.7,\n",
       " 1.66,\n",
       " 0.0,\n",
       " 0.0,\n",
       " 0.0,\n",
       " 0.65,\n",
       " 0.0,\n",
       " 0.62,\n",
       " 0.62,\n",
       " 0.01,\n",
       " 0.74,\n",
       " 0.69,\n",
       " 0.69,\n",
       " 0.0,\n",
       " 0.64,\n",
       " 0.72,\n",
       " 0.65,\n",
       " 0.68,\n",
       " 0.65,\n",
       " 0.74,\n",
       " 0.71,\n",
       " 0.68,\n",
       " 0.72,\n",
       " 0.64,\n",
       " 0.02,\n",
       " 0.74,\n",
       " 0.74,\n",
       " 0.74,\n",
       " 0.74,\n",
       " 0.74,\n",
       " 0.74,\n",
       " 0.74,\n",
       " 0.74,\n",
       " 0.74,\n",
       " 0.74,\n",
       " 0.74,\n",
       " 0.74,\n",
       " 0.74,\n",
       " 0.74,\n",
       " 0.74,\n",
       " 0.74,\n",
       " 0.74,\n",
       " 0.74,\n",
       " 0.74,\n",
       " 0.74,\n",
       " 0.74,\n",
       " 0.74,\n",
       " 0.74,\n",
       " 0.74,\n",
       " 0.74,\n",
       " 0.74,\n",
       " 0.74,\n",
       " 0.74,\n",
       " 0.74,\n",
       " 0.74,\n",
       " 0.74,\n",
       " 0.74,\n",
       " 0.74,\n",
       " 0.01,\n",
       " 0.01,\n",
       " 0.74,\n",
       " 0.74,\n",
       " 0.0,\n",
       " 0.61,\n",
       " 0.61,\n",
       " 0.61,\n",
       " 0.02,\n",
       " 0.67,\n",
       " 0.67,\n",
       " 0.67,\n",
       " 0.65,\n",
       " 0.03,\n",
       " 0.64,\n",
       " 0.64,\n",
       " 0.61,\n",
       " 0.62,\n",
       " 0.63,\n",
       " 0.73,\n",
       " 0.68,\n",
       " 0.78,\n",
       " 0.79,\n",
       " 0.64,\n",
       " 0.65,\n",
       " 0.65,\n",
       " 0.0,\n",
       " 0.64,\n",
       " 0.71,\n",
       " 0.72,\n",
       " 0.66,\n",
       " 0.8,\n",
       " 0.8,\n",
       " 0.02,\n",
       " 0.0,\n",
       " 0.62,\n",
       " 0.0,\n",
       " 0.71,\n",
       " 0.71,\n",
       " 0.71,\n",
       " 0.61,\n",
       " 0.61,\n",
       " 0.0,\n",
       " 0.62,\n",
       " 0.62,\n",
       " 0.01,\n",
       " 0.01,\n",
       " 0.61,\n",
       " 0.0,\n",
       " 0.78,\n",
       " 0.0,\n",
       " 0.91,\n",
       " 0.91,\n",
       " 0.62,\n",
       " 0.73,\n",
       " 0.0,\n",
       " 0.67,\n",
       " 0.0,\n",
       " 0.02,\n",
       " 0.0,\n",
       " 0.0,\n",
       " 0.0,\n",
       " 0.0,\n",
       " 0.0,\n",
       " 0.02,\n",
       " 0.0,\n",
       " 0.0,\n",
       " 0.0,\n",
       " 0.0,\n",
       " 0.02,\n",
       " 0.64,\n",
       " 0.64,\n",
       " 0.0,\n",
       " 0.0,\n",
       " 0.0,\n",
       " 0.0,\n",
       " 0.0,\n",
       " 0.01,\n",
       " 0.02,\n",
       " 0.03,\n",
       " 0.03,\n",
       " 0.0,\n",
       " 0.03,\n",
       " 0.03,\n",
       " 0.03,\n",
       " 0.0,\n",
       " 0.02,\n",
       " 0.74,\n",
       " 0.74,\n",
       " 0.64,\n",
       " 0.0,\n",
       " 0.0,\n",
       " 0.0,\n",
       " 0.0,\n",
       " 0.0,\n",
       " 0.0,\n",
       " 0.0,\n",
       " 0.03,\n",
       " 0.0,\n",
       " 0.62,\n",
       " 0.01,\n",
       " 0.0,\n",
       " 0.0,\n",
       " 0.0,\n",
       " 0.01,\n",
       " 0.66,\n",
       " 0.66,\n",
       " 0.66,\n",
       " 0.66,\n",
       " 0.61,\n",
       " 0.02,\n",
       " 0.63,\n",
       " 0.68,\n",
       " 0.68,\n",
       " 0.65,\n",
       " 0.76,\n",
       " 0.66,\n",
       " 0.0,\n",
       " 0.03,\n",
       " 0.03,\n",
       " 0.63,\n",
       " 0.69,\n",
       " 0.63,\n",
       " 0.63,\n",
       " 0.73,\n",
       " 0.65,\n",
       " 0.76,\n",
       " 0.01,\n",
       " 0.69,\n",
       " 0.69,\n",
       " 0.03,\n",
       " 0.63,\n",
       " 0.63,\n",
       " 0.66,\n",
       " 0.68,\n",
       " 0.7,\n",
       " 0.69,\n",
       " 0.02,\n",
       " 0.65,\n",
       " 0.73,\n",
       " 0.73,\n",
       " 0.63,\n",
       " 0.75,\n",
       " 0.74,\n",
       " 0.74,\n",
       " 0.01,\n",
       " 0.0,\n",
       " 0.0,\n",
       " 0.0,\n",
       " 0.01,\n",
       " 0.02,\n",
       " 0.0,\n",
       " 0.02,\n",
       " 0.02,\n",
       " 0.02,\n",
       " 0.02,\n",
       " 0.0,\n",
       " 0.0,\n",
       " 0.02,\n",
       " 0.02,\n",
       " 0.03,\n",
       " 0.03,\n",
       " 0.0,\n",
       " 0.0,\n",
       " 0.0,\n",
       " 0.01,\n",
       " 0.0,\n",
       " 0.0,\n",
       " 0.0,\n",
       " 0.02,\n",
       " 0.01,\n",
       " 0.02,\n",
       " 0.0,\n",
       " 0.03,\n",
       " 0.01,\n",
       " 0.02,\n",
       " 0.0,\n",
       " 0.0,\n",
       " 0.0,\n",
       " 0.02,\n",
       " 0.03,\n",
       " 0.01,\n",
       " 0.03,\n",
       " 0.0,\n",
       " 0.01,\n",
       " 0.0,\n",
       " 0.0,\n",
       " 0.03,\n",
       " 0.03,\n",
       " 0.03,\n",
       " 0.01,\n",
       " 0.01,\n",
       " 0.02,\n",
       " 0.0,\n",
       " 0.01,\n",
       " 0.01,\n",
       " 0.0,\n",
       " 0.0,\n",
       " 0.0,\n",
       " 0.01,\n",
       " 0.0,\n",
       " 0.0,\n",
       " 0.01,\n",
       " 0.0,\n",
       " 0.01,\n",
       " 0.0,\n",
       " 0.0,\n",
       " 0.0,\n",
       " 0.0,\n",
       " 0.65,\n",
       " 0.65,\n",
       " 0.65,\n",
       " 0.0,\n",
       " 0.0,\n",
       " 0.0,\n",
       " 0.0,\n",
       " 0.0,\n",
       " 0.0,\n",
       " 0.0,\n",
       " 0.0,\n",
       " 0.0,\n",
       " 0.0,\n",
       " 0.03,\n",
       " 0.0,\n",
       " 0.03,\n",
       " 0.02,\n",
       " 0.02,\n",
       " 0.03,\n",
       " 0.01,\n",
       " 0.01,\n",
       " 0.0,\n",
       " 0.01,\n",
       " 0.0,\n",
       " 0.0,\n",
       " 0.01,\n",
       " 0.01,\n",
       " 0.0,\n",
       " 0.02,\n",
       " 0.0,\n",
       " 0.0,\n",
       " 0.0,\n",
       " 0.0,\n",
       " 0.0,\n",
       " 0.0,\n",
       " 0.0,\n",
       " 0.0,\n",
       " 0.0,\n",
       " 0.02,\n",
       " 0.0,\n",
       " 0.0,\n",
       " 0.0,\n",
       " 0.02,\n",
       " 0.02,\n",
       " 0.02,\n",
       " 0.02,\n",
       " 0.02,\n",
       " 0.01,\n",
       " 0.03,\n",
       " 0.03,\n",
       " 0.0,\n",
       " 0.01,\n",
       " 0.03,\n",
       " 0.03,\n",
       " 0.03,\n",
       " 0.02,\n",
       " 0.0,\n",
       " 0.02,\n",
       " 0.02,\n",
       " 0.02,\n",
       " 0.0,\n",
       " 0.0,\n",
       " 0.0,\n",
       " 0.0,\n",
       " 0.01,\n",
       " 0.01,\n",
       " 0.0,\n",
       " 0.0,\n",
       " 0.0,\n",
       " 0.02,\n",
       " 0.02,\n",
       " 0.02,\n",
       " 0.02,\n",
       " 0.0,\n",
       " 0.01,\n",
       " 0.02,\n",
       " 0.63,\n",
       " 0.0,\n",
       " 0.0,\n",
       " 0.03,\n",
       " 0.01,\n",
       " 0.02,\n",
       " 0.03,\n",
       " 0.03,\n",
       " 0.02,\n",
       " 0.02,\n",
       " 0.02,\n",
       " 0.0,\n",
       " 0.0,\n",
       " 0.01,\n",
       " 0.0,\n",
       " 0.02,\n",
       " 0.02,\n",
       " 0.02,\n",
       " 0.64,\n",
       " 0.78,\n",
       " 0.63]"
      ]
     },
     "execution_count": 240,
     "metadata": {},
     "output_type": "execute_result"
    }
   ],
   "source": [
    "outlier=[]\n",
    "for x in df['citric acid']:\n",
    "    if((x>up_limit)or(x<low_limit)):\n",
    "        outlier.append(x)\n",
    "outlier"
   ]
  },
  {
   "cell_type": "code",
   "execution_count": 241,
   "metadata": {},
   "outputs": [
    {
     "data": {
      "text/plain": [
       "Index([  84,   85,   86,   88,   89,   90,   96,   99,  137,  141,\n",
       "       ...\n",
       "       5407, 5437, 5442, 5961, 5975, 5976, 6352, 6464, 6472, 6474],\n",
       "      dtype='int64', length=167)"
      ]
     },
     "execution_count": 241,
     "metadata": {},
     "output_type": "execute_result"
    }
   ],
   "source": [
    "ind1=df['citric acid']>up_limit\n",
    "df.loc[ind1].index"
   ]
  },
  {
   "cell_type": "code",
   "execution_count": 242,
   "metadata": {},
   "outputs": [
    {
     "data": {
      "text/plain": [
       "Index([  84,   85,   86,   88,   89,   90,   96,   99,  137,  141,\n",
       "       ...\n",
       "       5407, 5437, 5442, 5961, 5975, 5976, 6352, 6464, 6472, 6474],\n",
       "      dtype='int64', length=167)"
      ]
     },
     "execution_count": 242,
     "metadata": {},
     "output_type": "execute_result"
    }
   ],
   "source": [
    "e=df.loc[ind1].index\n",
    "e"
   ]
  },
  {
   "cell_type": "code",
   "execution_count": 243,
   "metadata": {},
   "outputs": [
    {
     "data": {
      "text/html": [
       "<div>\n",
       "<style scoped>\n",
       "    .dataframe tbody tr th:only-of-type {\n",
       "        vertical-align: middle;\n",
       "    }\n",
       "\n",
       "    .dataframe tbody tr th {\n",
       "        vertical-align: top;\n",
       "    }\n",
       "\n",
       "    .dataframe thead th {\n",
       "        text-align: right;\n",
       "    }\n",
       "</style>\n",
       "<table border=\"1\" class=\"dataframe\">\n",
       "  <thead>\n",
       "    <tr style=\"text-align: right;\">\n",
       "      <th></th>\n",
       "      <th>0</th>\n",
       "    </tr>\n",
       "  </thead>\n",
       "  <tbody>\n",
       "    <tr>\n",
       "      <th>0</th>\n",
       "      <td>84</td>\n",
       "    </tr>\n",
       "    <tr>\n",
       "      <th>1</th>\n",
       "      <td>85</td>\n",
       "    </tr>\n",
       "    <tr>\n",
       "      <th>2</th>\n",
       "      <td>86</td>\n",
       "    </tr>\n",
       "    <tr>\n",
       "      <th>3</th>\n",
       "      <td>88</td>\n",
       "    </tr>\n",
       "    <tr>\n",
       "      <th>4</th>\n",
       "      <td>89</td>\n",
       "    </tr>\n",
       "    <tr>\n",
       "      <th>...</th>\n",
       "      <td>...</td>\n",
       "    </tr>\n",
       "    <tr>\n",
       "      <th>162</th>\n",
       "      <td>5976</td>\n",
       "    </tr>\n",
       "    <tr>\n",
       "      <th>163</th>\n",
       "      <td>6352</td>\n",
       "    </tr>\n",
       "    <tr>\n",
       "      <th>164</th>\n",
       "      <td>6464</td>\n",
       "    </tr>\n",
       "    <tr>\n",
       "      <th>165</th>\n",
       "      <td>6472</td>\n",
       "    </tr>\n",
       "    <tr>\n",
       "      <th>166</th>\n",
       "      <td>6474</td>\n",
       "    </tr>\n",
       "  </tbody>\n",
       "</table>\n",
       "<p>167 rows × 1 columns</p>\n",
       "</div>"
      ],
      "text/plain": [
       "        0\n",
       "0      84\n",
       "1      85\n",
       "2      86\n",
       "3      88\n",
       "4      89\n",
       "..    ...\n",
       "162  5976\n",
       "163  6352\n",
       "164  6464\n",
       "165  6472\n",
       "166  6474\n",
       "\n",
       "[167 rows x 1 columns]"
      ]
     },
     "execution_count": 243,
     "metadata": {},
     "output_type": "execute_result"
    }
   ],
   "source": [
    "d=pd.DataFrame(e)\n",
    "d"
   ]
  },
  {
   "cell_type": "code",
   "execution_count": 244,
   "metadata": {},
   "outputs": [],
   "source": [
    "df.drop(e,inplace=True)"
   ]
  },
  {
   "cell_type": "code",
   "execution_count": 245,
   "metadata": {},
   "outputs": [
    {
     "data": {
      "text/plain": [
       "(5495, 13)"
      ]
     },
     "execution_count": 245,
     "metadata": {},
     "output_type": "execute_result"
    }
   ],
   "source": [
    "df.shape"
   ]
  },
  {
   "cell_type": "code",
   "execution_count": 246,
   "metadata": {},
   "outputs": [
    {
     "data": {
      "image/png": "[encoded data removed]",
      "text/plain": [
       "<Figure size 640x480 with 1 Axes>"
      ]
     },
     "metadata": {},
     "output_type": "display_data"
    }
   ],
   "source": [
    "plt.boxplot(df['citric acid'])\n",
    "plt.title('Box plot of citric acid')\n",
    "plt.show()"
   ]
  },
  {
   "cell_type": "code",
   "execution_count": 247,
   "metadata": {},
   "outputs": [
    {
     "name": "stdout",
     "output_type": "stream",
     "text": [
      "0.22\n",
      "0.29\n",
      "0.39\n"
     ]
    }
   ],
   "source": [
    "q1=np.percentile(df['volatile acidity'],25,interpolation='midpoint')\n",
    "q2=np.percentile(df['volatile acidity'],50,interpolation='midpoint')\n",
    "q3=np.percentile(df['volatile acidity'],75,interpolation='midpoint')\n",
    "\n",
    "print(q1)\n",
    "print(q2)\n",
    "print(q3)"
   ]
  },
  {
   "cell_type": "code",
   "execution_count": 248,
   "metadata": {},
   "outputs": [
    {
     "data": {
      "text/plain": [
       "0.29"
      ]
     },
     "execution_count": 248,
     "metadata": {},
     "output_type": "execute_result"
    }
   ],
   "source": [
    "df['volatile acidity'].median()"
   ]
  },
  {
   "cell_type": "code",
   "execution_count": 249,
   "metadata": {},
   "outputs": [
    {
     "name": "stdout",
     "output_type": "stream",
     "text": [
      "-0.035\n",
      "0.645\n"
     ]
    }
   ],
   "source": [
    "iqr=q3-q1\n",
    "low_limit=q1-1.5*iqr\n",
    "up_limit=q3+1.5*iqr\n",
    "\n",
    "print(low_limit)\n",
    "print(up_limit)"
   ]
  },
  {
   "cell_type": "code",
   "execution_count": 250,
   "metadata": {},
   "outputs": [
    {
     "data": {
      "text/plain": [
       "[0.67,\n",
       " 0.67,\n",
       " 0.685,\n",
       " 0.905,\n",
       " 0.655,\n",
       " 0.705,\n",
       " 0.68,\n",
       " 0.67,\n",
       " 0.85,\n",
       " 0.91,\n",
       " 0.71,\n",
       " 1.005,\n",
       " 0.76,\n",
       " 0.93,\n",
       " 0.695,\n",
       " 0.705,\n",
       " 0.815,\n",
       " 0.68,\n",
       " 0.74,\n",
       " 0.78,\n",
       " 0.68,\n",
       " 0.75,\n",
       " 0.655,\n",
       " 0.67,\n",
       " 0.73,\n",
       " 0.65,\n",
       " 1.1,\n",
       " 0.65,\n",
       " 0.66,\n",
       " 0.695,\n",
       " 0.695,\n",
       " 0.69,\n",
       " 0.69,\n",
       " 0.7,\n",
       " 0.88,\n",
       " 0.76,\n",
       " 0.7,\n",
       " 0.66,\n",
       " 0.65,\n",
       " 0.71,\n",
       " 0.675,\n",
       " 0.655,\n",
       " 0.67,\n",
       " 0.66,\n",
       " 0.735,\n",
       " 0.725,\n",
       " 0.725,\n",
       " 0.705,\n",
       " 0.67,\n",
       " 0.69,\n",
       " 0.675,\n",
       " 0.75,\n",
       " 0.775,\n",
       " 0.9,\n",
       " 0.69,\n",
       " 0.695,\n",
       " 0.71,\n",
       " 1.33,\n",
       " 1.33,\n",
       " 1.04,\n",
       " 0.745,\n",
       " 0.715,\n",
       " 0.745,\n",
       " 0.715,\n",
       " 0.68,\n",
       " 0.68,\n",
       " 0.95,\n",
       " 0.885,\n",
       " 0.805,\n",
       " 0.73,\n",
       " 0.705,\n",
       " 0.835,\n",
       " 1.09,\n",
       " 0.725,\n",
       " 0.735,\n",
       " 0.725,\n",
       " 0.82,\n",
       " 1.0,\n",
       " 1.0,\n",
       " 0.68,\n",
       " 0.775,\n",
       " 0.695,\n",
       " 0.975,\n",
       " 0.87,\n",
       " 0.715,\n",
       " 0.65,\n",
       " 0.83,\n",
       " 0.705,\n",
       " 0.77,\n",
       " 0.66,\n",
       " 0.77,\n",
       " 0.66,\n",
       " 0.65,\n",
       " 0.685,\n",
       " 0.795,\n",
       " 0.665,\n",
       " 0.75,\n",
       " 0.7,\n",
       " 0.765,\n",
       " 0.66,\n",
       " 0.765,\n",
       " 0.69,\n",
       " 0.735,\n",
       " 0.77,\n",
       " 0.84,\n",
       " 0.96,\n",
       " 0.96,\n",
       " 0.84,\n",
       " 0.67,\n",
       " 0.78,\n",
       " 0.67,\n",
       " 0.735,\n",
       " 0.82,\n",
       " 0.68,\n",
       " 0.68,\n",
       " 0.685,\n",
       " 0.67,\n",
       " 0.67,\n",
       " 0.775,\n",
       " 0.69,\n",
       " 0.69,\n",
       " 0.67,\n",
       " 0.825,\n",
       " 0.715,\n",
       " 0.66,\n",
       " 0.72,\n",
       " 0.915,\n",
       " 0.835,\n",
       " 0.84,\n",
       " 0.88,\n",
       " 0.885,\n",
       " 0.845,\n",
       " 0.84,\n",
       " 0.73,\n",
       " 0.73,\n",
       " 1.24,\n",
       " 0.73,\n",
       " 0.8,\n",
       " 0.78,\n",
       " 0.78,\n",
       " 0.98,\n",
       " 0.78,\n",
       " 0.65,\n",
       " 0.66,\n",
       " 1.185,\n",
       " 0.92,\n",
       " 0.65,\n",
       " 0.65,\n",
       " 1.02,\n",
       " 0.65,\n",
       " 0.765,\n",
       " 1.035,\n",
       " 0.78,\n",
       " 1.025,\n",
       " 0.69,\n",
       " 0.74,\n",
       " 0.66,\n",
       " 1.115,\n",
       " 0.66,\n",
       " 0.72,\n",
       " 0.865,\n",
       " 0.875,\n",
       " 0.835,\n",
       " 0.69,\n",
       " 0.76,\n",
       " 0.65,\n",
       " 0.65,\n",
       " 0.65,\n",
       " 0.91,\n",
       " 0.98,\n",
       " 0.87,\n",
       " 0.87,\n",
       " 0.655,\n",
       " 0.7,\n",
       " 0.655,\n",
       " 0.68,\n",
       " 0.67,\n",
       " 0.72,\n",
       " 0.685,\n",
       " 1.0,\n",
       " 0.82,\n",
       " 0.715,\n",
       " 0.66,\n",
       " 0.685,\n",
       " 0.685,\n",
       " 0.685,\n",
       " 0.665,\n",
       " 0.685,\n",
       " 0.68,\n",
       " 0.735,\n",
       " 0.715,\n",
       " 0.715,\n",
       " 0.715,\n",
       " 0.75,\n",
       " 0.8,\n",
       " 0.66,\n",
       " 0.66,\n",
       " 1.02,\n",
       " 0.67,\n",
       " 0.66,\n",
       " 0.86,\n",
       " 0.84,\n",
       " 0.69,\n",
       " 1.005,\n",
       " 0.71,\n",
       " 0.83,\n",
       " 0.795,\n",
       " 0.82,\n",
       " 0.745,\n",
       " 0.91,\n",
       " 0.965,\n",
       " 0.78,\n",
       " 0.74,\n",
       " 0.77,\n",
       " 0.77,\n",
       " 0.78,\n",
       " 0.69,\n",
       " 0.69,\n",
       " 0.69,\n",
       " 0.66,\n",
       " 0.76,\n",
       " 0.785,\n",
       " 0.785,\n",
       " 0.88,\n",
       " 0.66,\n",
       " 0.66,\n",
       " 0.8,\n",
       " 0.955,\n",
       " 0.65,\n",
       " 0.65,\n",
       " 0.815,\n",
       " 0.75,\n",
       " 0.75,\n",
       " 0.73,\n",
       " 0.67,\n",
       " 0.74,\n",
       " 0.66,\n",
       " 0.7,\n",
       " 1.02,\n",
       " 0.78,\n",
       " 0.715,\n",
       " 0.715,\n",
       " 0.765,\n",
       " 0.74,\n",
       " 0.755,\n",
       " 0.86,\n",
       " 0.79,\n",
       " 0.69,\n",
       " 0.68,\n",
       " 0.69,\n",
       " 1.18,\n",
       " 0.66,\n",
       " 0.775,\n",
       " 0.655,\n",
       " 0.655,\n",
       " 0.85,\n",
       " 0.83,\n",
       " 0.74,\n",
       " 0.77,\n",
       " 0.885,\n",
       " 0.83,\n",
       " 0.81,\n",
       " 0.685,\n",
       " 0.675,\n",
       " 0.67,\n",
       " 0.69,\n",
       " 0.69,\n",
       " 0.96,\n",
       " 0.915,\n",
       " 0.67,\n",
       " 0.785,\n",
       " 0.67,\n",
       " 0.785,\n",
       " 0.67,\n",
       " 0.9,\n",
       " 0.785,\n",
       " 1.04,\n",
       " 0.98,\n",
       " 0.69,\n",
       " 0.7,\n",
       " 0.875,\n",
       " 0.91,\n",
       " 0.655,\n",
       " 0.68,\n",
       " 0.65,\n",
       " 0.74,\n",
       " 0.895,\n",
       " 0.74,\n",
       " 0.725,\n",
       " 0.82,\n",
       " 0.76,\n",
       " 0.81,\n",
       " 0.69,\n",
       " 0.79,\n",
       " 0.84,\n",
       " 0.84,\n",
       " 0.69,\n",
       " 0.705,\n",
       " 0.855,\n",
       " 0.68,\n",
       " 0.67,\n",
       " 0.68,\n",
       " 0.735,\n",
       " 0.855,\n",
       " 0.88,\n",
       " 0.855,\n",
       " 0.695,\n",
       " 0.695,\n",
       " 0.695,\n",
       " 0.67,\n",
       " 0.695,\n",
       " 0.69,\n",
       " 0.7,\n",
       " 0.715,\n",
       " 0.725,\n",
       " 0.725]"
      ]
     },
     "execution_count": 250,
     "metadata": {},
     "output_type": "execute_result"
    }
   ],
   "source": [
    "outlier=[]\n",
    "for x in df['volatile acidity']:\n",
    "    if((x>up_limit)or(x<low_limit)):\n",
    "        outlier.append(x)\n",
    "outlier"
   ]
  },
  {
   "cell_type": "code",
   "execution_count": 251,
   "metadata": {},
   "outputs": [
    {
     "data": {
      "text/plain": [
       "Index([  23,  178,  221,  372,  821,  948, 1040, 1401, 1476, 1856,\n",
       "       ...\n",
       "       6460, 6461, 6462, 6463, 6465, 6470, 6475, 6480, 6486, 6487],\n",
       "      dtype='int64', length=316)"
      ]
     },
     "execution_count": 251,
     "metadata": {},
     "output_type": "execute_result"
    }
   ],
   "source": [
    "ind1=df['volatile acidity']>up_limit\n",
    "df.loc[ind1].index"
   ]
  },
  {
   "cell_type": "code",
   "execution_count": 252,
   "metadata": {},
   "outputs": [
    {
     "data": {
      "text/plain": [
       "Index([  23,  178,  221,  372,  821,  948, 1040, 1401, 1476, 1856,\n",
       "       ...\n",
       "       6460, 6461, 6462, 6463, 6465, 6470, 6475, 6480, 6486, 6487],\n",
       "      dtype='int64', length=316)"
      ]
     },
     "execution_count": 252,
     "metadata": {},
     "output_type": "execute_result"
    }
   ],
   "source": [
    "f=df.loc[ind1].index\n",
    "f"
   ]
  },
  {
   "cell_type": "code",
   "execution_count": 253,
   "metadata": {},
   "outputs": [
    {
     "data": {
      "text/html": [
       "<div>\n",
       "<style scoped>\n",
       "    .dataframe tbody tr th:only-of-type {\n",
       "        vertical-align: middle;\n",
       "    }\n",
       "\n",
       "    .dataframe tbody tr th {\n",
       "        vertical-align: top;\n",
       "    }\n",
       "\n",
       "    .dataframe thead th {\n",
       "        text-align: right;\n",
       "    }\n",
       "</style>\n",
       "<table border=\"1\" class=\"dataframe\">\n",
       "  <thead>\n",
       "    <tr style=\"text-align: right;\">\n",
       "      <th></th>\n",
       "      <th>0</th>\n",
       "    </tr>\n",
       "  </thead>\n",
       "  <tbody>\n",
       "    <tr>\n",
       "      <th>0</th>\n",
       "      <td>23</td>\n",
       "    </tr>\n",
       "    <tr>\n",
       "      <th>1</th>\n",
       "      <td>178</td>\n",
       "    </tr>\n",
       "    <tr>\n",
       "      <th>2</th>\n",
       "      <td>221</td>\n",
       "    </tr>\n",
       "    <tr>\n",
       "      <th>3</th>\n",
       "      <td>372</td>\n",
       "    </tr>\n",
       "    <tr>\n",
       "      <th>4</th>\n",
       "      <td>821</td>\n",
       "    </tr>\n",
       "    <tr>\n",
       "      <th>...</th>\n",
       "      <td>...</td>\n",
       "    </tr>\n",
       "    <tr>\n",
       "      <th>311</th>\n",
       "      <td>6470</td>\n",
       "    </tr>\n",
       "    <tr>\n",
       "      <th>312</th>\n",
       "      <td>6475</td>\n",
       "    </tr>\n",
       "    <tr>\n",
       "      <th>313</th>\n",
       "      <td>6480</td>\n",
       "    </tr>\n",
       "    <tr>\n",
       "      <th>314</th>\n",
       "      <td>6486</td>\n",
       "    </tr>\n",
       "    <tr>\n",
       "      <th>315</th>\n",
       "      <td>6487</td>\n",
       "    </tr>\n",
       "  </tbody>\n",
       "</table>\n",
       "<p>316 rows × 1 columns</p>\n",
       "</div>"
      ],
      "text/plain": [
       "        0\n",
       "0      23\n",
       "1     178\n",
       "2     221\n",
       "3     372\n",
       "4     821\n",
       "..    ...\n",
       "311  6470\n",
       "312  6475\n",
       "313  6480\n",
       "314  6486\n",
       "315  6487\n",
       "\n",
       "[316 rows x 1 columns]"
      ]
     },
     "execution_count": 253,
     "metadata": {},
     "output_type": "execute_result"
    }
   ],
   "source": [
    "d=pd.DataFrame(f)\n",
    "d"
   ]
  },
  {
   "cell_type": "code",
   "execution_count": 254,
   "metadata": {},
   "outputs": [],
   "source": [
    "df.drop(f,inplace=True)"
   ]
  },
  {
   "cell_type": "code",
   "execution_count": 256,
   "metadata": {},
   "outputs": [
    {
     "data": {
      "text/plain": [
       "(5179, 13)"
      ]
     },
     "execution_count": 256,
     "metadata": {},
     "output_type": "execute_result"
    }
   ],
   "source": [
    "df.shape"
   ]
  },
  {
   "cell_type": "code",
   "execution_count": 257,
   "metadata": {},
   "outputs": [
    {
     "data": {
      "image/png": "[encoded data removed]",
      "text/plain": [
       "<Figure size 640x480 with 1 Axes>"
      ]
     },
     "metadata": {},
     "output_type": "display_data"
    }
   ],
   "source": [
    "plt.boxplot(df['volatile acidity'])\n",
    "plt.title('Box plot of volatile acidity')\n",
    "plt.show()"
   ]
  },
  {
   "cell_type": "code",
   "execution_count": 258,
   "metadata": {},
   "outputs": [
    {
     "name": "stdout",
     "output_type": "stream",
     "text": [
      "6.4\n",
      "6.9\n",
      "7.6\n"
     ]
    }
   ],
   "source": [
    "q1=np.percentile(df['fixed acidity'],25,interpolation='midpoint')\n",
    "q2=np.percentile(df['fixed acidity'],50,interpolation='midpoint')\n",
    "q3=np.percentile(df['fixed acidity'],75,interpolation='midpoint')\n",
    "\n",
    "print(q1)\n",
    "print(q2)\n",
    "print(q3)"
   ]
  },
  {
   "cell_type": "code",
   "execution_count": 259,
   "metadata": {},
   "outputs": [
    {
     "data": {
      "text/plain": [
       "6.9"
      ]
     },
     "execution_count": 259,
     "metadata": {},
     "output_type": "execute_result"
    }
   ],
   "source": [
    "df['fixed acidity'].median()"
   ]
  },
  {
   "cell_type": "code",
   "execution_count": 260,
   "metadata": {},
   "outputs": [
    {
     "name": "stdout",
     "output_type": "stream",
     "text": [
      "4.600000000000001\n",
      "9.399999999999999\n"
     ]
    }
   ],
   "source": [
    "iqr=q3-q1\n",
    "low_limit=q1-1.5*iqr\n",
    "up_limit=q3+1.5*iqr\n",
    "\n",
    "print(low_limit)\n",
    "print(up_limit)"
   ]
  },
  {
   "cell_type": "code",
   "execution_count": 261,
   "metadata": {},
   "outputs": [
    {
     "data": {
      "text/plain": [
       "[9.8,\n",
       " 9.8,\n",
       " 10.0,\n",
       " 10.3,\n",
       " 9.4,\n",
       " 9.8,\n",
       " 9.6,\n",
       " 9.8,\n",
       " 9.7,\n",
       " 9.4,\n",
       " 10.3,\n",
       " 9.6,\n",
       " 9.7,\n",
       " 9.4,\n",
       " 9.6,\n",
       " 10.7,\n",
       " 10.7,\n",
       " 14.2,\n",
       " 9.8,\n",
       " 9.6,\n",
       " 9.4,\n",
       " 9.4,\n",
       " 10.0,\n",
       " 9.5,\n",
       " 9.5,\n",
       " 11.8,\n",
       " 9.4,\n",
       " 9.9,\n",
       " 9.4,\n",
       " 9.4,\n",
       " 9.4,\n",
       " 9.8,\n",
       " 9.7,\n",
       " 9.7,\n",
       " 4.2,\n",
       " 4.4,\n",
       " 4.4,\n",
       " 11.2,\n",
       " 10.2,\n",
       " 9.7,\n",
       " 10.1,\n",
       " 9.4,\n",
       " 9.6,\n",
       " 12.0,\n",
       " 15.0,\n",
       " 15.0,\n",
       " 10.8,\n",
       " 11.1,\n",
       " 9.4,\n",
       " 10.0,\n",
       " 11.8,\n",
       " 10.9,\n",
       " 11.4,\n",
       " 9.9,\n",
       " 9.9,\n",
       " 12.0,\n",
       " 10.4,\n",
       " 13.3,\n",
       " 10.8,\n",
       " 11.1,\n",
       " 10.3,\n",
       " 10.3,\n",
       " 9.6,\n",
       " 10.3,\n",
       " 10.0,\n",
       " 10.0,\n",
       " 10.7,\n",
       " 11.9,\n",
       " 9.6,\n",
       " 9.5,\n",
       " 11.5,\n",
       " 11.5,\n",
       " 12.2,\n",
       " 11.4,\n",
       " 9.8,\n",
       " 12.5,\n",
       " 9.9,\n",
       " 9.5,\n",
       " 10.0,\n",
       " 12.5,\n",
       " 11.5,\n",
       " 10.3,\n",
       " 9.6,\n",
       " 12.5,\n",
       " 9.9,\n",
       " 10.6,\n",
       " 10.2,\n",
       " 10.0,\n",
       " 12.4,\n",
       " 10.0,\n",
       " 12.5,\n",
       " 10.9,\n",
       " 9.9,\n",
       " 11.9,\n",
       " 11.9,\n",
       " 10.3,\n",
       " 10.0,\n",
       " 9.9,\n",
       " 12.9,\n",
       " 9.5,\n",
       " 12.4,\n",
       " 9.4,\n",
       " 9.5,\n",
       " 15.5,\n",
       " 15.5,\n",
       " 15.6,\n",
       " 13.0,\n",
       " 12.7,\n",
       " 13.0,\n",
       " 12.7,\n",
       " 10.2,\n",
       " 10.5,\n",
       " 10.6,\n",
       " 12.3,\n",
       " 9.9,\n",
       " 10.6,\n",
       " 12.3,\n",
       " 12.3,\n",
       " 11.7,\n",
       " 12.0,\n",
       " 11.8,\n",
       " 10.2,\n",
       " 9.9,\n",
       " 12.4,\n",
       " 11.9,\n",
       " 12.7,\n",
       " 13.2,\n",
       " 13.2,\n",
       " 9.4,\n",
       " 13.2,\n",
       " 9.6,\n",
       " 9.6,\n",
       " 11.3,\n",
       " 10.0,\n",
       " 9.9,\n",
       " 9.5,\n",
       " 9.9,\n",
       " 9.5,\n",
       " 9.9,\n",
       " 9.4,\n",
       " 9.7,\n",
       " 12.0,\n",
       " 10.1,\n",
       " 12.1,\n",
       " 9.4,\n",
       " 11.3,\n",
       " 11.3,\n",
       " 10.8,\n",
       " 10.8,\n",
       " 10.8,\n",
       " 13.3,\n",
       " 9.4,\n",
       " 11.8,\n",
       " 9.7,\n",
       " 11.6,\n",
       " 11.1,\n",
       " 9.5,\n",
       " 9.9,\n",
       " 9.9,\n",
       " 10.0,\n",
       " 10.0,\n",
       " 10.1,\n",
       " 9.4,\n",
       " 9.4,\n",
       " 12.9,\n",
       " 10.8,\n",
       " 12.6,\n",
       " 10.8,\n",
       " 9.8,\n",
       " 10.8,\n",
       " 10.1,\n",
       " 11.1,\n",
       " 9.9,\n",
       " 11.7,\n",
       " 10.7,\n",
       " 10.1,\n",
       " 10.0,\n",
       " 9.4,\n",
       " 9.6,\n",
       " 12.0,\n",
       " 9.6,\n",
       " 9.9,\n",
       " 10.1,\n",
       " 9.8,\n",
       " 10.2,\n",
       " 10.2,\n",
       " 9.5,\n",
       " 12.2,\n",
       " 12.2,\n",
       " 9.8,\n",
       " 9.7,\n",
       " 10.0,\n",
       " 9.9,\n",
       " 10.5,\n",
       " 10.1,\n",
       " 9.5,\n",
       " 9.9,\n",
       " 11.6,\n",
       " 11.1,\n",
       " 11.1,\n",
       " 9.9,\n",
       " 10.3,\n",
       " 11.6,\n",
       " 11.6,\n",
       " 9.4,\n",
       " 10.7,\n",
       " 10.0,\n",
       " 10.5,\n",
       " 10.4,\n",
       " 10.4,\n",
       " 10.0,\n",
       " 10.0,\n",
       " 9.6,\n",
       " 10.6,\n",
       " 9.7,\n",
       " 9.8,\n",
       " 9.6,\n",
       " 10.2,\n",
       " 10.5,\n",
       " 12.6,\n",
       " 10.2,\n",
       " 9.8,\n",
       " 9.8,\n",
       " 9.8,\n",
       " 11.3,\n",
       " 9.9,\n",
       " 11.5,\n",
       " 11.6,\n",
       " 11.6,\n",
       " 10.0,\n",
       " 10.0,\n",
       " 11.1,\n",
       " 11.2]"
      ]
     },
     "execution_count": 261,
     "metadata": {},
     "output_type": "execute_result"
    }
   ],
   "source": [
    "outlier=[]\n",
    "for x in df['fixed acidity']:\n",
    "    if((x>up_limit)or(x<low_limit)):\n",
    "        outlier.append(x)\n",
    "outlier"
   ]
  },
  {
   "cell_type": "code",
   "execution_count": 262,
   "metadata": {},
   "outputs": [
    {
     "data": {
      "text/plain": [
       "Index([  98,  169,  358,  873, 1053, 1123, 1124, 1178, 1214, 1228,\n",
       "       ...\n",
       "       6177, 6183, 6215, 6242, 6257, 6260, 6312, 6314, 6441, 6446],\n",
       "      dtype='int64', length=230)"
      ]
     },
     "execution_count": 262,
     "metadata": {},
     "output_type": "execute_result"
    }
   ],
   "source": [
    "ind1=df['fixed acidity']>up_limit\n",
    "df.loc[ind1].index"
   ]
  },
  {
   "cell_type": "code",
   "execution_count": 263,
   "metadata": {},
   "outputs": [
    {
     "data": {
      "text/plain": [
       "Index([  98,  169,  358,  873, 1053, 1123, 1124, 1178, 1214, 1228,\n",
       "       ...\n",
       "       6177, 6183, 6215, 6242, 6257, 6260, 6312, 6314, 6441, 6446],\n",
       "      dtype='int64', length=230)"
      ]
     },
     "execution_count": 263,
     "metadata": {},
     "output_type": "execute_result"
    }
   ],
   "source": [
    "g=df.loc[ind1].index\n",
    "g"
   ]
  },
  {
   "cell_type": "code",
   "execution_count": 264,
   "metadata": {},
   "outputs": [
    {
     "data": {
      "text/html": [
       "<div>\n",
       "<style scoped>\n",
       "    .dataframe tbody tr th:only-of-type {\n",
       "        vertical-align: middle;\n",
       "    }\n",
       "\n",
       "    .dataframe tbody tr th {\n",
       "        vertical-align: top;\n",
       "    }\n",
       "\n",
       "    .dataframe thead th {\n",
       "        text-align: right;\n",
       "    }\n",
       "</style>\n",
       "<table border=\"1\" class=\"dataframe\">\n",
       "  <thead>\n",
       "    <tr style=\"text-align: right;\">\n",
       "      <th></th>\n",
       "      <th>0</th>\n",
       "    </tr>\n",
       "  </thead>\n",
       "  <tbody>\n",
       "    <tr>\n",
       "      <th>0</th>\n",
       "      <td>98</td>\n",
       "    </tr>\n",
       "    <tr>\n",
       "      <th>1</th>\n",
       "      <td>169</td>\n",
       "    </tr>\n",
       "    <tr>\n",
       "      <th>2</th>\n",
       "      <td>358</td>\n",
       "    </tr>\n",
       "    <tr>\n",
       "      <th>3</th>\n",
       "      <td>873</td>\n",
       "    </tr>\n",
       "    <tr>\n",
       "      <th>4</th>\n",
       "      <td>1053</td>\n",
       "    </tr>\n",
       "    <tr>\n",
       "      <th>...</th>\n",
       "      <td>...</td>\n",
       "    </tr>\n",
       "    <tr>\n",
       "      <th>225</th>\n",
       "      <td>6260</td>\n",
       "    </tr>\n",
       "    <tr>\n",
       "      <th>226</th>\n",
       "      <td>6312</td>\n",
       "    </tr>\n",
       "    <tr>\n",
       "      <th>227</th>\n",
       "      <td>6314</td>\n",
       "    </tr>\n",
       "    <tr>\n",
       "      <th>228</th>\n",
       "      <td>6441</td>\n",
       "    </tr>\n",
       "    <tr>\n",
       "      <th>229</th>\n",
       "      <td>6446</td>\n",
       "    </tr>\n",
       "  </tbody>\n",
       "</table>\n",
       "<p>230 rows × 1 columns</p>\n",
       "</div>"
      ],
      "text/plain": [
       "        0\n",
       "0      98\n",
       "1     169\n",
       "2     358\n",
       "3     873\n",
       "4    1053\n",
       "..    ...\n",
       "225  6260\n",
       "226  6312\n",
       "227  6314\n",
       "228  6441\n",
       "229  6446\n",
       "\n",
       "[230 rows x 1 columns]"
      ]
     },
     "execution_count": 264,
     "metadata": {},
     "output_type": "execute_result"
    }
   ],
   "source": [
    "d=pd.DataFrame(g)\n",
    "d"
   ]
  },
  {
   "cell_type": "code",
   "execution_count": 265,
   "metadata": {},
   "outputs": [],
   "source": [
    "df.drop(g,inplace=True)\n"
   ]
  },
  {
   "cell_type": "code",
   "execution_count": 266,
   "metadata": {},
   "outputs": [
    {
     "data": {
      "text/plain": [
       "(4949, 13)"
      ]
     },
     "execution_count": 266,
     "metadata": {},
     "output_type": "execute_result"
    }
   ],
   "source": [
    "df.shape"
   ]
  },
  {
   "cell_type": "code",
   "execution_count": 267,
   "metadata": {},
   "outputs": [
    {
     "data": {
      "image/png": "[encoded data removed]",
      "text/plain": [
       "<Figure size 640x480 with 1 Axes>"
      ]
     },
     "metadata": {},
     "output_type": "display_data"
    }
   ],
   "source": [
    "plt.boxplot(df['fixed acidity'])\n",
    "plt.title('Box plot of fixed acidity')\n",
    "plt.show()"
   ]
  },
  {
   "cell_type": "code",
   "execution_count": 268,
   "metadata": {},
   "outputs": [
    {
     "data": {
      "text/html": [
       "<div>\n",
       "<style scoped>\n",
       "    .dataframe tbody tr th:only-of-type {\n",
       "        vertical-align: middle;\n",
       "    }\n",
       "\n",
       "    .dataframe tbody tr th {\n",
       "        vertical-align: top;\n",
       "    }\n",
       "\n",
       "    .dataframe thead th {\n",
       "        text-align: right;\n",
       "    }\n",
       "</style>\n",
       "<table border=\"1\" class=\"dataframe\">\n",
       "  <thead>\n",
       "    <tr style=\"text-align: right;\">\n",
       "      <th></th>\n",
       "      <th>fixed acidity</th>\n",
       "      <th>volatile acidity</th>\n",
       "      <th>citric acid</th>\n",
       "      <th>residual sugar</th>\n",
       "      <th>chlorides</th>\n",
       "      <th>free sulfur dioxide</th>\n",
       "      <th>total sulfur dioxide</th>\n",
       "      <th>density</th>\n",
       "      <th>pH</th>\n",
       "      <th>sulphates</th>\n",
       "      <th>alcohol</th>\n",
       "      <th>quality</th>\n",
       "      <th>type_red</th>\n",
       "      <th>type_white</th>\n",
       "    </tr>\n",
       "  </thead>\n",
       "  <tbody>\n",
       "    <tr>\n",
       "      <th>1</th>\n",
       "      <td>6.3</td>\n",
       "      <td>0.30</td>\n",
       "      <td>0.34</td>\n",
       "      <td>1.6</td>\n",
       "      <td>0.049</td>\n",
       "      <td>14.0</td>\n",
       "      <td>132.0</td>\n",
       "      <td>0.9940</td>\n",
       "      <td>3.30</td>\n",
       "      <td>0.49</td>\n",
       "      <td>9.5</td>\n",
       "      <td>6</td>\n",
       "      <td>False</td>\n",
       "      <td>True</td>\n",
       "    </tr>\n",
       "    <tr>\n",
       "      <th>2</th>\n",
       "      <td>8.1</td>\n",
       "      <td>0.28</td>\n",
       "      <td>0.40</td>\n",
       "      <td>6.9</td>\n",
       "      <td>0.050</td>\n",
       "      <td>30.0</td>\n",
       "      <td>97.0</td>\n",
       "      <td>0.9951</td>\n",
       "      <td>3.26</td>\n",
       "      <td>0.44</td>\n",
       "      <td>10.1</td>\n",
       "      <td>6</td>\n",
       "      <td>False</td>\n",
       "      <td>True</td>\n",
       "    </tr>\n",
       "    <tr>\n",
       "      <th>3</th>\n",
       "      <td>7.2</td>\n",
       "      <td>0.23</td>\n",
       "      <td>0.32</td>\n",
       "      <td>8.5</td>\n",
       "      <td>0.058</td>\n",
       "      <td>47.0</td>\n",
       "      <td>186.0</td>\n",
       "      <td>0.9956</td>\n",
       "      <td>3.19</td>\n",
       "      <td>0.40</td>\n",
       "      <td>9.9</td>\n",
       "      <td>6</td>\n",
       "      <td>False</td>\n",
       "      <td>True</td>\n",
       "    </tr>\n",
       "    <tr>\n",
       "      <th>4</th>\n",
       "      <td>7.2</td>\n",
       "      <td>0.23</td>\n",
       "      <td>0.32</td>\n",
       "      <td>8.5</td>\n",
       "      <td>0.058</td>\n",
       "      <td>47.0</td>\n",
       "      <td>186.0</td>\n",
       "      <td>0.9956</td>\n",
       "      <td>3.19</td>\n",
       "      <td>0.40</td>\n",
       "      <td>9.9</td>\n",
       "      <td>6</td>\n",
       "      <td>False</td>\n",
       "      <td>True</td>\n",
       "    </tr>\n",
       "    <tr>\n",
       "      <th>5</th>\n",
       "      <td>8.1</td>\n",
       "      <td>0.28</td>\n",
       "      <td>0.40</td>\n",
       "      <td>6.9</td>\n",
       "      <td>0.050</td>\n",
       "      <td>30.0</td>\n",
       "      <td>97.0</td>\n",
       "      <td>0.9951</td>\n",
       "      <td>3.26</td>\n",
       "      <td>0.44</td>\n",
       "      <td>10.1</td>\n",
       "      <td>6</td>\n",
       "      <td>False</td>\n",
       "      <td>True</td>\n",
       "    </tr>\n",
       "  </tbody>\n",
       "</table>\n",
       "</div>"
      ],
      "text/plain": [
       "   fixed acidity  volatile acidity  citric acid  residual sugar  chlorides  \\\n",
       "1            6.3              0.30         0.34             1.6      0.049   \n",
       "2            8.1              0.28         0.40             6.9      0.050   \n",
       "3            7.2              0.23         0.32             8.5      0.058   \n",
       "4            7.2              0.23         0.32             8.5      0.058   \n",
       "5            8.1              0.28         0.40             6.9      0.050   \n",
       "\n",
       "   free sulfur dioxide  total sulfur dioxide  density    pH  sulphates  \\\n",
       "1                 14.0                 132.0   0.9940  3.30       0.49   \n",
       "2                 30.0                  97.0   0.9951  3.26       0.44   \n",
       "3                 47.0                 186.0   0.9956  3.19       0.40   \n",
       "4                 47.0                 186.0   0.9956  3.19       0.40   \n",
       "5                 30.0                  97.0   0.9951  3.26       0.44   \n",
       "\n",
       "   alcohol  quality  type_red  type_white  \n",
       "1      9.5        6     False        True  \n",
       "2     10.1        6     False        True  \n",
       "3      9.9        6     False        True  \n",
       "4      9.9        6     False        True  \n",
       "5     10.1        6     False        True  "
      ]
     },
     "execution_count": 268,
     "metadata": {},
     "output_type": "execute_result"
    }
   ],
   "source": [
    "df=pd.get_dummies(df)\n",
    "df.head()"
   ]
  },
  {
   "cell_type": "code",
   "execution_count": 269,
   "metadata": {},
   "outputs": [],
   "source": [
    "df.columns\n",
    "y=df['quality']\n",
    "x=df.drop('quality', axis=1)"
   ]
  },
  {
   "cell_type": "code",
   "execution_count": 270,
   "metadata": {},
   "outputs": [],
   "source": [
    "from sklearn.model_selection import train_test_split\n",
    "x_train,x_test,y_train,y_test = train_test_split(x,y, random_state=42,test_size=0.2)"
   ]
  },
  {
   "cell_type": "code",
   "execution_count": 271,
   "metadata": {},
   "outputs": [],
   "source": [
    "from sklearn import linear_model\n",
    "lr=linear_model.LinearRegression()\n",
    "model=lr.fit(x_train,y_train)\n",
    "prediction=model.predict(x_test)"
   ]
  },
  {
   "cell_type": "code",
   "execution_count": 272,
   "metadata": {},
   "outputs": [
    {
     "name": "stdout",
     "output_type": "stream",
     "text": [
      "MSE is: 0.43133663696136126\n"
     ]
    }
   ],
   "source": [
    "from sklearn.metrics import mean_squared_error\n",
    "print('MSE is:',mean_squared_error(y_test,prediction))"
   ]
  },
  {
   "cell_type": "code",
   "execution_count": 273,
   "metadata": {},
   "outputs": [
    {
     "name": "stdout",
     "output_type": "stream",
     "text": [
      "R squared value is: 0.28133658045176424\n"
     ]
    }
   ],
   "source": [
    "from sklearn.metrics import r2_score\n",
    "print('R squared value is:', r2_score(y_test,prediction))"
   ]
  },
  {
   "cell_type": "code",
   "execution_count": 275,
   "metadata": {},
   "outputs": [
    {
     "data": {
      "text/html": [
       "<div>\n",
       "<style scoped>\n",
       "    .dataframe tbody tr th:only-of-type {\n",
       "        vertical-align: middle;\n",
       "    }\n",
       "\n",
       "    .dataframe tbody tr th {\n",
       "        vertical-align: top;\n",
       "    }\n",
       "\n",
       "    .dataframe thead th {\n",
       "        text-align: right;\n",
       "    }\n",
       "</style>\n",
       "<table border=\"1\" class=\"dataframe\">\n",
       "  <thead>\n",
       "    <tr style=\"text-align: right;\">\n",
       "      <th></th>\n",
       "      <th>fixed acidity</th>\n",
       "      <th>volatile acidity</th>\n",
       "      <th>citric acid</th>\n",
       "      <th>residual sugar</th>\n",
       "      <th>chlorides</th>\n",
       "      <th>free sulfur dioxide</th>\n",
       "      <th>total sulfur dioxide</th>\n",
       "      <th>density</th>\n",
       "      <th>pH</th>\n",
       "      <th>sulphates</th>\n",
       "      <th>alcohol</th>\n",
       "    </tr>\n",
       "  </thead>\n",
       "  <tbody>\n",
       "    <tr>\n",
       "      <th>count</th>\n",
       "      <td>4949.000000</td>\n",
       "      <td>4949.000000</td>\n",
       "      <td>4949.000000</td>\n",
       "      <td>4949.000000</td>\n",
       "      <td>4949.00000</td>\n",
       "      <td>4949.000000</td>\n",
       "      <td>4949.000000</td>\n",
       "      <td>4949.000000</td>\n",
       "      <td>4949.000000</td>\n",
       "      <td>4949.000000</td>\n",
       "      <td>4949.000000</td>\n",
       "    </tr>\n",
       "    <tr>\n",
       "      <th>mean</th>\n",
       "      <td>6.944504</td>\n",
       "      <td>0.302846</td>\n",
       "      <td>0.307967</td>\n",
       "      <td>5.608345</td>\n",
       "      <td>0.04796</td>\n",
       "      <td>31.855021</td>\n",
       "      <td>124.110123</td>\n",
       "      <td>0.994218</td>\n",
       "      <td>3.213532</td>\n",
       "      <td>0.505454</td>\n",
       "      <td>10.513628</td>\n",
       "    </tr>\n",
       "    <tr>\n",
       "      <th>std</th>\n",
       "      <td>0.845386</td>\n",
       "      <td>0.119072</td>\n",
       "      <td>0.110089</td>\n",
       "      <td>4.601702</td>\n",
       "      <td>0.01637</td>\n",
       "      <td>15.770316</td>\n",
       "      <td>50.797185</td>\n",
       "      <td>0.002763</td>\n",
       "      <td>0.149771</td>\n",
       "      <td>0.115130</td>\n",
       "      <td>1.165642</td>\n",
       "    </tr>\n",
       "    <tr>\n",
       "      <th>min</th>\n",
       "      <td>4.200000</td>\n",
       "      <td>0.080000</td>\n",
       "      <td>0.000000</td>\n",
       "      <td>0.600000</td>\n",
       "      <td>0.00900</td>\n",
       "      <td>2.000000</td>\n",
       "      <td>6.000000</td>\n",
       "      <td>0.987400</td>\n",
       "      <td>2.790000</td>\n",
       "      <td>0.220000</td>\n",
       "      <td>8.000000</td>\n",
       "    </tr>\n",
       "    <tr>\n",
       "      <th>25%</th>\n",
       "      <td>6.400000</td>\n",
       "      <td>0.220000</td>\n",
       "      <td>0.250000</td>\n",
       "      <td>1.800000</td>\n",
       "      <td>0.03700</td>\n",
       "      <td>20.000000</td>\n",
       "      <td>93.000000</td>\n",
       "      <td>0.992000</td>\n",
       "      <td>3.110000</td>\n",
       "      <td>0.420000</td>\n",
       "      <td>9.500000</td>\n",
       "    </tr>\n",
       "    <tr>\n",
       "      <th>50%</th>\n",
       "      <td>6.900000</td>\n",
       "      <td>0.280000</td>\n",
       "      <td>0.310000</td>\n",
       "      <td>3.800000</td>\n",
       "      <td>0.04500</td>\n",
       "      <td>30.000000</td>\n",
       "      <td>124.000000</td>\n",
       "      <td>0.994250</td>\n",
       "      <td>3.210000</td>\n",
       "      <td>0.490000</td>\n",
       "      <td>10.400000</td>\n",
       "    </tr>\n",
       "    <tr>\n",
       "      <th>75%</th>\n",
       "      <td>7.400000</td>\n",
       "      <td>0.360000</td>\n",
       "      <td>0.370000</td>\n",
       "      <td>8.500000</td>\n",
       "      <td>0.05400</td>\n",
       "      <td>42.000000</td>\n",
       "      <td>159.000000</td>\n",
       "      <td>0.996360</td>\n",
       "      <td>3.320000</td>\n",
       "      <td>0.580000</td>\n",
       "      <td>11.300000</td>\n",
       "    </tr>\n",
       "    <tr>\n",
       "      <th>max</th>\n",
       "      <td>9.300000</td>\n",
       "      <td>0.645000</td>\n",
       "      <td>0.600000</td>\n",
       "      <td>18.050000</td>\n",
       "      <td>0.10300</td>\n",
       "      <td>79.500000</td>\n",
       "      <td>272.000000</td>\n",
       "      <td>1.001820</td>\n",
       "      <td>3.630000</td>\n",
       "      <td>0.850000</td>\n",
       "      <td>13.700000</td>\n",
       "    </tr>\n",
       "  </tbody>\n",
       "</table>\n",
       "</div>"
      ],
      "text/plain": [
       "       fixed acidity  volatile acidity  citric acid  residual sugar  \\\n",
       "count    4949.000000       4949.000000  4949.000000     4949.000000   \n",
       "mean        6.944504          0.302846     0.307967        5.608345   \n",
       "std         0.845386          0.119072     0.110089        4.601702   \n",
       "min         4.200000          0.080000     0.000000        0.600000   \n",
       "25%         6.400000          0.220000     0.250000        1.800000   \n",
       "50%         6.900000          0.280000     0.310000        3.800000   \n",
       "75%         7.400000          0.360000     0.370000        8.500000   \n",
       "max         9.300000          0.645000     0.600000       18.050000   \n",
       "\n",
       "        chlorides  free sulfur dioxide  total sulfur dioxide      density  \\\n",
       "count  4949.00000          4949.000000           4949.000000  4949.000000   \n",
       "mean      0.04796            31.855021            124.110123     0.994218   \n",
       "std       0.01637            15.770316             50.797185     0.002763   \n",
       "min       0.00900             2.000000              6.000000     0.987400   \n",
       "25%       0.03700            20.000000             93.000000     0.992000   \n",
       "50%       0.04500            30.000000            124.000000     0.994250   \n",
       "75%       0.05400            42.000000            159.000000     0.996360   \n",
       "max       0.10300            79.500000            272.000000     1.001820   \n",
       "\n",
       "                pH    sulphates      alcohol  \n",
       "count  4949.000000  4949.000000  4949.000000  \n",
       "mean      3.213532     0.505454    10.513628  \n",
       "std       0.149771     0.115130     1.165642  \n",
       "min       2.790000     0.220000     8.000000  \n",
       "25%       3.110000     0.420000     9.500000  \n",
       "50%       3.210000     0.490000    10.400000  \n",
       "75%       3.320000     0.580000    11.300000  \n",
       "max       3.630000     0.850000    13.700000  "
      ]
     },
     "execution_count": 275,
     "metadata": {},
     "output_type": "execute_result"
    }
   ],
   "source": [
    "x.describe()"
   ]
  },
  {
   "cell_type": "code",
   "execution_count": 279,
   "metadata": {},
   "outputs": [
    {
     "data": {
      "text/html": [
       "<div>\n",
       "<style scoped>\n",
       "    .dataframe tbody tr th:only-of-type {\n",
       "        vertical-align: middle;\n",
       "    }\n",
       "\n",
       "    .dataframe tbody tr th {\n",
       "        vertical-align: top;\n",
       "    }\n",
       "\n",
       "    .dataframe thead th {\n",
       "        text-align: right;\n",
       "    }\n",
       "</style>\n",
       "<table border=\"1\" class=\"dataframe\">\n",
       "  <thead>\n",
       "    <tr style=\"text-align: right;\">\n",
       "      <th></th>\n",
       "      <th>fixed acidity</th>\n",
       "      <th>volatile acidity</th>\n",
       "      <th>citric acid</th>\n",
       "      <th>residual sugar</th>\n",
       "      <th>chlorides</th>\n",
       "      <th>free sulfur dioxide</th>\n",
       "      <th>total sulfur dioxide</th>\n",
       "      <th>density</th>\n",
       "      <th>pH</th>\n",
       "      <th>sulphates</th>\n",
       "      <th>alcohol</th>\n",
       "      <th>type_red</th>\n",
       "      <th>type_white</th>\n",
       "    </tr>\n",
       "  </thead>\n",
       "  <tbody>\n",
       "    <tr>\n",
       "      <th>1</th>\n",
       "      <td>6.3</td>\n",
       "      <td>0.300</td>\n",
       "      <td>0.34</td>\n",
       "      <td>1.6</td>\n",
       "      <td>0.049</td>\n",
       "      <td>14.0</td>\n",
       "      <td>132.0</td>\n",
       "      <td>0.99400</td>\n",
       "      <td>3.30</td>\n",
       "      <td>0.49</td>\n",
       "      <td>9.5</td>\n",
       "      <td>False</td>\n",
       "      <td>True</td>\n",
       "    </tr>\n",
       "    <tr>\n",
       "      <th>2</th>\n",
       "      <td>8.1</td>\n",
       "      <td>0.280</td>\n",
       "      <td>0.40</td>\n",
       "      <td>6.9</td>\n",
       "      <td>0.050</td>\n",
       "      <td>30.0</td>\n",
       "      <td>97.0</td>\n",
       "      <td>0.99510</td>\n",
       "      <td>3.26</td>\n",
       "      <td>0.44</td>\n",
       "      <td>10.1</td>\n",
       "      <td>False</td>\n",
       "      <td>True</td>\n",
       "    </tr>\n",
       "    <tr>\n",
       "      <th>3</th>\n",
       "      <td>7.2</td>\n",
       "      <td>0.230</td>\n",
       "      <td>0.32</td>\n",
       "      <td>8.5</td>\n",
       "      <td>0.058</td>\n",
       "      <td>47.0</td>\n",
       "      <td>186.0</td>\n",
       "      <td>0.99560</td>\n",
       "      <td>3.19</td>\n",
       "      <td>0.40</td>\n",
       "      <td>9.9</td>\n",
       "      <td>False</td>\n",
       "      <td>True</td>\n",
       "    </tr>\n",
       "    <tr>\n",
       "      <th>4</th>\n",
       "      <td>7.2</td>\n",
       "      <td>0.230</td>\n",
       "      <td>0.32</td>\n",
       "      <td>8.5</td>\n",
       "      <td>0.058</td>\n",
       "      <td>47.0</td>\n",
       "      <td>186.0</td>\n",
       "      <td>0.99560</td>\n",
       "      <td>3.19</td>\n",
       "      <td>0.40</td>\n",
       "      <td>9.9</td>\n",
       "      <td>False</td>\n",
       "      <td>True</td>\n",
       "    </tr>\n",
       "    <tr>\n",
       "      <th>5</th>\n",
       "      <td>8.1</td>\n",
       "      <td>0.280</td>\n",
       "      <td>0.40</td>\n",
       "      <td>6.9</td>\n",
       "      <td>0.050</td>\n",
       "      <td>30.0</td>\n",
       "      <td>97.0</td>\n",
       "      <td>0.99510</td>\n",
       "      <td>3.26</td>\n",
       "      <td>0.44</td>\n",
       "      <td>10.1</td>\n",
       "      <td>False</td>\n",
       "      <td>True</td>\n",
       "    </tr>\n",
       "    <tr>\n",
       "      <th>...</th>\n",
       "      <td>...</td>\n",
       "      <td>...</td>\n",
       "      <td>...</td>\n",
       "      <td>...</td>\n",
       "      <td>...</td>\n",
       "      <td>...</td>\n",
       "      <td>...</td>\n",
       "      <td>...</td>\n",
       "      <td>...</td>\n",
       "      <td>...</td>\n",
       "      <td>...</td>\n",
       "      <td>...</td>\n",
       "      <td>...</td>\n",
       "    </tr>\n",
       "    <tr>\n",
       "      <th>6492</th>\n",
       "      <td>6.2</td>\n",
       "      <td>0.600</td>\n",
       "      <td>0.08</td>\n",
       "      <td>2.0</td>\n",
       "      <td>0.090</td>\n",
       "      <td>32.0</td>\n",
       "      <td>44.0</td>\n",
       "      <td>0.99490</td>\n",
       "      <td>3.45</td>\n",
       "      <td>0.58</td>\n",
       "      <td>10.5</td>\n",
       "      <td>True</td>\n",
       "      <td>False</td>\n",
       "    </tr>\n",
       "    <tr>\n",
       "      <th>6493</th>\n",
       "      <td>5.9</td>\n",
       "      <td>0.550</td>\n",
       "      <td>0.10</td>\n",
       "      <td>2.2</td>\n",
       "      <td>0.062</td>\n",
       "      <td>39.0</td>\n",
       "      <td>51.0</td>\n",
       "      <td>0.99512</td>\n",
       "      <td>3.52</td>\n",
       "      <td>0.75</td>\n",
       "      <td>11.2</td>\n",
       "      <td>True</td>\n",
       "      <td>False</td>\n",
       "    </tr>\n",
       "    <tr>\n",
       "      <th>6494</th>\n",
       "      <td>6.3</td>\n",
       "      <td>0.510</td>\n",
       "      <td>0.13</td>\n",
       "      <td>2.3</td>\n",
       "      <td>0.076</td>\n",
       "      <td>29.0</td>\n",
       "      <td>40.0</td>\n",
       "      <td>0.99574</td>\n",
       "      <td>3.42</td>\n",
       "      <td>0.75</td>\n",
       "      <td>11.0</td>\n",
       "      <td>True</td>\n",
       "      <td>False</td>\n",
       "    </tr>\n",
       "    <tr>\n",
       "      <th>6495</th>\n",
       "      <td>5.9</td>\n",
       "      <td>0.645</td>\n",
       "      <td>0.12</td>\n",
       "      <td>2.0</td>\n",
       "      <td>0.075</td>\n",
       "      <td>32.0</td>\n",
       "      <td>44.0</td>\n",
       "      <td>0.99547</td>\n",
       "      <td>3.57</td>\n",
       "      <td>0.71</td>\n",
       "      <td>10.2</td>\n",
       "      <td>True</td>\n",
       "      <td>False</td>\n",
       "    </tr>\n",
       "    <tr>\n",
       "      <th>6496</th>\n",
       "      <td>6.0</td>\n",
       "      <td>0.310</td>\n",
       "      <td>0.47</td>\n",
       "      <td>3.6</td>\n",
       "      <td>0.067</td>\n",
       "      <td>18.0</td>\n",
       "      <td>42.0</td>\n",
       "      <td>0.99549</td>\n",
       "      <td>3.39</td>\n",
       "      <td>0.66</td>\n",
       "      <td>11.0</td>\n",
       "      <td>True</td>\n",
       "      <td>False</td>\n",
       "    </tr>\n",
       "  </tbody>\n",
       "</table>\n",
       "<p>4949 rows × 13 columns</p>\n",
       "</div>"
      ],
      "text/plain": [
       "      fixed acidity  volatile acidity  citric acid  residual sugar  chlorides  \\\n",
       "1               6.3             0.300         0.34             1.6      0.049   \n",
       "2               8.1             0.280         0.40             6.9      0.050   \n",
       "3               7.2             0.230         0.32             8.5      0.058   \n",
       "4               7.2             0.230         0.32             8.5      0.058   \n",
       "5               8.1             0.280         0.40             6.9      0.050   \n",
       "...             ...               ...          ...             ...        ...   \n",
       "6492            6.2             0.600         0.08             2.0      0.090   \n",
       "6493            5.9             0.550         0.10             2.2      0.062   \n",
       "6494            6.3             0.510         0.13             2.3      0.076   \n",
       "6495            5.9             0.645         0.12             2.0      0.075   \n",
       "6496            6.0             0.310         0.47             3.6      0.067   \n",
       "\n",
       "      free sulfur dioxide  total sulfur dioxide  density    pH  sulphates  \\\n",
       "1                    14.0                 132.0  0.99400  3.30       0.49   \n",
       "2                    30.0                  97.0  0.99510  3.26       0.44   \n",
       "3                    47.0                 186.0  0.99560  3.19       0.40   \n",
       "4                    47.0                 186.0  0.99560  3.19       0.40   \n",
       "5                    30.0                  97.0  0.99510  3.26       0.44   \n",
       "...                   ...                   ...      ...   ...        ...   \n",
       "6492                 32.0                  44.0  0.99490  3.45       0.58   \n",
       "6493                 39.0                  51.0  0.99512  3.52       0.75   \n",
       "6494                 29.0                  40.0  0.99574  3.42       0.75   \n",
       "6495                 32.0                  44.0  0.99547  3.57       0.71   \n",
       "6496                 18.0                  42.0  0.99549  3.39       0.66   \n",
       "\n",
       "      alcohol  type_red  type_white  \n",
       "1         9.5     False        True  \n",
       "2        10.1     False        True  \n",
       "3         9.9     False        True  \n",
       "4         9.9     False        True  \n",
       "5        10.1     False        True  \n",
       "...       ...       ...         ...  \n",
       "6492     10.5      True       False  \n",
       "6493     11.2      True       False  \n",
       "6494     11.0      True       False  \n",
       "6495     10.2      True       False  \n",
       "6496     11.0      True       False  \n",
       "\n",
       "[4949 rows x 13 columns]"
      ]
     },
     "execution_count": 279,
     "metadata": {},
     "output_type": "execute_result"
    }
   ],
   "source": [
    "x"
   ]
  },
  {
   "cell_type": "code",
   "execution_count": 276,
   "metadata": {},
   "outputs": [
    {
     "data": {
      "text/plain": [
       "pandas.core.frame.DataFrame"
      ]
     },
     "execution_count": 276,
     "metadata": {},
     "output_type": "execute_result"
    }
   ],
   "source": [
    "type(x)"
   ]
  },
  {
   "cell_type": "code",
   "execution_count": 280,
   "metadata": {},
   "outputs": [
    {
     "data": {
      "text/html": [
       "<div>\n",
       "<style scoped>\n",
       "    .dataframe tbody tr th:only-of-type {\n",
       "        vertical-align: middle;\n",
       "    }\n",
       "\n",
       "    .dataframe tbody tr th {\n",
       "        vertical-align: top;\n",
       "    }\n",
       "\n",
       "    .dataframe thead th {\n",
       "        text-align: right;\n",
       "    }\n",
       "</style>\n",
       "<table border=\"1\" class=\"dataframe\">\n",
       "  <thead>\n",
       "    <tr style=\"text-align: right;\">\n",
       "      <th></th>\n",
       "      <th>fixed acidity</th>\n",
       "      <th>volatile acidity</th>\n",
       "      <th>citric acid</th>\n",
       "      <th>residual sugar</th>\n",
       "      <th>chlorides</th>\n",
       "      <th>free sulfur dioxide</th>\n",
       "      <th>total sulfur dioxide</th>\n",
       "      <th>density</th>\n",
       "      <th>pH</th>\n",
       "      <th>sulphates</th>\n",
       "      <th>alcohol</th>\n",
       "    </tr>\n",
       "  </thead>\n",
       "  <tbody>\n",
       "    <tr>\n",
       "      <th>count</th>\n",
       "      <td>4949.000000</td>\n",
       "      <td>4949.000000</td>\n",
       "      <td>4949.000000</td>\n",
       "      <td>4949.000000</td>\n",
       "      <td>4949.00000</td>\n",
       "      <td>4949.000000</td>\n",
       "      <td>4949.000000</td>\n",
       "      <td>4949.000000</td>\n",
       "      <td>4949.000000</td>\n",
       "      <td>4949.000000</td>\n",
       "      <td>4949.000000</td>\n",
       "    </tr>\n",
       "    <tr>\n",
       "      <th>mean</th>\n",
       "      <td>6.944504</td>\n",
       "      <td>0.302846</td>\n",
       "      <td>0.307967</td>\n",
       "      <td>5.608345</td>\n",
       "      <td>0.04796</td>\n",
       "      <td>31.855021</td>\n",
       "      <td>124.110123</td>\n",
       "      <td>0.994218</td>\n",
       "      <td>3.213532</td>\n",
       "      <td>0.505454</td>\n",
       "      <td>10.513628</td>\n",
       "    </tr>\n",
       "    <tr>\n",
       "      <th>std</th>\n",
       "      <td>0.845386</td>\n",
       "      <td>0.119072</td>\n",
       "      <td>0.110089</td>\n",
       "      <td>4.601702</td>\n",
       "      <td>0.01637</td>\n",
       "      <td>15.770316</td>\n",
       "      <td>50.797185</td>\n",
       "      <td>0.002763</td>\n",
       "      <td>0.149771</td>\n",
       "      <td>0.115130</td>\n",
       "      <td>1.165642</td>\n",
       "    </tr>\n",
       "    <tr>\n",
       "      <th>min</th>\n",
       "      <td>4.200000</td>\n",
       "      <td>0.080000</td>\n",
       "      <td>0.000000</td>\n",
       "      <td>0.600000</td>\n",
       "      <td>0.00900</td>\n",
       "      <td>2.000000</td>\n",
       "      <td>6.000000</td>\n",
       "      <td>0.987400</td>\n",
       "      <td>2.790000</td>\n",
       "      <td>0.220000</td>\n",
       "      <td>8.000000</td>\n",
       "    </tr>\n",
       "    <tr>\n",
       "      <th>25%</th>\n",
       "      <td>6.400000</td>\n",
       "      <td>0.220000</td>\n",
       "      <td>0.250000</td>\n",
       "      <td>1.800000</td>\n",
       "      <td>0.03700</td>\n",
       "      <td>20.000000</td>\n",
       "      <td>93.000000</td>\n",
       "      <td>0.992000</td>\n",
       "      <td>3.110000</td>\n",
       "      <td>0.420000</td>\n",
       "      <td>9.500000</td>\n",
       "    </tr>\n",
       "    <tr>\n",
       "      <th>50%</th>\n",
       "      <td>6.900000</td>\n",
       "      <td>0.280000</td>\n",
       "      <td>0.310000</td>\n",
       "      <td>3.800000</td>\n",
       "      <td>0.04500</td>\n",
       "      <td>30.000000</td>\n",
       "      <td>124.000000</td>\n",
       "      <td>0.994250</td>\n",
       "      <td>3.210000</td>\n",
       "      <td>0.490000</td>\n",
       "      <td>10.400000</td>\n",
       "    </tr>\n",
       "    <tr>\n",
       "      <th>75%</th>\n",
       "      <td>7.400000</td>\n",
       "      <td>0.360000</td>\n",
       "      <td>0.370000</td>\n",
       "      <td>8.500000</td>\n",
       "      <td>0.05400</td>\n",
       "      <td>42.000000</td>\n",
       "      <td>159.000000</td>\n",
       "      <td>0.996360</td>\n",
       "      <td>3.320000</td>\n",
       "      <td>0.580000</td>\n",
       "      <td>11.300000</td>\n",
       "    </tr>\n",
       "    <tr>\n",
       "      <th>max</th>\n",
       "      <td>9.300000</td>\n",
       "      <td>0.645000</td>\n",
       "      <td>0.600000</td>\n",
       "      <td>18.050000</td>\n",
       "      <td>0.10300</td>\n",
       "      <td>79.500000</td>\n",
       "      <td>272.000000</td>\n",
       "      <td>1.001820</td>\n",
       "      <td>3.630000</td>\n",
       "      <td>0.850000</td>\n",
       "      <td>13.700000</td>\n",
       "    </tr>\n",
       "  </tbody>\n",
       "</table>\n",
       "</div>"
      ],
      "text/plain": [
       "       fixed acidity  volatile acidity  citric acid  residual sugar  \\\n",
       "count    4949.000000       4949.000000  4949.000000     4949.000000   \n",
       "mean        6.944504          0.302846     0.307967        5.608345   \n",
       "std         0.845386          0.119072     0.110089        4.601702   \n",
       "min         4.200000          0.080000     0.000000        0.600000   \n",
       "25%         6.400000          0.220000     0.250000        1.800000   \n",
       "50%         6.900000          0.280000     0.310000        3.800000   \n",
       "75%         7.400000          0.360000     0.370000        8.500000   \n",
       "max         9.300000          0.645000     0.600000       18.050000   \n",
       "\n",
       "        chlorides  free sulfur dioxide  total sulfur dioxide      density  \\\n",
       "count  4949.00000          4949.000000           4949.000000  4949.000000   \n",
       "mean      0.04796            31.855021            124.110123     0.994218   \n",
       "std       0.01637            15.770316             50.797185     0.002763   \n",
       "min       0.00900             2.000000              6.000000     0.987400   \n",
       "25%       0.03700            20.000000             93.000000     0.992000   \n",
       "50%       0.04500            30.000000            124.000000     0.994250   \n",
       "75%       0.05400            42.000000            159.000000     0.996360   \n",
       "max       0.10300            79.500000            272.000000     1.001820   \n",
       "\n",
       "                pH    sulphates      alcohol  \n",
       "count  4949.000000  4949.000000  4949.000000  \n",
       "mean      3.213532     0.505454    10.513628  \n",
       "std       0.149771     0.115130     1.165642  \n",
       "min       2.790000     0.220000     8.000000  \n",
       "25%       3.110000     0.420000     9.500000  \n",
       "50%       3.210000     0.490000    10.400000  \n",
       "75%       3.320000     0.580000    11.300000  \n",
       "max       3.630000     0.850000    13.700000  "
      ]
     },
     "execution_count": 280,
     "metadata": {},
     "output_type": "execute_result"
    }
   ],
   "source": [
    "x=pd.DataFrame(x)\n",
    "x.describe()"
   ]
  },
  {
   "cell_type": "code",
   "execution_count": 281,
   "metadata": {},
   "outputs": [
    {
     "name": "stdout",
     "output_type": "stream",
     "text": [
      "MSE Is: 0.43133663696136126\n",
      " R squared value is : 0.28133658045176424\n"
     ]
    }
   ],
   "source": [
    "x_train,x_test,y_train,y_test=train_test_split(x,y,random_state=42,test_size=0.2)\n",
    "lr=linear_model.LinearRegression()\n",
    "model=lr.fit(x_train,y_train)\n",
    "prediction=model.predict(x_test)\n",
    "print('MSE Is:',mean_squared_error(y_test,prediction))\n",
    "print(' R squared value is :',r2_score(y_test,prediction))"
   ]
  },
  {
   "cell_type": "code",
   "execution_count": 282,
   "metadata": {},
   "outputs": [
    {
     "data": {
      "text/html": [
       "<div>\n",
       "<style scoped>\n",
       "    .dataframe tbody tr th:only-of-type {\n",
       "        vertical-align: middle;\n",
       "    }\n",
       "\n",
       "    .dataframe tbody tr th {\n",
       "        vertical-align: top;\n",
       "    }\n",
       "\n",
       "    .dataframe thead th {\n",
       "        text-align: right;\n",
       "    }\n",
       "</style>\n",
       "<table border=\"1\" class=\"dataframe\">\n",
       "  <thead>\n",
       "    <tr style=\"text-align: right;\">\n",
       "      <th></th>\n",
       "      <th>fixed acidity</th>\n",
       "      <th>volatile acidity</th>\n",
       "      <th>citric acid</th>\n",
       "      <th>residual sugar</th>\n",
       "      <th>chlorides</th>\n",
       "      <th>free sulfur dioxide</th>\n",
       "      <th>total sulfur dioxide</th>\n",
       "      <th>density</th>\n",
       "      <th>pH</th>\n",
       "      <th>sulphates</th>\n",
       "      <th>alcohol</th>\n",
       "    </tr>\n",
       "  </thead>\n",
       "  <tbody>\n",
       "    <tr>\n",
       "      <th>count</th>\n",
       "      <td>4949.000000</td>\n",
       "      <td>4949.000000</td>\n",
       "      <td>4949.000000</td>\n",
       "      <td>4949.000000</td>\n",
       "      <td>4949.00000</td>\n",
       "      <td>4949.000000</td>\n",
       "      <td>4949.000000</td>\n",
       "      <td>4949.000000</td>\n",
       "      <td>4949.000000</td>\n",
       "      <td>4949.000000</td>\n",
       "      <td>4949.000000</td>\n",
       "    </tr>\n",
       "    <tr>\n",
       "      <th>mean</th>\n",
       "      <td>6.944504</td>\n",
       "      <td>0.302846</td>\n",
       "      <td>0.307967</td>\n",
       "      <td>5.608345</td>\n",
       "      <td>0.04796</td>\n",
       "      <td>31.855021</td>\n",
       "      <td>124.110123</td>\n",
       "      <td>0.994218</td>\n",
       "      <td>3.213532</td>\n",
       "      <td>0.505454</td>\n",
       "      <td>10.513628</td>\n",
       "    </tr>\n",
       "    <tr>\n",
       "      <th>std</th>\n",
       "      <td>0.845386</td>\n",
       "      <td>0.119072</td>\n",
       "      <td>0.110089</td>\n",
       "      <td>4.601702</td>\n",
       "      <td>0.01637</td>\n",
       "      <td>15.770316</td>\n",
       "      <td>50.797185</td>\n",
       "      <td>0.002763</td>\n",
       "      <td>0.149771</td>\n",
       "      <td>0.115130</td>\n",
       "      <td>1.165642</td>\n",
       "    </tr>\n",
       "    <tr>\n",
       "      <th>min</th>\n",
       "      <td>4.200000</td>\n",
       "      <td>0.080000</td>\n",
       "      <td>0.000000</td>\n",
       "      <td>0.600000</td>\n",
       "      <td>0.00900</td>\n",
       "      <td>2.000000</td>\n",
       "      <td>6.000000</td>\n",
       "      <td>0.987400</td>\n",
       "      <td>2.790000</td>\n",
       "      <td>0.220000</td>\n",
       "      <td>8.000000</td>\n",
       "    </tr>\n",
       "    <tr>\n",
       "      <th>25%</th>\n",
       "      <td>6.400000</td>\n",
       "      <td>0.220000</td>\n",
       "      <td>0.250000</td>\n",
       "      <td>1.800000</td>\n",
       "      <td>0.03700</td>\n",
       "      <td>20.000000</td>\n",
       "      <td>93.000000</td>\n",
       "      <td>0.992000</td>\n",
       "      <td>3.110000</td>\n",
       "      <td>0.420000</td>\n",
       "      <td>9.500000</td>\n",
       "    </tr>\n",
       "    <tr>\n",
       "      <th>50%</th>\n",
       "      <td>6.900000</td>\n",
       "      <td>0.280000</td>\n",
       "      <td>0.310000</td>\n",
       "      <td>3.800000</td>\n",
       "      <td>0.04500</td>\n",
       "      <td>30.000000</td>\n",
       "      <td>124.000000</td>\n",
       "      <td>0.994250</td>\n",
       "      <td>3.210000</td>\n",
       "      <td>0.490000</td>\n",
       "      <td>10.400000</td>\n",
       "    </tr>\n",
       "    <tr>\n",
       "      <th>75%</th>\n",
       "      <td>7.400000</td>\n",
       "      <td>0.360000</td>\n",
       "      <td>0.370000</td>\n",
       "      <td>8.500000</td>\n",
       "      <td>0.05400</td>\n",
       "      <td>42.000000</td>\n",
       "      <td>159.000000</td>\n",
       "      <td>0.996360</td>\n",
       "      <td>3.320000</td>\n",
       "      <td>0.580000</td>\n",
       "      <td>11.300000</td>\n",
       "    </tr>\n",
       "    <tr>\n",
       "      <th>max</th>\n",
       "      <td>9.300000</td>\n",
       "      <td>0.645000</td>\n",
       "      <td>0.600000</td>\n",
       "      <td>18.050000</td>\n",
       "      <td>0.10300</td>\n",
       "      <td>79.500000</td>\n",
       "      <td>272.000000</td>\n",
       "      <td>1.001820</td>\n",
       "      <td>3.630000</td>\n",
       "      <td>0.850000</td>\n",
       "      <td>13.700000</td>\n",
       "    </tr>\n",
       "  </tbody>\n",
       "</table>\n",
       "</div>"
      ],
      "text/plain": [
       "       fixed acidity  volatile acidity  citric acid  residual sugar  \\\n",
       "count    4949.000000       4949.000000  4949.000000     4949.000000   \n",
       "mean        6.944504          0.302846     0.307967        5.608345   \n",
       "std         0.845386          0.119072     0.110089        4.601702   \n",
       "min         4.200000          0.080000     0.000000        0.600000   \n",
       "25%         6.400000          0.220000     0.250000        1.800000   \n",
       "50%         6.900000          0.280000     0.310000        3.800000   \n",
       "75%         7.400000          0.360000     0.370000        8.500000   \n",
       "max         9.300000          0.645000     0.600000       18.050000   \n",
       "\n",
       "        chlorides  free sulfur dioxide  total sulfur dioxide      density  \\\n",
       "count  4949.00000          4949.000000           4949.000000  4949.000000   \n",
       "mean      0.04796            31.855021            124.110123     0.994218   \n",
       "std       0.01637            15.770316             50.797185     0.002763   \n",
       "min       0.00900             2.000000              6.000000     0.987400   \n",
       "25%       0.03700            20.000000             93.000000     0.992000   \n",
       "50%       0.04500            30.000000            124.000000     0.994250   \n",
       "75%       0.05400            42.000000            159.000000     0.996360   \n",
       "max       0.10300            79.500000            272.000000     1.001820   \n",
       "\n",
       "                pH    sulphates      alcohol  \n",
       "count  4949.000000  4949.000000  4949.000000  \n",
       "mean      3.213532     0.505454    10.513628  \n",
       "std       0.149771     0.115130     1.165642  \n",
       "min       2.790000     0.220000     8.000000  \n",
       "25%       3.110000     0.420000     9.500000  \n",
       "50%       3.210000     0.490000    10.400000  \n",
       "75%       3.320000     0.580000    11.300000  \n",
       "max       3.630000     0.850000    13.700000  "
      ]
     },
     "execution_count": 282,
     "metadata": {},
     "output_type": "execute_result"
    }
   ],
   "source": [
    "x=df.drop('quality',axis=1)\n",
    "x.describe()"
   ]
  },
  {
   "cell_type": "code",
   "execution_count": 285,
   "metadata": {},
   "outputs": [
    {
     "data": {
      "image/png": "[encoded data removed]",
      "text/plain": [
       "<Figure size 2000x800 with 2 Axes>"
      ]
     },
     "metadata": {},
     "output_type": "display_data"
    }
   ],
   "source": [
    "corrmatrix =df.corr()\n",
    "plt.subplots(figsize=(20,8))\n",
    "sns.heatmap(corrmatrix,vmin=0.4,vmax=0.9,annot=True,linewidth=0.2,cmap='YlGnBu')\n",
    "plt.show()"
   ]
  },
  {
   "cell_type": "code",
   "execution_count": null,
   "metadata": {},
   "outputs": [],
   "source": []
  }
 ],
 "metadata": {
  "kernelspec": {
   "display_name": "Python 3",
   "language": "python",
   "name": "python3"
  },
  "language_info": {
   "codemirror_mode": {
    "name": "ipython",
    "version": 3
   },
   "file_extension": ".py",
   "mimetype": "text/x-python",
   "name": "python",
   "nbconvert_exporter": "python",
   "pygments_lexer": "ipython3",
   "version": "3.11.4"
  }
 },
 "nbformat": 4,
 "nbformat_minor": 2
}
