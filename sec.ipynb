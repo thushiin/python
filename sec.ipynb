{
 "cells": [
  {
   "cell_type": "code",
   "execution_count": 1,
   "metadata": {},
   "outputs": [
    {
     "name": "stdout",
     "output_type": "stream",
     "text": [
      "10\n"
     ]
    }
   ],
   "source": [
    "l=[1,2,3,4]\n",
    "print(sum(l))"
   ]
  },
  {
   "cell_type": "code",
   "execution_count": 78,
   "metadata": {},
   "outputs": [
    {
     "name": "stdout",
     "output_type": "stream",
     "text": [
      "98\n"
     ]
    }
   ],
   "source": [
    "l=[10,6,2,5,34,8]\n",
    "i=5\n",
    "for k in l:\n",
    "    if k>i:\n",
    "        i=k\n",
    "    else:\n",
    "        i=i\n",
    "print(i)\n",
    "    "
   ]
  },
  {
   "cell_type": "code",
   "execution_count": 97,
   "metadata": {},
   "outputs": [
    {
     "name": "stdout",
     "output_type": "stream",
     "text": [
      "2\n"
     ]
    }
   ],
   "source": [
    "l=[10,1,2,3,7,5]\n",
    "l.sort()\n",
    "print(l[1])"
   ]
  },
  {
   "cell_type": "code",
   "execution_count": 68,
   "metadata": {},
   "outputs": [
    {
     "name": "stdout",
     "output_type": "stream",
     "text": [
      "35\n",
      "70\n"
     ]
    }
   ],
   "source": [
    "n=100\n",
    "\n",
    "for i in range(1,n):\n",
    "    if i%7==0 and i%5==0:\n",
    "        print(i)\n"
   ]
  },
  {
   "cell_type": "code",
   "execution_count": 188,
   "metadata": {},
   "outputs": [
    {
     "name": "stdout",
     "output_type": "stream",
     "text": [
      "3\n"
     ]
    }
   ],
   "source": [
    "n=2\n",
    "sum=0\n",
    "for i in range(1,n+1):\n",
    "    sum+=i\n",
    "        \n",
    "print(sum)"
   ]
  },
  {
   "cell_type": "code",
   "execution_count": 129,
   "metadata": {},
   "outputs": [
    {
     "name": "stdout",
     "output_type": "stream",
     "text": [
      "-10\n",
      "-9\n",
      "-8\n",
      "-7\n",
      "-6\n",
      "-5\n",
      "-4\n",
      "-3\n",
      "-2\n",
      "-1\n"
     ]
    }
   ],
   "source": [
    "n=-1\n",
    "for i in range(-10,n+1):\n",
    "    print(i)"
   ]
  },
  {
   "cell_type": "code",
   "execution_count": 216,
   "metadata": {},
   "outputs": [
    {
     "name": "stdout",
     "output_type": "stream",
     "text": [
      "23\n",
      "29\n",
      "31\n",
      "37\n",
      "41\n",
      "43\n",
      "47\n",
      "53\n",
      "59\n",
      "61\n",
      "67\n",
      "71\n",
      "73\n",
      "79\n"
     ]
    }
   ],
   "source": [
    "for n in range(20,80):\n",
    "    for i in range(2,n):\n",
    "        if n%i==0:\n",
    "            break\n",
    "    else:\n",
    "        print(n)"
   ]
  },
  {
   "cell_type": "code",
   "execution_count": 193,
   "metadata": {},
   "outputs": [
    {
     "name": "stdout",
     "output_type": "stream",
     "text": [
      "27\n"
     ]
    }
   ],
   "source": [
    "n=3\n",
    "for i in range(1,n+1):\n",
    "    i=i**3\n",
    "print(i)"
   ]
  },
  {
   "cell_type": "code",
   "execution_count": 220,
   "metadata": {},
   "outputs": [
    {
     "name": "stdout",
     "output_type": "stream",
     "text": [
      "8\n"
     ]
    }
   ],
   "source": [
    "s=\"helllooo\"\n",
    "count=0\n",
    "for i in s:\n",
    "    count=count+1\n",
    "print(count)\n",
    "\n"
   ]
  },
  {
   "cell_type": "code",
   "execution_count": 235,
   "metadata": {},
   "outputs": [
    {
     "name": "stdout",
     "output_type": "stream",
     "text": [
      "10\n",
      "3\n"
     ]
    }
   ],
   "source": [
    "s=\"hey its me\"\n",
    "char=len(s)\n",
    "word=len(s.split())\n",
    "    \n",
    "print(char)\n",
    "print(word)"
   ]
  },
  {
   "cell_type": "code",
   "execution_count": 195,
   "metadata": {},
   "outputs": [
    {
     "data": {
      "text/plain": [
       "'hey-its-me'"
      ]
     },
     "execution_count": 195,
     "metadata": {},
     "output_type": "execute_result"
    }
   ],
   "source": [
    "s='hey its me'\n",
    "s.replace(\" \",\"-\")"
   ]
  },
  {
   "cell_type": "code",
   "execution_count": 254,
   "metadata": {},
   "outputs": [
    {
     "name": "stdout",
     "output_type": "stream",
     "text": [
      "5\n"
     ]
    }
   ],
   "source": [
    "s='Helloo'\n",
    "\n",
    "count=0\n",
    "for i in s:\n",
    "    if i.islower():\n",
    "        count=count+1\n",
    "    \n",
    "print(count)\n"
   ]
  },
  {
   "cell_type": "code",
   "execution_count": 226,
   "metadata": {},
   "outputs": [
    {
     "name": "stdout",
     "output_type": "stream",
     "text": [
      "3\n"
     ]
    }
   ],
   "source": [
    "s='seearch'\n",
    "count=0\n",
    "for i in s:\n",
    "    if i in 'aeiou':\n",
    "        count=count+1\n",
    "print(count)"
   ]
  },
  {
   "cell_type": "code",
   "execution_count": 281,
   "metadata": {},
   "outputs": [
    {
     "name": "stdout",
     "output_type": "stream",
     "text": [
      "{'h', 'e'}\n"
     ]
    }
   ],
   "source": [
    "a='heyy'\n",
    "b='hello'\n",
    "c=set(a) & set(b)\n",
    "print(c)"
   ]
  },
  {
   "cell_type": "code",
   "execution_count": 261,
   "metadata": {},
   "outputs": [
    {
     "name": "stdout",
     "output_type": "stream",
     "text": [
      "malayalam is palindrome\n"
     ]
    }
   ],
   "source": [
    "s='malayalam'\n",
    "\n",
    "def is_palindrome(s):\n",
    "    s=s.lower()\n",
    "    return s==s[::-1]\n",
    "\n",
    "if is_palindrome(s):\n",
    "    print(s,\"is palindrome\")\n",
    "else:\n",
    "    print(s,\"not palindrome\")\n",
    "    \n",
    "    \n",
    "    \n"
   ]
  },
  {
   "cell_type": "code",
   "execution_count": 336,
   "metadata": {},
   "outputs": [
    {
     "name": "stdout",
     "output_type": "stream",
     "text": [
      "4 is power of two\n"
     ]
    }
   ],
   "source": [
    "n=4\n",
    "\n",
    "result=n&(n-1)==0\n",
    "\n",
    "if result:\n",
    "    print(n,\"is power of two\")\n",
    "else:\n",
    "    print(n,'not a power of two')"
   ]
  },
  {
   "cell_type": "code",
   "execution_count": 279,
   "metadata": {},
   "outputs": [
    {
     "name": "stdout",
     "output_type": "stream",
     "text": [
      "2x3=6\n"
     ]
    }
   ],
   "source": [
    "a=int(input(\"Enter\"))\n",
    "b=int(input(\"enter\"))\n",
    "\n",
    "n=a*b\n",
    "print(f\"{a}x{b}={n}\")"
   ]
  },
  {
   "cell_type": "code",
   "execution_count": 343,
   "metadata": {},
   "outputs": [
    {
     "name": "stdout",
     "output_type": "stream",
     "text": [
      "1\n",
      "4\n",
      "9\n",
      "16\n",
      "25\n",
      "36\n",
      "49\n",
      "64\n",
      "81\n",
      "100\n"
     ]
    }
   ],
   "source": [
    "\n",
    "for i in range(1,11):\n",
    "   print(i*i)"
   ]
  },
  {
   "cell_type": "code",
   "execution_count": 344,
   "metadata": {},
   "outputs": [],
   "source": [
    "import numpy as np"
   ]
  },
  {
   "cell_type": "code",
   "execution_count": 352,
   "metadata": {},
   "outputs": [
    {
     "data": {
      "text/plain": [
       "array([0., 0., 0., 0., 0., 0., 0., 0., 0., 0.])"
      ]
     },
     "execution_count": 352,
     "metadata": {},
     "output_type": "execute_result"
    }
   ],
   "source": [
    "a=np.zeros(10)\n",
    "a"
   ]
  },
  {
   "cell_type": "code",
   "execution_count": 353,
   "metadata": {},
   "outputs": [
    {
     "data": {
      "text/plain": [
       "array([1., 1., 1., 1., 1., 1., 1., 1., 1., 1.])"
      ]
     },
     "execution_count": 353,
     "metadata": {},
     "output_type": "execute_result"
    }
   ],
   "source": [
    "a=np.ones(10)\n",
    "a"
   ]
  },
  {
   "cell_type": "code",
   "execution_count": 355,
   "metadata": {},
   "outputs": [
    {
     "data": {
      "text/plain": [
       "array([10, 10, 10, 10, 10, 10, 10, 10, 10, 10])"
      ]
     },
     "execution_count": 355,
     "metadata": {},
     "output_type": "execute_result"
    }
   ],
   "source": [
    "a=np.full(10,10)\n",
    "a"
   ]
  },
  {
   "cell_type": "code",
   "execution_count": 356,
   "metadata": {},
   "outputs": [
    {
     "data": {
      "text/plain": [
       "array([30, 31, 32, 33, 34, 35, 36, 37, 38, 39, 40, 41, 42, 43, 44, 45, 46,\n",
       "       47, 48, 49, 50, 51, 52, 53, 54, 55, 56, 57, 58, 59, 60, 61, 62, 63,\n",
       "       64, 65, 66, 67, 68, 69, 70])"
      ]
     },
     "execution_count": 356,
     "metadata": {},
     "output_type": "execute_result"
    }
   ],
   "source": [
    "np.arange(30,71)"
   ]
  },
  {
   "cell_type": "code",
   "execution_count": 357,
   "metadata": {},
   "outputs": [
    {
     "data": {
      "text/plain": [
       "array([30, 32, 34, 36, 38, 40, 42, 44, 46, 48, 50, 52, 54, 56, 58, 60, 62,\n",
       "       64, 66, 68, 70])"
      ]
     },
     "execution_count": 357,
     "metadata": {},
     "output_type": "execute_result"
    }
   ],
   "source": [
    "np.arange(30,71,2)"
   ]
  },
  {
   "cell_type": "code",
   "execution_count": 358,
   "metadata": {},
   "outputs": [
    {
     "data": {
      "text/plain": [
       "array([[1., 0., 0.],\n",
       "       [0., 1., 0.],\n",
       "       [0., 0., 1.]])"
      ]
     },
     "execution_count": 358,
     "metadata": {},
     "output_type": "execute_result"
    }
   ],
   "source": [
    "np.identity(3)"
   ]
  },
  {
   "cell_type": "code",
   "execution_count": 367,
   "metadata": {},
   "outputs": [
    {
     "data": {
      "text/plain": [
       "0"
      ]
     },
     "execution_count": 367,
     "metadata": {},
     "output_type": "execute_result"
    }
   ],
   "source": [
    "np.random.randint(0,1)"
   ]
  },
  {
   "cell_type": "code",
   "execution_count": 438,
   "metadata": {},
   "outputs": [
    {
     "name": "stdout",
     "output_type": "stream",
     "text": [
      "[0, 1, 1, 2]\n"
     ]
    }
   ],
   "source": [
    "n=int(input(\"enter\"))\n",
    "\n",
    "if n<=0:\n",
    "    print(\"Inavlid\")\n",
    "    \n",
    "else:\n",
    "    fib=[0,1]\n",
    "    \n",
    "    while len(fib)<=n:\n",
    "        next=fib[-1]+fib[-2]\n",
    "        fib.append(next)\n",
    "print(fib)   \n",
    "    \n"
   ]
  },
  {
   "cell_type": "code",
   "execution_count": 463,
   "metadata": {},
   "outputs": [
    {
     "name": "stdout",
     "output_type": "stream",
     "text": [
      "[0, 1, 1, 2, 3, 5, 8, 13, 21]\n"
     ]
    }
   ],
   "source": [
    "def fibonacci(n):\n",
    "    fib=[0,1]\n",
    "    while len(fib)<=n:\n",
    "        next=fib[-1]+fib[-2]\n",
    "        fib.append(next)\n",
    "    return fib\n",
    "    \n",
    "n=int(input(\"enter\"))   \n",
    "if n<=0:\n",
    "    print(\"invalid\")\n",
    "    \n",
    "else:\n",
    "    print(fibonacci(n))\n",
    "        \n",
    "\n",
    "    \n",
    "    \n",
    "        \n",
    "        "
   ]
  },
  {
   "cell_type": "code",
   "execution_count": 497,
   "metadata": {},
   "outputs": [
    {
     "name": "stdout",
     "output_type": "stream",
     "text": [
      "oellh\n"
     ]
    }
   ],
   "source": [
    "s=\"hello\"\n",
    "a=s[-1]\n",
    "b=s[0]\n",
    "c=s[1:-1]\n",
    "swap=a+c+b\n",
    "print(swap)\n"
   ]
  },
  {
   "cell_type": "code",
   "execution_count": 506,
   "metadata": {},
   "outputs": [
    {
     "data": {
      "text/plain": [
       "'hloo'"
      ]
     },
     "execution_count": 506,
     "metadata": {},
     "output_type": "execute_result"
    }
   ],
   "source": [
    "s=\"helyoio\"\n",
    "s[::2]"
   ]
  },
  {
   "cell_type": "code",
   "execution_count": 533,
   "metadata": {},
   "outputs": [
    {
     "name": "stdout",
     "output_type": "stream",
     "text": [
      "leap year\n"
     ]
    }
   ],
   "source": [
    "n=int(input(\"enter\"))\n",
    "\n",
    "if((n%4)==0 and (n%100)!=0 or (n%400)==0 and (n%100)==0):\n",
    "    print(\"leap year\")\n",
    "else:\n",
    "    print(\"not leap year\")"
   ]
  },
  {
   "cell_type": "code",
   "execution_count": 599,
   "metadata": {},
   "outputs": [
    {
     "name": "stdout",
     "output_type": "stream",
     "text": [
      "AEWFF\n"
     ]
    }
   ],
   "source": [
    "s=input(\"enter\")\n",
    "n=0\n",
    "for i in s[:4]:\n",
    "    if i.upper()==i:\n",
    "        n=n+1\n",
    "        \n",
    "while n>=2:\n",
    "    print(s.upper())\n",
    "    break\n",
    "else:\n",
    "    print(s)\n",
    "        \n",
    "       \n",
    "        "
   ]
  },
  {
   "cell_type": "code",
   "execution_count": 786,
   "metadata": {},
   "outputs": [
    {
     "name": "stdout",
     "output_type": "stream",
     "text": [
      "* \n",
      "* * \n",
      "* * * \n",
      "* * * * \n",
      "* * * * * \n"
     ]
    }
   ],
   "source": [
    "n=5\n",
    "for i in range(n):\n",
    "    for j in range(i+1):\n",
    "        print(\"*\",end=\" \")\n",
    "    print()    \n",
    "    "
   ]
  },
  {
   "cell_type": "code",
   "execution_count": 793,
   "metadata": {},
   "outputs": [
    {
     "name": "stdout",
     "output_type": "stream",
     "text": [
      "* * * * * \n",
      "* * * * \n",
      "* * * \n",
      "* * \n",
      "* \n"
     ]
    }
   ],
   "source": [
    "n=5\n",
    "for i in range(n):\n",
    "    for j in range(n-i):\n",
    "        print('*',end=\" \")\n",
    "    print()"
   ]
  },
  {
   "cell_type": "code",
   "execution_count": 648,
   "metadata": {},
   "outputs": [
    {
     "name": "stdout",
     "output_type": "stream",
     "text": [
      "* * * * * \n",
      "* * * * * \n",
      "* * * * * \n",
      "* * * * * \n",
      "* * * * * \n"
     ]
    }
   ],
   "source": [
    "n=5\n",
    "for i in range(n):\n",
    "    for j in range(n):\n",
    "        print(\"*\",end=\" \")\n",
    "    print()"
   ]
  },
  {
   "cell_type": "code",
   "execution_count": 735,
   "metadata": {},
   "outputs": [
    {
     "name": "stdout",
     "output_type": "stream",
     "text": [
      "    * \n",
      "   * * \n",
      "  * * * \n",
      " * * * * \n",
      "* * * * * \n"
     ]
    }
   ],
   "source": [
    "n=5\n",
    "for i in range(1,n+1):\n",
    "    space=\" \" *(n-i)\n",
    "    star=\"* \" * (i)\n",
    "\n",
    "    print(space+star)"
   ]
  },
  {
   "cell_type": "code",
   "execution_count": 706,
   "metadata": {},
   "outputs": [
    {
     "name": "stdout",
     "output_type": "stream",
     "text": [
      "1 \n",
      "1 2 \n",
      "1 2 3 \n",
      "1 2 3 4 \n",
      "1 2 3 4 5 \n"
     ]
    }
   ],
   "source": [
    "n=5\n",
    "for i in range(1,n+1):\n",
    "    for j in range(1,i+1):\n",
    "        print(j,end=\" \")\n",
    "    print()"
   ]
  },
  {
   "cell_type": "code",
   "execution_count": 707,
   "metadata": {},
   "outputs": [
    {
     "name": "stdout",
     "output_type": "stream",
     "text": [
      "1 \n",
      "2 2 \n",
      "3 3 3 \n",
      "4 4 4 4 \n",
      "5 5 5 5 5 \n"
     ]
    }
   ],
   "source": [
    "n=5\n",
    "for i in range(1,n+1):\n",
    "    for j in range(1,i+1):\n",
    "        print(i,end=\" \")\n",
    "    print()"
   ]
  },
  {
   "cell_type": "code",
   "execution_count": 811,
   "metadata": {},
   "outputs": [
    {
     "name": "stdout",
     "output_type": "stream",
     "text": [
      "* * * * * \n",
      " * * * * \n",
      "  * * * \n",
      "   * * \n",
      "    * \n"
     ]
    }
   ],
   "source": [
    "n=5\n",
    "for i in range(n,0,-1):\n",
    "    space=\" \" *(n-i)\n",
    "    star=\"* \" * (i)\n",
    "\n",
    "    print(space+star)"
   ]
  },
  {
   "cell_type": "code",
   "execution_count": 930,
   "metadata": {},
   "outputs": [
    {
     "name": "stdout",
     "output_type": "stream",
     "text": [
      "0 \n",
      "0 1 \n",
      "0 1 2 \n",
      "0 1 2 3 \n"
     ]
    }
   ],
   "source": [
    "n=4\n",
    "for i in range(1,n+1):\n",
    "    for j in range(0,i):\n",
    "        print(j,end=\" \")\n",
    "    print()"
   ]
  },
  {
   "cell_type": "code",
   "execution_count": 900,
   "metadata": {},
   "outputs": [
    {
     "name": "stdout",
     "output_type": "stream",
     "text": [
      "0\n",
      "01\n",
      "011\n",
      "0112\n",
      "01123\n",
      "\n"
     ]
    }
   ],
   "source": [
    "n=4\n",
    "fib=[0,1]\n",
    "while len(fib)<=n:\n",
    "    next=fib[-1]+fib[-2]\n",
    "    fib.append(next)\n",
    "    \n",
    "for i in range(n+1):\n",
    "    row=\"\"\n",
    "    for j in range(i+1):\n",
    "        row+=str(fib[j])\n",
    "    print(row)\n",
    "print()"
   ]
  },
  {
   "cell_type": "code",
   "execution_count": 939,
   "metadata": {},
   "outputs": [
    {
     "name": "stdout",
     "output_type": "stream",
     "text": [
      "Aju\n",
      "20\n"
     ]
    }
   ],
   "source": [
    "class person:\n",
    "    def __init__(self,name,age):\n",
    "        self.name=name\n",
    "        self.age=age \n",
    "        \n",
    "    def pername(self):\n",
    "        print(self.name)\n",
    "        \n",
    "    def perage(self):\n",
    "        print(self.age)\n",
    "        \n",
    "per=person(\"Aju\",20)\n",
    "per.pername()\n",
    "per.perage()"
   ]
  },
  {
   "cell_type": "code",
   "execution_count": 940,
   "metadata": {},
   "outputs": [],
   "source": [
    "class vehicle:\n",
    "    pass\n",
    "    "
   ]
  },
  {
   "cell_type": "code",
   "execution_count": 951,
   "metadata": {},
   "outputs": [
    {
     "name": "stdout",
     "output_type": "stream",
     "text": [
      "Name of bus is asd\n",
      "Model of bus is 2023\n"
     ]
    }
   ],
   "source": [
    "class vehicle:\n",
    "    def __init__(self,name,model):\n",
    "        self.name=name\n",
    "        self.model=model\n",
    "        \n",
    "    def busname(self):\n",
    "        print(\"Name of bus is\",self.name)\n",
    "        print(\"Model of bus is\",self.model)\n",
    "        \n",
    "        \n",
    "class bus(vehicle):\n",
    "    pass\n",
    "\n",
    "b=bus(\"asd\",2023)\n",
    "b.busname()\n"
   ]
  },
  {
   "cell_type": "code",
   "execution_count": 963,
   "metadata": {},
   "outputs": [
    {
     "name": "stdout",
     "output_type": "stream",
     "text": [
      "Seating capacity of sa is 50\n"
     ]
    }
   ],
   "source": [
    "class vehicle:\n",
    "    def __init__(self,name,model):\n",
    "        self.name=name\n",
    "        self.model=model\n",
    "        \n",
    "            \n",
    "    def seatingcapacity(self,capacity):\n",
    "        print(f\"Seating capacity of {self.name} is {capacity}\")\n",
    "            \n",
    "class bus(vehicle):\n",
    "    def seatingcapacity(self,capacity=50):\n",
    "        return super().seatingcapacity(capacity)\n",
    "\n",
    "b=bus(\"sa\",2023)\n",
    "b.seatingcapacity()\n"
   ]
  },
  {
   "cell_type": "code",
   "execution_count": 974,
   "metadata": {},
   "outputs": [
    {
     "name": "stdout",
     "output_type": "stream",
     "text": [
      "22000.0\n"
     ]
    }
   ],
   "source": [
    "class vehicle:\n",
    "    def __init__(self,name,model,capacity):\n",
    "        self.name=name\n",
    "        self.model=model\n",
    "        self.capacity=capacity\n",
    "        \n",
    "            \n",
    "    def charge(self):\n",
    "        print(self.capacity*100)\n",
    "            \n",
    "class bus(vehicle):\n",
    "    def charge(self):\n",
    "        amount=self.capacity*100\n",
    "        totalamount=amount+(amount*10/100)\n",
    "        print(totalamount)\n",
    "        \n",
    "b=bus(\"sa\",2023,200)\n",
    "b.charge()\n"
   ]
  },
  {
   "cell_type": "code",
   "execution_count": 976,
   "metadata": {},
   "outputs": [
    {
     "name": "stdout",
     "output_type": "stream",
     "text": [
      "{'athul': 22, 'anu': 23}\n"
     ]
    }
   ],
   "source": [
    "key=[\"athul\",\"anu\"]\n",
    "value=[22,23]\n",
    "x=zip(key,value)\n",
    "print(dict(x))"
   ]
  },
  {
   "cell_type": "code",
   "execution_count": 992,
   "metadata": {},
   "outputs": [
    {
     "ename": "SyntaxError",
     "evalue": "invalid syntax (3315218636.py, line 6)",
     "output_type": "error",
     "traceback": [
      "\u001b[0;36m  Cell \u001b[0;32mIn[992], line 6\u001b[0;36m\u001b[0m\n\u001b[0;31m    res_dict.update(key[i]:value[i])\u001b[0m\n\u001b[0m                          ^\u001b[0m\n\u001b[0;31mSyntaxError\u001b[0m\u001b[0;31m:\u001b[0m invalid syntax\n"
     ]
    }
   ],
   "source": [
    "key=[\"athul\",\"anu\"]\n",
    "value=[22,23]\n",
    "\n",
    "res_dict=dict()\n",
    "for i in range(len(key)):\n",
    "    res_dict.update(key[i]:value[i])\n",
    "    print(res_dict)\n",
    "  "
   ]
  },
  {
   "cell_type": "code",
   "execution_count": 983,
   "metadata": {},
   "outputs": [
    {
     "data": {
      "text/plain": [
       "{'name': 'athul', 'age': 23, 'place': 'Kozhikode'}"
      ]
     },
     "execution_count": 983,
     "metadata": {},
     "output_type": "execute_result"
    }
   ],
   "source": [
    "a={\"name\":\"athul\",\"age\":23}\n",
    "b={\"place\":\"Kozhikode\"}\n",
    "{**a,**b}\n"
   ]
  },
  {
   "cell_type": "code",
   "execution_count": 985,
   "metadata": {},
   "outputs": [
    {
     "data": {
      "text/plain": [
       "2324"
      ]
     },
     "execution_count": 985,
     "metadata": {},
     "output_type": "execute_result"
    }
   ],
   "source": [
    "a={\"name\":\"athul\",\"age\":23,\"history\":2324}\n",
    "a[\"history\"]"
   ]
  },
  {
   "cell_type": "code",
   "execution_count": 1000,
   "metadata": {},
   "outputs": [
    {
     "name": "stdout",
     "output_type": "stream",
     "text": [
      "{'name': 'athul', 'age': 23}\n"
     ]
    }
   ],
   "source": [
    "a={\"name\":\"athul\",\"age\":23,\"place\":\"Kozhikode\"}\n",
    "keys=['name','age']\n",
    "b={k:a[k] for k in keys }\n",
    "print(b)\n",
    "\n",
    "\n"
   ]
  },
  {
   "cell_type": "code",
   "execution_count": 1064,
   "metadata": {},
   "outputs": [
    {
     "name": "stdout",
     "output_type": "stream",
     "text": [
      "{'place': 'Kozhikode'}\n"
     ]
    }
   ],
   "source": [
    "a={\"name\":\"athul\",\"age\":23,\"place\":\"Kozhikode\"}\n",
    "keys=['name','age']\n",
    "b={k:a[k] for k in a.keys()-keys}\n",
    "print(b)\n"
   ]
  },
  {
   "cell_type": "code",
   "execution_count": 1065,
   "metadata": {},
   "outputs": [
    {
     "name": "stdout",
     "output_type": "stream",
     "text": [
      "{'place': 'Kozhikode'}\n"
     ]
    }
   ],
   "source": [
    "a={\"name\":\"athul\",\"age\":23,\"place\":\"Kozhikode\"}\n",
    "keys=['name','age']\n",
    "for k in keys:\n",
    "    a.pop(k)\n",
    "print(a)"
   ]
  },
  {
   "cell_type": "code",
   "execution_count": 1015,
   "metadata": {},
   "outputs": [
    {
     "name": "stdout",
     "output_type": "stream",
     "text": [
      "exist\n"
     ]
    }
   ],
   "source": [
    "a={\"name\":\"athul\",\"age\":23,\"place\":\"Kozhikode\"}\n",
    "if 23 in a.values():\n",
    "    print(\"exist\")\n",
    "else:\n",
    "    print(\"Doesnt exist\")"
   ]
  },
  {
   "cell_type": "code",
   "execution_count": 1044,
   "metadata": {},
   "outputs": [
    {
     "data": {
      "text/plain": [
       "{'name': 'athul', 'age': 23, 'location': 'Kozhikode'}"
      ]
     },
     "execution_count": 1044,
     "metadata": {},
     "output_type": "execute_result"
    }
   ],
   "source": [
    "a={\"name\":\"athul\",\"age\":23,\"place\":\"Kozhikode\"}\n",
    "a['location']=a.pop('place')\n",
    "a"
   ]
  },
  {
   "cell_type": "code",
   "execution_count": 1059,
   "metadata": {},
   "outputs": [
    {
     "data": {
      "text/plain": [
       "'q'"
      ]
     },
     "execution_count": 1059,
     "metadata": {},
     "output_type": "execute_result"
    }
   ],
   "source": [
    "a={'q':21,'o':322,\"p\":123}\n",
    "min(a,key=a.get)"
   ]
  },
  {
   "cell_type": "code",
   "execution_count": 1029,
   "metadata": {},
   "outputs": [
    {
     "data": {
      "text/plain": [
       "{'q': 21, 'o': 21122, 'p': 123}"
      ]
     },
     "execution_count": 1029,
     "metadata": {},
     "output_type": "execute_result"
    }
   ],
   "source": [
    "a={'q':21,'o':322,\"p\":123}\n",
    "a['o']=21122\n",
    "a"
   ]
  },
  {
   "cell_type": "code",
   "execution_count": 1112,
   "metadata": {},
   "outputs": [
    {
     "name": "stdout",
     "output_type": "stream",
     "text": [
      "* * * * * * * \n",
      "* \n",
      "* \n",
      "* * * * * * * \n",
      "* \n",
      "* \n",
      "* * * * * * * \n"
     ]
    }
   ],
   "source": [
    "n=8\n",
    "for i in range(1,n):\n",
    "    for j in range(1,n):\n",
    "        if i==1 or i==4 or i==7 or j==1:\n",
    "            print('*',end=' ')\n",
    "        \n",
    "        # if i==0:\n",
    "        #     print(\"*\",end=\" \")\n",
    "        # elif i==1:\n",
    "        #     print(\"\",end=\" \")\n",
    "        # elif i==2:\n",
    "        #     print(\"*\",end=\" \")\n",
    "        # elif i==3:\n",
    "        #     print(\"\",end=\" \")\n",
    "        # else:\n",
    "        #     print(\"*\",end=\" \")\n",
    "        \n",
    "    print()"
   ]
  },
  {
   "cell_type": "code",
   "execution_count": 1122,
   "metadata": {},
   "outputs": [
    {
     "name": "stdout",
     "output_type": "stream",
     "text": [
      "A B C D \n",
      "A B C D \n",
      "A B C D \n",
      "A B C D \n"
     ]
    }
   ],
   "source": [
    "for i in range(1,5):\n",
    "    n=65\n",
    "    \n",
    "    for j in range(1,5):\n",
    "        c=chr(n)\n",
    "        print(c,end=' ')\n",
    "        n+=1\n",
    "    print()\n",
    "    \n",
    "    "
   ]
  },
  {
   "cell_type": "code",
   "execution_count": 1123,
   "metadata": {},
   "outputs": [
    {
     "name": "stdout",
     "output_type": "stream",
     "text": [
      "A \n",
      "A A \n",
      "A A A \n",
      "A A A A \n"
     ]
    }
   ],
   "source": [
    "n=65\n",
    "for i in range(1,5):\n",
    "    for j in range(1,i+1):\n",
    "        c=chr(n)\n",
    "        print(c,end=\" \")\n",
    "    print()"
   ]
  },
  {
   "cell_type": "code",
   "execution_count": 1127,
   "metadata": {},
   "outputs": [
    {
     "name": "stdout",
     "output_type": "stream",
     "text": [
      "A \n",
      "A B \n",
      "A B C \n",
      "A B C D \n"
     ]
    }
   ],
   "source": [
    "\n",
    "for i in range(1,5):\n",
    "    n=65\n",
    "    for j in range(1,i+1):\n",
    "        c=chr(n)\n",
    "        print(c,end=\" \")\n",
    "        n+=1\n",
    "    print()"
   ]
  },
  {
   "cell_type": "code",
   "execution_count": 1151,
   "metadata": {},
   "outputs": [
    {
     "name": "stdout",
     "output_type": "stream",
     "text": [
      "A \n",
      "B C \n",
      "D E F \n",
      "G H I J \n"
     ]
    }
   ],
   "source": [
    "n=65\n",
    "for i in range(1,5):\n",
    "    for j in range(1,i+1):\n",
    "        c=chr(n)\n",
    "        print(c,end=\" \")\n",
    "        n+=1\n",
    "    print()"
   ]
  },
  {
   "cell_type": "code",
   "execution_count": 1165,
   "metadata": {},
   "outputs": [
    {
     "name": "stdout",
     "output_type": "stream",
     "text": [
      "A \n",
      "B B \n",
      "C C C \n",
      "D D D D \n"
     ]
    }
   ],
   "source": [
    "n=64\n",
    "for i in range(1,5):\n",
    "    n+=1\n",
    "    for j in range(1,i+1):\n",
    "        c=chr(n)\n",
    "        print(c,end=\" \")\n",
    "    print()"
   ]
  },
  {
   "cell_type": "code",
   "execution_count": null,
   "metadata": {},
   "outputs": [],
   "source": []
  }
 ],
 "metadata": {
  "kernelspec": {
   "display_name": "Python 3",
   "language": "python",
   "name": "python3"
  },
  "language_info": {
   "codemirror_mode": {
    "name": "ipython",
    "version": 3
   },
   "file_extension": ".py",
   "mimetype": "text/x-python",
   "name": "python",
   "nbconvert_exporter": "python",
   "pygments_lexer": "ipython3",
   "version": "3.11.4"
  }
 },
 "nbformat": 4,
 "nbformat_minor": 2
}
