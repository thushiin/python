{
 "cells": [
  {
   "cell_type": "code",
   "execution_count": 1,
   "metadata": {},
   "outputs": [
    {
     "name": "stdout",
     "output_type": "stream",
     "text": [
      "Collecting mysql-connector-python\n",
      "  Downloading mysql_connector_python-8.3.0-cp311-cp311-macosx_13_0_arm64.whl (15.3 MB)\n",
      "\u001b[2K     \u001b[90m━━━━━━━━━━━━━━━━━━━━━━━━━━━━━━━━━━━━━━━━\u001b[0m \u001b[32m15.3/15.3 MB\u001b[0m \u001b[31m17.7 MB/s\u001b[0m eta \u001b[36m0:00:00\u001b[0m00:01\u001b[0m00:01\u001b[0m\n",
      "\u001b[?25hInstalling collected packages: mysql-connector-python\n",
      "Successfully installed mysql-connector-python-8.3.0\n",
      "\n",
      "\u001b[1m[\u001b[0m\u001b[34;49mnotice\u001b[0m\u001b[1;39;49m]\u001b[0m\u001b[39;49m A new release of pip is available: \u001b[0m\u001b[31;49m23.1.2\u001b[0m\u001b[39;49m -> \u001b[0m\u001b[32;49m24.0\u001b[0m\n",
      "\u001b[1m[\u001b[0m\u001b[34;49mnotice\u001b[0m\u001b[1;39;49m]\u001b[0m\u001b[39;49m To update, run: \u001b[0m\u001b[32;49mpip3 install --upgrade pip\u001b[0m\n",
      "Note: you may need to restart the kernel to use updated packages.\n"
     ]
    }
   ],
   "source": [
    "pip install mysql-connector-python"
   ]
  },
  {
   "cell_type": "code",
   "execution_count": 1,
   "metadata": {},
   "outputs": [
    {
     "name": "stdout",
     "output_type": "stream",
     "text": [
      "('employee',)\n",
      "('information_schema',)\n",
      "('mysql',)\n",
      "('newdatabase',)\n",
      "('performance_schema',)\n",
      "('sys',)\n"
     ]
    }
   ],
   "source": [
    "import mysql.connector \n",
    "\n",
    "mydb=mysql.connector.connect(\n",
    "    host='localhost',\n",
    "    user='root',\n",
    "    password='Thushin@2001',\n",
    "    \n",
    ")\n",
    "\n",
    "a=mydb.cursor()\n",
    "\n",
    "a.execute(\"SHOW DATABASES\")\n",
    "\n",
    "for x in a:\n",
    "    print(x)\n"
   ]
  },
  {
   "cell_type": "code",
   "execution_count": null,
   "metadata": {},
   "outputs": [],
   "source": [
    "a=mydb.cursor()\n",
    "\n",
    "a.execute(\"create database newdatabase\")\n",
    "\n",
    "for x in a:\n",
    "    print(x)"
   ]
  },
  {
   "cell_type": "code",
   "execution_count": 2,
   "metadata": {},
   "outputs": [],
   "source": [
    "mydb=mysql.connector.connect(\n",
    "    host='localhost',\n",
    "    user='root',\n",
    "    password='Thushin@2001',\n",
    "    database='newdatabase'\n",
    ")\n",
    "a=mydb.cursor()\n",
    "\n",
    "# a.execute(\"create table customer(id int, name varchar(50),address varchar(50))\")\n",
    "\n",
    "# for x in a:\n",
    "#     print(x)"
   ]
  },
  {
   "cell_type": "code",
   "execution_count": null,
   "metadata": {},
   "outputs": [],
   "source": [
    "a=mydb.cursor()\n",
    "\n",
    "a.execute(\"alter table customer add column(salary int)\")\n",
    "\n",
    "for x in a:\n",
    "    print(x)"
   ]
  },
  {
   "cell_type": "code",
   "execution_count": 15,
   "metadata": {},
   "outputs": [],
   "source": [
    "a=mydb.cursor()\n",
    "\n",
    "a.execute(\"alter table customer modify id int not null\")\n",
    "\n",
    "for x in a:\n",
    "    print(x)"
   ]
  },
  {
   "cell_type": "code",
   "execution_count": null,
   "metadata": {},
   "outputs": [],
   "source": [
    "a=mydb.cursor()\n",
    "\n",
    "a.execute(\"describe customer\")\n",
    "\n",
    "for x in a:\n",
    "    print(x)"
   ]
  },
  {
   "cell_type": "code",
   "execution_count": 31,
   "metadata": {},
   "outputs": [],
   "source": [
    "a=mydb.cursor()\n",
    "\n",
    "a.execute(\"insert into customer values(100,'athul','kozhikode',25000),(101,'abi','kannur',30000)\")\n",
    "mydb.commit()\n",
    "for x in a:\n",
    "    print(x)"
   ]
  },
  {
   "cell_type": "code",
   "execution_count": 58,
   "metadata": {},
   "outputs": [
    {
     "name": "stdout",
     "output_type": "stream",
     "text": [
      "(100, 'athul', 'kozhikode', 25000)\n",
      "(101, 'abi', 'kannur', 30000)\n",
      "(100, 'athul', 'kozhikode', 25000)\n",
      "(101, 'abi', 'kannur', 30000)\n"
     ]
    }
   ],
   "source": [
    "a=mydb.cursor()\n",
    "\n",
    "a.execute(\"select * from customer\")\n",
    "\n",
    "myresult=a.fetchall()\n",
    "\n",
    "for x in myresult:\n",
    "    print(x)"
   ]
  },
  {
   "cell_type": "code",
   "execution_count": 44,
   "metadata": {},
   "outputs": [
    {
     "name": "stdout",
     "output_type": "stream",
     "text": [
      "(100, 'athul', 'kozhikode', 25000)\n"
     ]
    }
   ],
   "source": [
    "a=mydb.cursor()\n",
    "\n",
    "a.execute(\"select * from customer\")\n",
    "\n",
    "myresult=a.fetchone()\n",
    "\n",
    "print(myresult)\n"
   ]
  },
  {
   "cell_type": "code",
   "execution_count": 64,
   "metadata": {},
   "outputs": [
    {
     "name": "stdout",
     "output_type": "stream",
     "text": [
      "3\n"
     ]
    }
   ],
   "source": [
    "\n",
    "\n",
    "sql= \"insert into customer (id,name,address,salary) values(%s,%s,%s,%s)\"\n",
    "val=[(102,'arun','wayanad',20000),\n",
    "     (103,'anu','kannur',22000),\n",
    "     (104,'atif','kochi',35000)\n",
    "     ]\n",
    "\n",
    "a.executemany(sql,val)\n",
    "mydb.commit()\n",
    "\n",
    "print(a.rowcount)"
   ]
  },
  {
   "cell_type": "code",
   "execution_count": 75,
   "metadata": {},
   "outputs": [
    {
     "name": "stdout",
     "output_type": "stream",
     "text": [
      "(101, 'abi', 'kannur', 30000)\n",
      "(101, 'abi', 'kannur', 30000)\n",
      "(103, 'anu', 'kannur', 22000)\n",
      "(103, 'anu', 'kannur', 22000)\n",
      "(103, 'anu', 'kannur', 22000)\n"
     ]
    }
   ],
   "source": [
    "\n",
    "\n",
    "a.execute(\"select * from customer where address='kannur'\")\n",
    "\n",
    "for x in a:\n",
    "    print(x)"
   ]
  },
  {
   "cell_type": "code",
   "execution_count": 76,
   "metadata": {},
   "outputs": [
    {
     "name": "stdout",
     "output_type": "stream",
     "text": [
      "(101, 'abi', 'kannur', 30000)\n",
      "(101, 'abi', 'kannur', 30000)\n"
     ]
    }
   ],
   "source": [
    "a.execute(\"select * from customer where address='kannur' and id=101\")\n",
    "\n",
    "for x in a:\n",
    "    print(x)"
   ]
  },
  {
   "cell_type": "code",
   "execution_count": 78,
   "metadata": {},
   "outputs": [
    {
     "name": "stdout",
     "output_type": "stream",
     "text": [
      "(101, 'abi', 'kannur', 30000)\n",
      "(101, 'abi', 'kannur', 30000)\n",
      "(103, 'anu', 'kannur', 22000)\n",
      "(103, 'anu', 'kannur', 22000)\n",
      "(103, 'anu', 'kannur', 22000)\n"
     ]
    }
   ],
   "source": [
    "a.execute(\"select * from customer where address like '%nn%'\")\n",
    "\n",
    "for x in a:\n",
    "    print(x)"
   ]
  },
  {
   "cell_type": "code",
   "execution_count": 81,
   "metadata": {},
   "outputs": [
    {
     "name": "stdout",
     "output_type": "stream",
     "text": [
      "(100, 'athul', 'kozhikode', 25000)\n",
      "(101, 'abi', 'kannur', 30000)\n",
      "(102, 'arun', 'wayanad', 20000)\n",
      "(103, 'anu', 'kannur', 22000)\n",
      "(104, 'atif', 'kochi', 35000)\n"
     ]
    }
   ],
   "source": [
    "a.execute('select distinct * from customer')\n",
    "mydb.commit\n",
    "for x in a:\n",
    "    print(x)"
   ]
  },
  {
   "cell_type": "code",
   "execution_count": 5,
   "metadata": {},
   "outputs": [],
   "source": [
    "a.execute(\"select * from customer\")\n",
    "\n",
    "for x in a:\n",
    "    print(x)"
   ]
  },
  {
   "cell_type": "code",
   "execution_count": 4,
   "metadata": {},
   "outputs": [],
   "source": [
    "a.execute('delete from customer')\n",
    "mydb.commit()\n",
    "for x in a:\n",
    "    print(x)\n"
   ]
  },
  {
   "cell_type": "code",
   "execution_count": 7,
   "metadata": {},
   "outputs": [],
   "source": [
    "a.execute(\"create table new(name varchar(50))\")\n",
    "\n",
    "for x in a:\n",
    "    print(x)"
   ]
  },
  {
   "cell_type": "code",
   "execution_count": 10,
   "metadata": {},
   "outputs": [],
   "source": [
    "a.execute(\"drop table new\")\n",
    "\n",
    "for x in a:\n",
    "    print(x)"
   ]
  },
  {
   "cell_type": "code",
   "execution_count": 11,
   "metadata": {},
   "outputs": [
    {
     "name": "stdout",
     "output_type": "stream",
     "text": [
      "('customer',)\n"
     ]
    }
   ],
   "source": [
    "a.execute(\"show tables\")\n",
    "\n",
    "for x in a:\n",
    "    print(x)"
   ]
  },
  {
   "cell_type": "code",
   "execution_count": 12,
   "metadata": {},
   "outputs": [],
   "source": [
    "sql= \"insert into customer (id,name,address,salary) values(%s,%s,%s,%s)\"\n",
    "val=[(100,'athul','kozhikode',25000),\n",
    "     (101,'abi','kannur',30000),\n",
    "     (102,'arun','wayanad',20000),\n",
    "     (103,'anu','kannur',22000),\n",
    "     (104,'atif','kochi',35000)\n",
    "     ]\n",
    "\n",
    "a.executemany(sql,val)\n",
    "mydb.commit()\n",
    "\n",
    "for x in a:\n",
    "    print(x)"
   ]
  },
  {
   "cell_type": "code",
   "execution_count": 13,
   "metadata": {},
   "outputs": [
    {
     "name": "stdout",
     "output_type": "stream",
     "text": [
      "(100, 'athul', 'kozhikode', 25000)\n",
      "(101, 'abi', 'kannur', 30000)\n",
      "(102, 'arun', 'wayanad', 20000)\n",
      "(103, 'anu', 'kannur', 22000)\n",
      "(104, 'atif', 'kochi', 35000)\n"
     ]
    }
   ],
   "source": [
    "a.execute(\"select * from customer\")\n",
    "\n",
    "for x in a:\n",
    "    print(x)"
   ]
  },
  {
   "cell_type": "code",
   "execution_count": 14,
   "metadata": {},
   "outputs": [],
   "source": [
    "a.execute(\"update customer set address='kozhikode' where name='abi'\")\n"
   ]
  },
  {
   "cell_type": "code",
   "execution_count": 16,
   "metadata": {},
   "outputs": [
    {
     "name": "stdout",
     "output_type": "stream",
     "text": [
      "(100, 'athul', 'kozhikode', 25000)\n",
      "(101, 'abi', 'kozhikode', 30000)\n",
      "(102, 'arun', 'wayanad', 20000)\n"
     ]
    }
   ],
   "source": [
    "a.execute(\"select * from customer limit 3\")\n",
    "\n",
    "for x in a:\n",
    "    print(x)"
   ]
  },
  {
   "cell_type": "code",
   "execution_count": null,
   "metadata": {},
   "outputs": [],
   "source": [
    "a.execute(\"select * from customer limit 3\")\n",
    "\n",
    "for x in a:\n",
    "    print(x)"
   ]
  },
  {
   "cell_type": "code",
   "execution_count": 17,
   "metadata": {},
   "outputs": [],
   "source": [
    "mydb=mysql.connector.connect(\n",
    "    host='localhost',\n",
    "    user='root',\n",
    "    password='Thushin@2001',\n",
    "    database='employee'\n",
    ")\n",
    "a=mydb.cursor()\n"
   ]
  },
  {
   "cell_type": "code",
   "execution_count": 18,
   "metadata": {},
   "outputs": [
    {
     "name": "stdout",
     "output_type": "stream",
     "text": [
      "(100, 'abi', 'kozhikode', 200000)\n",
      "(101, 'athul', 'kozhikode', 300000)\n",
      "(102, 'anu', 'kannur', 200000)\n",
      "(104, 'sachin', 'wayanad', 230000)\n",
      "(105, 'abdu', 'wayanad', 330000)\n"
     ]
    }
   ],
   "source": [
    "a.execute(\"select * from emptable\")\n",
    "\n",
    "for x in a:\n",
    "    print(x)"
   ]
  },
  {
   "cell_type": "code",
   "execution_count": 19,
   "metadata": {},
   "outputs": [
    {
     "name": "stdout",
     "output_type": "stream",
     "text": [
      "(100, 'abi', 20, 'kozhikode')\n",
      "(101, 'athul', 21, 'kozhikode')\n",
      "(102, 'anu', 21, 'kannur')\n",
      "(103, 'manu', 19, 'kannur')\n",
      "(104, 'sachin', 20, 'wayanad')\n"
     ]
    }
   ],
   "source": [
    "a.execute(\"select * from emp\")\n",
    "\n",
    "for x in a:\n",
    "    print(x)"
   ]
  },
  {
   "cell_type": "code",
   "execution_count": 20,
   "metadata": {},
   "outputs": [
    {
     "name": "stdout",
     "output_type": "stream",
     "text": [
      "(100, 'abi', 'kozhikode', 200000, 100, 'abi', 20, 'kozhikode')\n",
      "(101, 'athul', 'kozhikode', 300000, 101, 'athul', 21, 'kozhikode')\n",
      "(102, 'anu', 'kannur', 200000, 102, 'anu', 21, 'kannur')\n",
      "(104, 'sachin', 'wayanad', 230000, 104, 'sachin', 20, 'wayanad')\n",
      "(105, 'abdu', 'wayanad', 330000, None, None, None, None)\n"
     ]
    }
   ],
   "source": [
    "a.execute(\"select * from emptable left outer join emp on emptable.emp_name=emp.emp_name\")\n",
    "\n",
    "for x in a:\n",
    "    print(x)"
   ]
  },
  {
   "cell_type": "code",
   "execution_count": 21,
   "metadata": {},
   "outputs": [
    {
     "name": "stdout",
     "output_type": "stream",
     "text": [
      "(100, 'abi', 'kozhikode', 200000, 100, 'abi', 20, 'kozhikode')\n",
      "(101, 'athul', 'kozhikode', 300000, 101, 'athul', 21, 'kozhikode')\n",
      "(102, 'anu', 'kannur', 200000, 102, 'anu', 21, 'kannur')\n",
      "(104, 'sachin', 'wayanad', 230000, 104, 'sachin', 20, 'wayanad')\n"
     ]
    }
   ],
   "source": [
    "a.execute(\"select * from emptable inner join emp on emptable.emp_name=emp.emp_name\")\n",
    "\n",
    "for x in a:\n",
    "    print(x)"
   ]
  },
  {
   "cell_type": "code",
   "execution_count": 22,
   "metadata": {},
   "outputs": [
    {
     "name": "stdout",
     "output_type": "stream",
     "text": [
      "(100, 'abi', 'kozhikode', 200000, 100, 'abi', 20, 'kozhikode')\n",
      "(101, 'athul', 'kozhikode', 300000, 101, 'athul', 21, 'kozhikode')\n",
      "(102, 'anu', 'kannur', 200000, 102, 'anu', 21, 'kannur')\n",
      "(None, None, None, None, 103, 'manu', 19, 'kannur')\n",
      "(104, 'sachin', 'wayanad', 230000, 104, 'sachin', 20, 'wayanad')\n"
     ]
    }
   ],
   "source": [
    "a.execute(\"select * from emptable right outer join emp on emptable.emp_name=emp.emp_name\")\n",
    "\n",
    "for x in a:\n",
    "    print(x)"
   ]
  }
 ],
 "metadata": {
  "kernelspec": {
   "display_name": "Python 3",
   "language": "python",
   "name": "python3"
  },
  "language_info": {
   "codemirror_mode": {
    "name": "ipython",
    "version": 3
   },
   "file_extension": ".py",
   "mimetype": "text/x-python",
   "name": "python",
   "nbconvert_exporter": "python",
   "pygments_lexer": "ipython3",
   "version": "3.11.4"
  }
 },
 "nbformat": 4,
 "nbformat_minor": 2
}
