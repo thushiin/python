{
 "cells": [
  {
   "cell_type": "code",
   "execution_count": 2,
   "metadata": {},
   "outputs": [],
   "source": [
    "import pandas as pd\n",
    "import numpy as np\n",
    "import matplotlib.pyplot as plt\n",
    "import seaborn as sns"
   ]
  },
  {
   "cell_type": "code",
   "execution_count": 5,
   "metadata": {},
   "outputs": [],
   "source": [
    "df=pd.read_csv('cars.csv',sep=';')"
   ]
  },
  {
   "cell_type": "code",
   "execution_count": 7,
   "metadata": {},
   "outputs": [
    {
     "data": {
      "text/html": [
       "<div>\n",
       "<style scoped>\n",
       "    .dataframe tbody tr th:only-of-type {\n",
       "        vertical-align: middle;\n",
       "    }\n",
       "\n",
       "    .dataframe tbody tr th {\n",
       "        vertical-align: top;\n",
       "    }\n",
       "\n",
       "    .dataframe thead th {\n",
       "        text-align: right;\n",
       "    }\n",
       "</style>\n",
       "<table border=\"1\" class=\"dataframe\">\n",
       "  <thead>\n",
       "    <tr style=\"text-align: right;\">\n",
       "      <th></th>\n",
       "      <th>Car</th>\n",
       "      <th>MPG</th>\n",
       "      <th>Cylinders</th>\n",
       "      <th>Displacement</th>\n",
       "      <th>Horsepower</th>\n",
       "      <th>Weight</th>\n",
       "      <th>Acceleration</th>\n",
       "      <th>Model</th>\n",
       "      <th>Origin</th>\n",
       "    </tr>\n",
       "  </thead>\n",
       "  <tbody>\n",
       "    <tr>\n",
       "      <th>0</th>\n",
       "      <td>Chevrolet Chevelle Malibu</td>\n",
       "      <td>18.0</td>\n",
       "      <td>8</td>\n",
       "      <td>307.0</td>\n",
       "      <td>130.0</td>\n",
       "      <td>3504.0</td>\n",
       "      <td>12.0</td>\n",
       "      <td>70</td>\n",
       "      <td>US</td>\n",
       "    </tr>\n",
       "    <tr>\n",
       "      <th>1</th>\n",
       "      <td>Buick Skylark 320</td>\n",
       "      <td>15.0</td>\n",
       "      <td>8</td>\n",
       "      <td>350.0</td>\n",
       "      <td>165.0</td>\n",
       "      <td>3693.0</td>\n",
       "      <td>11.5</td>\n",
       "      <td>70</td>\n",
       "      <td>US</td>\n",
       "    </tr>\n",
       "    <tr>\n",
       "      <th>2</th>\n",
       "      <td>Plymouth Satellite</td>\n",
       "      <td>18.0</td>\n",
       "      <td>8</td>\n",
       "      <td>318.0</td>\n",
       "      <td>150.0</td>\n",
       "      <td>3436.0</td>\n",
       "      <td>11.0</td>\n",
       "      <td>70</td>\n",
       "      <td>US</td>\n",
       "    </tr>\n",
       "    <tr>\n",
       "      <th>3</th>\n",
       "      <td>AMC Rebel SST</td>\n",
       "      <td>16.0</td>\n",
       "      <td>8</td>\n",
       "      <td>304.0</td>\n",
       "      <td>150.0</td>\n",
       "      <td>3433.0</td>\n",
       "      <td>12.0</td>\n",
       "      <td>70</td>\n",
       "      <td>US</td>\n",
       "    </tr>\n",
       "    <tr>\n",
       "      <th>4</th>\n",
       "      <td>Ford Torino</td>\n",
       "      <td>17.0</td>\n",
       "      <td>8</td>\n",
       "      <td>302.0</td>\n",
       "      <td>140.0</td>\n",
       "      <td>3449.0</td>\n",
       "      <td>10.5</td>\n",
       "      <td>70</td>\n",
       "      <td>US</td>\n",
       "    </tr>\n",
       "  </tbody>\n",
       "</table>\n",
       "</div>"
      ],
      "text/plain": [
       "                         Car   MPG  Cylinders  Displacement  Horsepower  \\\n",
       "0  Chevrolet Chevelle Malibu  18.0          8         307.0       130.0   \n",
       "1          Buick Skylark 320  15.0          8         350.0       165.0   \n",
       "2         Plymouth Satellite  18.0          8         318.0       150.0   \n",
       "3              AMC Rebel SST  16.0          8         304.0       150.0   \n",
       "4                Ford Torino  17.0          8         302.0       140.0   \n",
       "\n",
       "   Weight  Acceleration  Model Origin  \n",
       "0  3504.0          12.0     70     US  \n",
       "1  3693.0          11.5     70     US  \n",
       "2  3436.0          11.0     70     US  \n",
       "3  3433.0          12.0     70     US  \n",
       "4  3449.0          10.5     70     US  "
      ]
     },
     "execution_count": 7,
     "metadata": {},
     "output_type": "execute_result"
    }
   ],
   "source": [
    "df.head()"
   ]
  },
  {
   "cell_type": "code",
   "execution_count": 8,
   "metadata": {},
   "outputs": [
    {
     "data": {
      "text/plain": [
       "(406, 9)"
      ]
     },
     "execution_count": 8,
     "metadata": {},
     "output_type": "execute_result"
    }
   ],
   "source": [
    "df.shape"
   ]
  },
  {
   "cell_type": "code",
   "execution_count": 19,
   "metadata": {},
   "outputs": [
    {
     "name": "stdout",
     "output_type": "stream",
     "text": [
      "<class 'pandas.core.frame.DataFrame'>\n",
      "RangeIndex: 406 entries, 0 to 405\n",
      "Data columns (total 9 columns):\n",
      " #   Column        Non-Null Count  Dtype  \n",
      "---  ------        --------------  -----  \n",
      " 0   Car           406 non-null    object \n",
      " 1   MPG           406 non-null    float64\n",
      " 2   Cylinders     406 non-null    int64  \n",
      " 3   Displacement  406 non-null    float64\n",
      " 4   Horsepower    406 non-null    float64\n",
      " 5   Weight        406 non-null    float64\n",
      " 6   Acceleration  406 non-null    float64\n",
      " 7   Model         406 non-null    int64  \n",
      " 8   Origin        406 non-null    object \n",
      "dtypes: float64(5), int64(2), object(2)\n",
      "memory usage: 28.7+ KB\n"
     ]
    }
   ],
   "source": [
    "df.info()"
   ]
  },
  {
   "cell_type": "code",
   "execution_count": 14,
   "metadata": {},
   "outputs": [
    {
     "data": {
      "text/plain": [
       "Car             0\n",
       "MPG             0\n",
       "Cylinders       0\n",
       "Displacement    0\n",
       "Horsepower      0\n",
       "Weight          0\n",
       "Acceleration    0\n",
       "Model           0\n",
       "Origin          0\n",
       "dtype: int64"
      ]
     },
     "execution_count": 14,
     "metadata": {},
     "output_type": "execute_result"
    }
   ],
   "source": [
    "df.isna().sum()"
   ]
  },
  {
   "cell_type": "code",
   "execution_count": 15,
   "metadata": {},
   "outputs": [
    {
     "data": {
      "text/plain": [
       "Car              object\n",
       "MPG             float64\n",
       "Cylinders         int64\n",
       "Displacement    float64\n",
       "Horsepower      float64\n",
       "Weight          float64\n",
       "Acceleration    float64\n",
       "Model             int64\n",
       "Origin           object\n",
       "dtype: object"
      ]
     },
     "execution_count": 15,
     "metadata": {},
     "output_type": "execute_result"
    }
   ],
   "source": [
    "df.dtypes"
   ]
  },
  {
   "cell_type": "code",
   "execution_count": 17,
   "metadata": {},
   "outputs": [
    {
     "data": {
      "text/plain": [
       "array(['Chevrolet Chevelle Malibu', 'Buick Skylark 320',\n",
       "       'Plymouth Satellite', 'AMC Rebel SST', 'Ford Torino',\n",
       "       'Ford Galaxie 500', 'Chevrolet Impala', 'Plymouth Fury iii',\n",
       "       'Pontiac Catalina', 'AMC Ambassador DPL', 'Citroen DS-21 Pallas',\n",
       "       'Chevrolet Chevelle Concours (sw)', 'Ford Torino (sw)',\n",
       "       'Plymouth Satellite (sw)', 'AMC Rebel SST (sw)',\n",
       "       'Dodge Challenger SE', \"Plymouth 'Cuda 340\",\n",
       "       'Ford Mustang Boss 302', 'Chevrolet Monte Carlo',\n",
       "       'Buick Estate Wagon (sw)', 'Toyota Corolla Mark ii',\n",
       "       'Plymouth Duster', 'AMC Hornet', 'Ford Maverick', 'Datsun PL510',\n",
       "       'Volkswagen 1131 Deluxe Sedan', 'Peugeot 504', 'Audi 100 LS',\n",
       "       'Saab 99e', 'BMW 2002', 'AMC Gremlin', 'Ford F250', 'Chevy C20',\n",
       "       'Dodge D200', 'Hi 1200D', 'Chevrolet Vega 2300', 'Toyota Corolla',\n",
       "       'Ford Pinto', 'Volkswagen Super Beetle 117',\n",
       "       'Plymouth Satellite Custom', 'Ford Torino 500', 'AMC Matador',\n",
       "       'Pontiac Catalina Brougham', 'Dodge Monaco (sw)',\n",
       "       'Ford Country Squire (sw)', 'Pontiac Safari (sw)',\n",
       "       'AMC Hornet Sportabout (sw)', 'Chevrolet Vega (sw)',\n",
       "       'Pontiac Firebird', 'Ford Mustang', 'Mercury Capri 2000',\n",
       "       'Opel 1900', 'Peugeot 304', 'Fiat 124B', 'Toyota Corolla 1200',\n",
       "       'Datsun 1200', 'Volkswagen Model 111', 'Plymouth Cricket',\n",
       "       'Toyota Corolla Hardtop', 'Dodge Colt Hardtop',\n",
       "       'Volkswagen Type 3', 'Chevrolet Vega', 'Ford Pinto Runabout',\n",
       "       'Plymouth Fury III', 'AMC Ambassador SST', 'Mercury Marquis',\n",
       "       'Buick LeSabre Custom', 'Oldsmobile Delta 88 Royale',\n",
       "       'Chrysler Newport Royal', 'Mazda RX2 Coupe', 'AMC Matador (sw)',\n",
       "       'Ford Gran Torino (sw)', 'Plymouth Satellite Custom (sw)',\n",
       "       'Volvo 145e (sw)', 'Volkswagen 411 (sw)', 'Peugeot 504 (sw)',\n",
       "       'Renault 12 (sw)', 'Ford Pinto (sw)', 'Datsun 510 (sw)',\n",
       "       'Toyota Corolla Mark II (sw)', 'Dodge Colt (sw)',\n",
       "       'Toyota Corolla 1600 (sw)', 'Buick Century 350',\n",
       "       'Chevrolet Malibu', 'Ford Gran Torino', 'Dodge Coronet Custom',\n",
       "       'Mercury Marquis Brougham', 'Chevrolet Caprice Classic',\n",
       "       'Ford LTD', 'Plymouth Fury Gran Sedan',\n",
       "       'Chrysler New Yorker Brougham', 'Buick Electra 225 Custom',\n",
       "       'AMC Ambassador Brougham', 'Plymouth Valiant',\n",
       "       'Chevrolet Nova Custom', 'Volkswagen Super Beetle', 'Ford Country',\n",
       "       'Plymouth Custom Suburb', 'Oldsmobile Vista Cruiser',\n",
       "       'Toyota Camry', 'Datsun 610', 'Mazda RX3', 'Mercury Capri v6',\n",
       "       'Fiat 124 Sport Coupe', 'Chevrolet Monte Carlo S',\n",
       "       'Pontiac Grand Prix', 'Fiat 128', 'Opel Manta', 'Audi 100LS',\n",
       "       'Volvo 144ea', 'Dodge Dart Custom', 'Saab 99le', 'Toyota Mark II',\n",
       "       'Oldsmobile Omega', 'Chevrolet Nova', 'Datsun B210',\n",
       "       'Chevrolet Chevelle Malibu Classic', 'Plymouth Satellite Sebring',\n",
       "       'Buick Century Luxus (sw)', 'Dodge Coronet Custom (sw)',\n",
       "       'Audi Fox', 'Volkswagen Dasher', 'Datsun 710', 'Dodge Colt',\n",
       "       'Fiat 124 TC', 'Honda Civic', 'Subaru', 'Fiat x1.9',\n",
       "       'Plymouth Valiant Custom', 'Mercury Monarch', 'Chevrolet Bel Air',\n",
       "       'Plymouth Grand Fury', 'Buick Century',\n",
       "       'Chevrolete Chevelle Malibu', 'Plymouth Fury', 'Buick Skyhawk',\n",
       "       'Chevrolet Monza 2+2', 'Ford Mustang II', 'Pontiac Astro',\n",
       "       'Volkswagen Rabbit', 'AMC Pacer', 'Volvo 244DL', 'Saab 99LE',\n",
       "       'Honda Civic CVCC', 'Fiat 131', 'Capri ii', 'Renault 12tl',\n",
       "       'Dodge Coronet Brougham', 'Chevrolet Chevette', 'Chevrolet Woody',\n",
       "       'Dodge Aspen SE', 'Ford Grenada ghia', 'Pontiac Ventura SJ',\n",
       "       'AMC Pacer d/l', 'Datsun B-210', 'Volvo 245',\n",
       "       'Plymouth Volare Premier v8', 'Mercedes-Benz 280s',\n",
       "       'Cadillac Seville', 'Chevrolet C10', 'Ford F108', 'Dodge D100',\n",
       "       'Honda Accord CVCC', 'Buick Opel Isuzu Deluxe', 'Renault 5 GTL',\n",
       "       'Plymouth Arrow GS', 'Datsun F-10 Hatchback',\n",
       "       'Oldsmobile Cutlass Supreme', 'Dodge Monaco Brougham',\n",
       "       'Mercury Cougar Brougham', 'Chevrolet Concours', 'Buick Skylark',\n",
       "       'Plymouth Volare Custom', 'Ford Grenada', 'Pontiac Grand Prix LJ',\n",
       "       'Chevrolet Monte Carlo Landau', 'Chrysler Cordoba',\n",
       "       'Ford Thunderbird', 'Volkswagen Rabbit Custom',\n",
       "       'Pontiac Sunbird Coupe', 'Toyota Corolla Liftback',\n",
       "       'Ford Mustang II 2+2', 'Dodge Colt m/m', 'Subaru DL', 'Datsun 810',\n",
       "       'BMW 320i', 'Mazda RX-4', 'Volkswagen Rabbit Custom Diesel',\n",
       "       'Ford Fiesta', 'Mazda GLC Deluxe', 'Datsun B210 GX',\n",
       "       'Oldsmobile Cutlass Salon Brougham', 'Dodge Diplomat',\n",
       "       'Mercury Monarch ghia', 'Pontiac Phoenix LJ',\n",
       "       'Ford Fairmont (auto)', 'Ford Fairmont (man)', 'Plymouth Volare',\n",
       "       'AMC Concord', 'Buick Century Special', 'Mercury Zephyr',\n",
       "       'Dodge Aspen', 'AMC Concord d/l',\n",
       "       'Buick Regal Sport Coupe (turbo)', 'Ford Futura',\n",
       "       'Dodge Magnum XE', 'Datsun 510', 'Dodge Omni',\n",
       "       'Toyota Celica GT Liftback', 'Plymouth Sapporo',\n",
       "       'Oldsmobile Starfire SX', 'Datsun 200-SX', 'Audi 5000',\n",
       "       'Volvo 264gl', 'Saab 99gle', 'Peugeot 604sl',\n",
       "       'Volkswagen Scirocco', 'Honda Accord LX', 'Pontiac Lemans V6',\n",
       "       'Mercury Zephyr 6', 'Ford Fairmont 4', 'AMC Concord DL 6',\n",
       "       'Dodge Aspen 6', 'Ford LTD Landau', 'Mercury Grand Marquis',\n",
       "       'Dodge St. Regis', 'Chevrolet Malibu Classic (sw)',\n",
       "       'Chrysler Lebaron Town @ Country (sw)',\n",
       "       'Dodge Colt Hatchback Custom', 'AMC Spirit DL',\n",
       "       'Mercedes Benz 300d', 'Cadillac Eldorado', 'Plymouth Horizon',\n",
       "       'Plymouth Horizon TC3', 'Datsun 210', 'Fiat Strada Custom',\n",
       "       'Buick Skylark Limited', 'Chevrolet Citation',\n",
       "       'Oldsmobile Omega Brougham', 'Pontiac Phoenix',\n",
       "       'Toyota Corolla Tercel', 'Datsun 310', 'Ford Fairmont',\n",
       "       'Audi 4000', 'Mazda 626', 'Datsun 510 Hatchback', 'Mazda GLC',\n",
       "       'Volkswagen Rabbit C (Diesel)', 'Volkswagen Dasher (diesel)',\n",
       "       'Audi 5000s (diesel)', 'Mercedes-Benz 240d', 'Honda Civic 1500 gl',\n",
       "       'Renault Lecar Deluxe', 'Datsun 280-ZX', 'Mazda RX-7 GS',\n",
       "       'Triumph TR7 Coupe', 'Ford Mustang Cobra', 'Honda Accord',\n",
       "       'Plymouth Reliant', 'Dodge Aries Wagon (sw)', 'Toyota Starlet',\n",
       "       'Plymouth Champ', 'Honda Civic 1300', 'Datsun 210 MPG',\n",
       "       'Toyota Tercel', 'Mazda GLC 4', 'Plymouth Horizon 4',\n",
       "       'Ford Escort 4W', 'Ford Escort 2H', 'Volkswagen Jetta',\n",
       "       'Renault 18i', 'Honda Prelude', 'Datsun 200SX',\n",
       "       'Peugeot 505s Turbo Diesel', 'Saab 900s', 'Volvo Diesel',\n",
       "       'Toyota Cressida', 'Datsun 810 Maxima', 'Oldsmobile Cutlass LS',\n",
       "       'Ford Grenada gl', 'Chrysler Lebaron Salon', 'Chevrolet Cavalier',\n",
       "       'Chevrolet Cavalier Wagon', 'Chevrolet Cavalier 2-door',\n",
       "       'Pontiac J2000 SE Hatchback', 'Dodge Aries SE',\n",
       "       'Ford Fairmont Futura', 'AMC Concord DL', 'Volkswagen Rabbit l',\n",
       "       'Mazda GLC Custom l', 'Mazda GLC Custom', 'Plymouth Horizon Miser',\n",
       "       'Mercury Lynx l', 'Nissan Stanza XE', 'Honda Civic (auto)',\n",
       "       'Datsun 310 GX', 'Buick Century Limited',\n",
       "       'Oldsmobile Cutlass Ciera (diesel)', 'Chrysler Lebaron Medallion',\n",
       "       'Ford Grenada l', 'Toyota Celica GT', 'Dodge Charger 2.2',\n",
       "       'Chevrolet Camaro', 'Ford Mustang GL', 'Volkswagen Pickup',\n",
       "       'Dodge Rampage', 'Ford Ranger', 'Chevy S-10'], dtype=object)"
      ]
     },
     "execution_count": 17,
     "metadata": {},
     "output_type": "execute_result"
    }
   ],
   "source": [
    "df['Car'].unique()"
   ]
  },
  {
   "cell_type": "code",
   "execution_count": 26,
   "metadata": {},
   "outputs": [
    {
     "name": "stdout",
     "output_type": "stream",
     "text": [
      "Collecting scikit-learn\n",
      "  Downloading scikit_learn-1.4.0-1-cp311-cp311-macosx_12_0_arm64.whl (10.6 MB)\n",
      "\u001b[2K     \u001b[90m━━━━━━━━━━━━━━━━━━━━━━━━━━━━━━━━━━━━━━━━\u001b[0m \u001b[32m10.6/10.6 MB\u001b[0m \u001b[31m6.9 MB/s\u001b[0m eta \u001b[36m0:00:00\u001b[0m00:01\u001b[0m00:01\u001b[0m\n",
      "\u001b[?25hRequirement already satisfied: numpy<2.0,>=1.19.5 in /Library/Frameworks/Python.framework/Versions/3.11/lib/python3.11/site-packages (from scikit-learn) (1.25.1)\n",
      "Collecting scipy>=1.6.0 (from scikit-learn)\n",
      "  Downloading scipy-1.12.0-cp311-cp311-macosx_12_0_arm64.whl (31.4 MB)\n",
      "\u001b[2K     \u001b[90m━━━━━━━━━━━━━━━━━━━━━━━━━━━━━━━━━━━━━━━━\u001b[0m \u001b[32m31.4/31.4 MB\u001b[0m \u001b[31m2.4 MB/s\u001b[0m eta \u001b[36m0:00:00\u001b[0m00:01\u001b[0m00:01\u001b[0m\n",
      "\u001b[?25hCollecting joblib>=1.2.0 (from scikit-learn)\n",
      "  Downloading joblib-1.3.2-py3-none-any.whl (302 kB)\n",
      "\u001b[2K     \u001b[90m━━━━━━━━━━━━━━━━━━━━━━━━━━━━━━━━━━━━━━━\u001b[0m \u001b[32m302.2/302.2 kB\u001b[0m \u001b[31m1.6 MB/s\u001b[0m eta \u001b[36m0:00:00\u001b[0ma \u001b[36m0:00:01\u001b[0m\n",
      "\u001b[?25hCollecting threadpoolctl>=2.0.0 (from scikit-learn)\n",
      "  Downloading threadpoolctl-3.2.0-py3-none-any.whl (15 kB)\n",
      "Installing collected packages: threadpoolctl, scipy, joblib, scikit-learn\n",
      "Successfully installed joblib-1.3.2 scikit-learn-1.4.0 scipy-1.12.0 threadpoolctl-3.2.0\n",
      "\n",
      "\u001b[1m[\u001b[0m\u001b[34;49mnotice\u001b[0m\u001b[1;39;49m]\u001b[0m\u001b[39;49m A new release of pip is available: \u001b[0m\u001b[31;49m23.1.2\u001b[0m\u001b[39;49m -> \u001b[0m\u001b[32;49m24.0\u001b[0m\n",
      "\u001b[1m[\u001b[0m\u001b[34;49mnotice\u001b[0m\u001b[1;39;49m]\u001b[0m\u001b[39;49m To update, run: \u001b[0m\u001b[32;49mpip3 install --upgrade pip\u001b[0m\n",
      "Note: you may need to restart the kernel to use updated packages.\n"
     ]
    }
   ],
   "source": [
    "pip install scikit-learn"
   ]
  },
  {
   "cell_type": "code",
   "execution_count": 27,
   "metadata": {},
   "outputs": [
    {
     "data": {
      "text/plain": [
       "array([ 50,  37, 235,  14, 164, 143,  55, 227, 246,   1,  77,  49, 165,\n",
       "       236,  15, 103, 218, 154,  58,  31, 279, 223,   8, 152,  97, 286,\n",
       "       214,  17, 265,  23,   7, 135,  69, 114, 167,  66, 273, 159, 300,\n",
       "       237, 166,  10, 247, 118, 131, 255,   9,  65, 248, 153, 190, 211,\n",
       "       213, 125, 274,  78, 291, 221, 276, 107, 301,  64, 161, 226,   2,\n",
       "       195,  32, 206,  76, 185,  11, 145, 238, 303, 287, 215, 258, 160,\n",
       "        87, 278, 106, 275,  26,  56, 144, 111, 196,  45, 150, 225,  75,\n",
       "        30,   0, 240,  63, 299, 130, 222, 210, 270,  89, 186, 191, 123,\n",
       "        60, 249, 126, 212,  18, 302, 115, 267, 282, 207,  62,  94,  51,\n",
       "       239,  28, 112,  22, 288,  90, 105, 124, 171, 268, 129, 241, 197,\n",
       "        42, 228,  25,  68, 224,  35,  61, 157, 245, 293,  12, 304, 264,\n",
       "       175, 127,  41, 259, 110,  52,  67, 102, 147, 257,  13,  93, 305,\n",
       "       244, 189,  40,  43, 134, 113, 169,  33, 261, 219,  96, 205, 119,\n",
       "       192,  54,  36, 243, 146, 250,  59,  71, 163, 295, 256, 277, 158,\n",
       "       109, 269,  91,  24, 183, 296, 141, 182,  95, 204, 116, 198, 254,\n",
       "       137, 138, 242,   3,  29, 199, 100,   6,  34, 142, 117,  86, 120,\n",
       "       272, 234, 209,  79,  20, 306, 266, 217, 298, 170, 252, 200, 139,\n",
       "         5, 101, 151, 193, 122,  57,  74, 108,  16, 187,  39, 229, 232,\n",
       "        81, 128,  38,  53, 208, 253, 280,  84, 136,  19, 177,  88, 178,\n",
       "       294, 289,  21, 188, 174, 262,  83, 184, 285, 155, 168, 233,  99,\n",
       "       283, 220, 173,  82, 284, 179, 230, 133, 132, 290, 260, 176,  80,\n",
       "       216, 263, 307, 281,  92, 203, 148,  73,  46,  48,  47, 251,  98,\n",
       "       140,   4, 297, 181, 180, 231, 194, 201, 172,  85,  27, 202,  72,\n",
       "       149, 271, 104,  44, 156, 292, 121, 162,  70])"
      ]
     },
     "execution_count": 27,
     "metadata": {},
     "output_type": "execute_result"
    }
   ],
   "source": [
    "from sklearn import preprocessing\n",
    "label_encoder=preprocessing.LabelEncoder()\n",
    "df['Car']=label_encoder.fit_transform(df['Car'])\n",
    "df['Car'].unique()\n"
   ]
  },
  {
   "cell_type": "code",
   "execution_count": 28,
   "metadata": {},
   "outputs": [
    {
     "data": {
      "text/plain": [
       "array(['US', 'Europe', 'Japan'], dtype=object)"
      ]
     },
     "execution_count": 28,
     "metadata": {},
     "output_type": "execute_result"
    }
   ],
   "source": [
    "df['Origin'].unique()"
   ]
  },
  {
   "cell_type": "code",
   "execution_count": 29,
   "metadata": {},
   "outputs": [
    {
     "data": {
      "text/plain": [
       "array([2, 0, 1])"
      ]
     },
     "execution_count": 29,
     "metadata": {},
     "output_type": "execute_result"
    }
   ],
   "source": [
    "from sklearn import preprocessing\n",
    "label_encoder=preprocessing.LabelEncoder()\n",
    "df['Origin']=label_encoder.fit_transform(df['Origin'])\n",
    "df['Origin'].unique()"
   ]
  },
  {
   "cell_type": "code",
   "execution_count": 114,
   "metadata": {},
   "outputs": [
    {
     "data": {
      "text/plain": [
       "Index(['Car', 'MPG', 'Cylinders', 'Displacement', 'Horsepower', 'Weight',\n",
       "       'Acceleration', 'Model', 'Origin'],\n",
       "      dtype='object')"
      ]
     },
     "execution_count": 114,
     "metadata": {},
     "output_type": "execute_result"
    }
   ],
   "source": [
    "df.columns"
   ]
  },
  {
   "cell_type": "code",
   "execution_count": 116,
   "metadata": {},
   "outputs": [
    {
     "data": {
      "text/plain": [
       "Origin\n",
       "0    26.360656\n",
       "1    30.578873\n",
       "2    19.515745\n",
       "Name: MPG, dtype: float64"
      ]
     },
     "execution_count": 116,
     "metadata": {},
     "output_type": "execute_result"
    }
   ],
   "source": [
    "df.groupby('Origin')['MPG'].mean()"
   ]
  },
  {
   "cell_type": "code",
   "execution_count": 119,
   "metadata": {},
   "outputs": [
    {
     "data": {
      "text/html": [
       "<div>\n",
       "<style scoped>\n",
       "    .dataframe tbody tr th:only-of-type {\n",
       "        vertical-align: middle;\n",
       "    }\n",
       "\n",
       "    .dataframe tbody tr th {\n",
       "        vertical-align: top;\n",
       "    }\n",
       "\n",
       "    .dataframe thead th {\n",
       "        text-align: right;\n",
       "    }\n",
       "</style>\n",
       "<table border=\"1\" class=\"dataframe\">\n",
       "  <thead>\n",
       "    <tr style=\"text-align: right;\">\n",
       "      <th></th>\n",
       "      <th>Car</th>\n",
       "      <th>MPG</th>\n",
       "      <th>Cylinders</th>\n",
       "      <th>Displacement</th>\n",
       "      <th>Horsepower</th>\n",
       "      <th>Weight</th>\n",
       "      <th>Acceleration</th>\n",
       "      <th>Model</th>\n",
       "      <th>Origin</th>\n",
       "    </tr>\n",
       "  </thead>\n",
       "  <tbody>\n",
       "    <tr>\n",
       "      <th>0</th>\n",
       "      <td>50</td>\n",
       "      <td>18.0</td>\n",
       "      <td>8</td>\n",
       "      <td>307.0</td>\n",
       "      <td>130.0</td>\n",
       "      <td>3504.0</td>\n",
       "      <td>12.0</td>\n",
       "      <td>70</td>\n",
       "      <td>2</td>\n",
       "    </tr>\n",
       "    <tr>\n",
       "      <th>1</th>\n",
       "      <td>37</td>\n",
       "      <td>15.0</td>\n",
       "      <td>8</td>\n",
       "      <td>350.0</td>\n",
       "      <td>165.0</td>\n",
       "      <td>3693.0</td>\n",
       "      <td>11.5</td>\n",
       "      <td>70</td>\n",
       "      <td>2</td>\n",
       "    </tr>\n",
       "    <tr>\n",
       "      <th>2</th>\n",
       "      <td>235</td>\n",
       "      <td>18.0</td>\n",
       "      <td>8</td>\n",
       "      <td>318.0</td>\n",
       "      <td>150.0</td>\n",
       "      <td>3436.0</td>\n",
       "      <td>11.0</td>\n",
       "      <td>70</td>\n",
       "      <td>2</td>\n",
       "    </tr>\n",
       "    <tr>\n",
       "      <th>3</th>\n",
       "      <td>14</td>\n",
       "      <td>16.0</td>\n",
       "      <td>8</td>\n",
       "      <td>304.0</td>\n",
       "      <td>150.0</td>\n",
       "      <td>3433.0</td>\n",
       "      <td>12.0</td>\n",
       "      <td>70</td>\n",
       "      <td>2</td>\n",
       "    </tr>\n",
       "    <tr>\n",
       "      <th>4</th>\n",
       "      <td>164</td>\n",
       "      <td>17.0</td>\n",
       "      <td>8</td>\n",
       "      <td>302.0</td>\n",
       "      <td>140.0</td>\n",
       "      <td>3449.0</td>\n",
       "      <td>10.5</td>\n",
       "      <td>70</td>\n",
       "      <td>2</td>\n",
       "    </tr>\n",
       "  </tbody>\n",
       "</table>\n",
       "</div>"
      ],
      "text/plain": [
       "   Car   MPG  Cylinders  Displacement  Horsepower  Weight  Acceleration  \\\n",
       "0   50  18.0          8         307.0       130.0  3504.0          12.0   \n",
       "1   37  15.0          8         350.0       165.0  3693.0          11.5   \n",
       "2  235  18.0          8         318.0       150.0  3436.0          11.0   \n",
       "3   14  16.0          8         304.0       150.0  3433.0          12.0   \n",
       "4  164  17.0          8         302.0       140.0  3449.0          10.5   \n",
       "\n",
       "   Model  Origin  \n",
       "0     70       2  \n",
       "1     70       2  \n",
       "2     70       2  \n",
       "3     70       2  \n",
       "4     70       2  "
      ]
     },
     "execution_count": 119,
     "metadata": {},
     "output_type": "execute_result"
    }
   ],
   "source": [
    "df.head()"
   ]
  },
  {
   "cell_type": "code",
   "execution_count": 123,
   "metadata": {},
   "outputs": [
    {
     "data": {
      "text/plain": [
       "282"
      ]
     },
     "execution_count": 123,
     "metadata": {},
     "output_type": "execute_result"
    }
   ],
   "source": [
    "df.Car.nunique()"
   ]
  },
  {
   "cell_type": "code",
   "execution_count": 124,
   "metadata": {},
   "outputs": [
    {
     "data": {
      "text/html": [
       "<div>\n",
       "<style scoped>\n",
       "    .dataframe tbody tr th:only-of-type {\n",
       "        vertical-align: middle;\n",
       "    }\n",
       "\n",
       "    .dataframe tbody tr th {\n",
       "        vertical-align: top;\n",
       "    }\n",
       "\n",
       "    .dataframe thead th {\n",
       "        text-align: right;\n",
       "    }\n",
       "</style>\n",
       "<table border=\"1\" class=\"dataframe\">\n",
       "  <thead>\n",
       "    <tr style=\"text-align: right;\">\n",
       "      <th></th>\n",
       "      <th>Car</th>\n",
       "      <th>MPG</th>\n",
       "      <th>Cylinders</th>\n",
       "      <th>Displacement</th>\n",
       "      <th>Horsepower</th>\n",
       "      <th>Weight</th>\n",
       "      <th>Acceleration</th>\n",
       "      <th>Model</th>\n",
       "      <th>Origin</th>\n",
       "    </tr>\n",
       "  </thead>\n",
       "  <tbody>\n",
       "    <tr>\n",
       "      <th>0</th>\n",
       "      <td>50</td>\n",
       "      <td>18.0</td>\n",
       "      <td>8</td>\n",
       "      <td>307.0</td>\n",
       "      <td>130.0</td>\n",
       "      <td>3504.0</td>\n",
       "      <td>12.0</td>\n",
       "      <td>70</td>\n",
       "      <td>2</td>\n",
       "    </tr>\n",
       "    <tr>\n",
       "      <th>1</th>\n",
       "      <td>37</td>\n",
       "      <td>15.0</td>\n",
       "      <td>8</td>\n",
       "      <td>350.0</td>\n",
       "      <td>165.0</td>\n",
       "      <td>3693.0</td>\n",
       "      <td>11.5</td>\n",
       "      <td>70</td>\n",
       "      <td>2</td>\n",
       "    </tr>\n",
       "    <tr>\n",
       "      <th>2</th>\n",
       "      <td>235</td>\n",
       "      <td>18.0</td>\n",
       "      <td>8</td>\n",
       "      <td>318.0</td>\n",
       "      <td>150.0</td>\n",
       "      <td>3436.0</td>\n",
       "      <td>11.0</td>\n",
       "      <td>70</td>\n",
       "      <td>2</td>\n",
       "    </tr>\n",
       "    <tr>\n",
       "      <th>3</th>\n",
       "      <td>14</td>\n",
       "      <td>16.0</td>\n",
       "      <td>8</td>\n",
       "      <td>304.0</td>\n",
       "      <td>150.0</td>\n",
       "      <td>3433.0</td>\n",
       "      <td>12.0</td>\n",
       "      <td>70</td>\n",
       "      <td>2</td>\n",
       "    </tr>\n",
       "    <tr>\n",
       "      <th>4</th>\n",
       "      <td>164</td>\n",
       "      <td>17.0</td>\n",
       "      <td>8</td>\n",
       "      <td>302.0</td>\n",
       "      <td>140.0</td>\n",
       "      <td>3449.0</td>\n",
       "      <td>10.5</td>\n",
       "      <td>70</td>\n",
       "      <td>2</td>\n",
       "    </tr>\n",
       "  </tbody>\n",
       "</table>\n",
       "</div>"
      ],
      "text/plain": [
       "   Car   MPG  Cylinders  Displacement  Horsepower  Weight  Acceleration  \\\n",
       "0   50  18.0          8         307.0       130.0  3504.0          12.0   \n",
       "1   37  15.0          8         350.0       165.0  3693.0          11.5   \n",
       "2  235  18.0          8         318.0       150.0  3436.0          11.0   \n",
       "3   14  16.0          8         304.0       150.0  3433.0          12.0   \n",
       "4  164  17.0          8         302.0       140.0  3449.0          10.5   \n",
       "\n",
       "   Model  Origin  \n",
       "0     70       2  \n",
       "1     70       2  \n",
       "2     70       2  \n",
       "3     70       2  \n",
       "4     70       2  "
      ]
     },
     "execution_count": 124,
     "metadata": {},
     "output_type": "execute_result"
    }
   ],
   "source": [
    "df.head()"
   ]
  },
  {
   "cell_type": "code",
   "execution_count": 125,
   "metadata": {},
   "outputs": [
    {
     "data": {
      "image/png": "[encoded data removed]",
      "text/plain": [
       "<Figure size 640x480 with 1 Axes>"
      ]
     },
     "metadata": {},
     "output_type": "display_data"
    }
   ],
   "source": [
    "plt.boxplot(df['MPG'])\n",
    "plt.title('Box plot of MPG')\n",
    "plt.show()"
   ]
  },
  {
   "cell_type": "code",
   "execution_count": 38,
   "metadata": {},
   "outputs": [
    {
     "data": {
      "image/png": "[encoded data removed]",
      "text/plain": [
       "<Figure size 640x480 with 1 Axes>"
      ]
     },
     "metadata": {},
     "output_type": "display_data"
    }
   ],
   "source": [
    "plt.boxplot(df['Cylinders'])\n",
    "plt.title('Box plot of Cylinder')\n",
    "plt.show()"
   ]
  },
  {
   "cell_type": "code",
   "execution_count": 39,
   "metadata": {},
   "outputs": [
    {
     "data": {
      "image/png": "[encoded data removed]",
      "text/plain": [
       "<Figure size 640x480 with 1 Axes>"
      ]
     },
     "metadata": {},
     "output_type": "display_data"
    }
   ],
   "source": [
    "plt.boxplot(df['Displacement'])\n",
    "plt.title('Box plot of Displacement')\n",
    "plt.show()"
   ]
  },
  {
   "cell_type": "code",
   "execution_count": 40,
   "metadata": {},
   "outputs": [
    {
     "data": {
      "image/png": "[encoded data removed]",
      "text/plain": [
       "<Figure size 640x480 with 1 Axes>"
      ]
     },
     "metadata": {},
     "output_type": "display_data"
    }
   ],
   "source": [
    "plt.boxplot(df['Horsepower'])\n",
    "plt.title('Box plot of Horsepower')\n",
    "plt.show()"
   ]
  },
  {
   "cell_type": "code",
   "execution_count": 41,
   "metadata": {},
   "outputs": [
    {
     "data": {
      "image/png": "[encoded data removed]",
      "text/plain": [
       "<Figure size 640x480 with 1 Axes>"
      ]
     },
     "metadata": {},
     "output_type": "display_data"
    }
   ],
   "source": [
    "plt.boxplot(df['Weight'])\n",
    "plt.title('Box plot of Weight')\n",
    "plt.show()"
   ]
  },
  {
   "cell_type": "code",
   "execution_count": 42,
   "metadata": {},
   "outputs": [
    {
     "data": {
      "image/png": "[encoded data removed]",
      "text/plain": [
       "<Figure size 640x480 with 1 Axes>"
      ]
     },
     "metadata": {},
     "output_type": "display_data"
    }
   ],
   "source": [
    "plt.boxplot(df['Acceleration'])\n",
    "plt.title('Box plot of Acceleration')\n",
    "plt.show()"
   ]
  },
  {
   "cell_type": "code",
   "execution_count": 44,
   "metadata": {},
   "outputs": [
    {
     "data": {
      "image/png": "[encoded data removed]",
      "text/plain": [
       "<Figure size 640x480 with 1 Axes>"
      ]
     },
     "metadata": {},
     "output_type": "display_data"
    }
   ],
   "source": [
    "plt.boxplot(df['Model'])\n",
    "plt.title('Box plot of Model')\n",
    "plt.show()"
   ]
  },
  {
   "cell_type": "code",
   "execution_count": 129,
   "metadata": {},
   "outputs": [
    {
     "name": "stdout",
     "output_type": "stream",
     "text": [
      "73.0\n",
      "76.0\n",
      "79.0\n"
     ]
    }
   ],
   "source": [
    "q1=np.percentile(df['Model'],25,interpolation='midpoint')\n",
    "q2=np.percentile(df['Model'],50,interpolation='midpoint')\n",
    "q3=np.percentile(df['Model'],75,interpolation='midpoint')\n",
    "\n",
    "print(q1)\n",
    "print(q2)\n",
    "print(q3)"
   ]
  },
  {
   "cell_type": "code",
   "execution_count": 130,
   "metadata": {},
   "outputs": [
    {
     "data": {
      "text/plain": [
       "76.0"
      ]
     },
     "execution_count": 130,
     "metadata": {},
     "output_type": "execute_result"
    }
   ],
   "source": [
    "df['Model'].median()"
   ]
  },
  {
   "cell_type": "code",
   "execution_count": 131,
   "metadata": {},
   "outputs": [
    {
     "name": "stdout",
     "output_type": "stream",
     "text": [
      "64.0\n",
      "88.0\n"
     ]
    }
   ],
   "source": [
    "iqr=q3-q1\n",
    "#for that\n",
    "low_limit=q1-1.5*iqr\n",
    "up_limit=q3+1.5*iqr\n",
    "print(low_limit)\n",
    "print(up_limit)"
   ]
  },
  {
   "cell_type": "code",
   "execution_count": 133,
   "metadata": {},
   "outputs": [
    {
     "data": {
      "text/plain": [
       "[]"
      ]
     },
     "execution_count": 133,
     "metadata": {},
     "output_type": "execute_result"
    }
   ],
   "source": [
    "outlier=[]\n",
    "for x in df['Model']:\n",
    "    if((x>up_limit) or (x<low_limit)):\n",
    "        outlier.append(x)\n",
    "outlier    "
   ]
  },
  {
   "cell_type": "code",
   "execution_count": 134,
   "metadata": {},
   "outputs": [
    {
     "name": "stdout",
     "output_type": "stream",
     "text": [
      "13.5\n",
      "15.4\n",
      "17.0\n"
     ]
    }
   ],
   "source": [
    "q1=np.percentile(df['Acceleration'],25,interpolation='midpoint')\n",
    "q2=np.percentile(df['Acceleration'],50,interpolation='midpoint')\n",
    "q3=np.percentile(df['Acceleration'],75,interpolation='midpoint')\n",
    "\n",
    "print(q1)\n",
    "print(q2)\n",
    "print(q3)"
   ]
  },
  {
   "cell_type": "code",
   "execution_count": 135,
   "metadata": {},
   "outputs": [
    {
     "data": {
      "text/plain": [
       "15.4"
      ]
     },
     "execution_count": 135,
     "metadata": {},
     "output_type": "execute_result"
    }
   ],
   "source": [
    "df['Acceleration'].median()"
   ]
  },
  {
   "cell_type": "code",
   "execution_count": 136,
   "metadata": {},
   "outputs": [
    {
     "name": "stdout",
     "output_type": "stream",
     "text": [
      "8.25\n",
      "22.25\n"
     ]
    }
   ],
   "source": [
    "iqr=q3-q1\n",
    "low_limit=q1-1.5*iqr\n",
    "up_limit=q3+1.5*iqr\n",
    "print(low_limit)\n",
    "print(up_limit)"
   ]
  },
  {
   "cell_type": "code",
   "execution_count": 137,
   "metadata": {},
   "outputs": [
    {
     "data": {
      "text/plain": [
       "[8.0, 8.0]"
      ]
     },
     "execution_count": 137,
     "metadata": {},
     "output_type": "execute_result"
    }
   ],
   "source": [
    "outlier=[]\n",
    "for x in df['Acceleration']:\n",
    "    if((x>up_limit) or (x<low_limit)):\n",
    "        outlier.append(x)\n",
    "outlier   "
   ]
  },
  {
   "cell_type": "code",
   "execution_count": null,
   "metadata": {},
   "outputs": [],
   "source": [
    "ind1=df['Acceleration']>up_limit\n",
    "df.loc[ind1].index"
   ]
  },
  {
   "cell_type": "code",
   "execution_count": null,
   "metadata": {},
   "outputs": [],
   "source": [
    "df.drop([66,306,333,402], inplace=True)"
   ]
  },
  {
   "cell_type": "code",
   "execution_count": 59,
   "metadata": {},
   "outputs": [
    {
     "data": {
      "image/png": "[encoded data removed]",
      "text/plain": [
       "<Figure size 640x480 with 1 Axes>"
      ]
     },
     "metadata": {},
     "output_type": "display_data"
    }
   ],
   "source": [
    "plt.boxplot(df['Acceleration'])\n",
    "plt.title('Box plot of Acceleration')\n",
    "plt.show()"
   ]
  },
  {
   "cell_type": "code",
   "execution_count": 60,
   "metadata": {},
   "outputs": [
    {
     "name": "stdout",
     "output_type": "stream",
     "text": [
      "105.0\n",
      "151.0\n",
      "302.0\n"
     ]
    }
   ],
   "source": [
    "q1=np.percentile(df['Displacement'],25,interpolation='midpoint')\n",
    "q2=np.percentile(df['Displacement'],50,interpolation='midpoint')\n",
    "q3=np.percentile(df['Displacement'],75,interpolation='midpoint')\n",
    "\n",
    "print(q1)\n",
    "print(q2)\n",
    "print(q3)"
   ]
  },
  {
   "cell_type": "code",
   "execution_count": 62,
   "metadata": {},
   "outputs": [
    {
     "data": {
      "text/plain": [
       "151.0"
      ]
     },
     "execution_count": 62,
     "metadata": {},
     "output_type": "execute_result"
    }
   ],
   "source": [
    "df['Displacement'].median()"
   ]
  },
  {
   "cell_type": "code",
   "execution_count": 63,
   "metadata": {},
   "outputs": [
    {
     "name": "stdout",
     "output_type": "stream",
     "text": [
      "-190.5\n",
      "597.5\n"
     ]
    }
   ],
   "source": [
    "iqr=q3-q1\n",
    "low_limit=q1-1.5*iqr\n",
    "up_limit=q3+1.5*iqr\n",
    "print(low_limit)\n",
    "print(up_limit)"
   ]
  },
  {
   "cell_type": "code",
   "execution_count": 64,
   "metadata": {},
   "outputs": [
    {
     "data": {
      "text/plain": [
       "[]"
      ]
     },
     "execution_count": 64,
     "metadata": {},
     "output_type": "execute_result"
    }
   ],
   "source": [
    "outlier=[]\n",
    "for x in df['Displacement']:\n",
    "    if((x>up_limit) or (x<low_limit)):\n",
    "        outlier.append(x)\n",
    "outlier   "
   ]
  },
  {
   "cell_type": "code",
   "execution_count": 65,
   "metadata": {},
   "outputs": [
    {
     "name": "stdout",
     "output_type": "stream",
     "text": [
      "75.0\n",
      "95.0\n",
      "129.5\n"
     ]
    }
   ],
   "source": [
    "q1=np.percentile(df['Horsepower'],25,interpolation='midpoint')\n",
    "q2=np.percentile(df['Horsepower'],50,interpolation='midpoint')\n",
    "q3=np.percentile(df['Horsepower'],75,interpolation='midpoint')\n",
    "\n",
    "print(q1)\n",
    "print(q2)\n",
    "print(q3)"
   ]
  },
  {
   "cell_type": "code",
   "execution_count": 66,
   "metadata": {},
   "outputs": [
    {
     "data": {
      "text/plain": [
       "95.0"
      ]
     },
     "execution_count": 66,
     "metadata": {},
     "output_type": "execute_result"
    }
   ],
   "source": [
    "df['Horsepower'].median()"
   ]
  },
  {
   "cell_type": "code",
   "execution_count": 67,
   "metadata": {},
   "outputs": [
    {
     "name": "stdout",
     "output_type": "stream",
     "text": [
      "-6.75\n",
      "211.25\n"
     ]
    }
   ],
   "source": [
    "iqr=q3-q1\n",
    "low_limit = q1-1.5*iqr\n",
    "up_limit = q3+1.5*iqr\n",
    "print(low_limit)\n",
    "print(up_limit)"
   ]
  },
  {
   "cell_type": "code",
   "execution_count": 68,
   "metadata": {},
   "outputs": [
    {
     "data": {
      "text/plain": [
       "[220.0, 215.0, 225.0, 225.0, 215.0, 215.0, 225.0, 230.0]"
      ]
     },
     "execution_count": 68,
     "metadata": {},
     "output_type": "execute_result"
    }
   ],
   "source": [
    "outlier=[]\n",
    "for x in df['Horsepower']:\n",
    "    if((x>up_limit)or(x<low_limit)):\n",
    "        outlier.append(x)\n",
    "outlier"
   ]
  },
  {
   "cell_type": "code",
   "execution_count": 69,
   "metadata": {},
   "outputs": [
    {
     "name": "stdout",
     "output_type": "stream",
     "text": [
      "2227.0\n",
      "2831.5\n",
      "3625.0\n"
     ]
    }
   ],
   "source": [
    "q1=np.percentile(df['Weight'],25,interpolation='midpoint')\n",
    "q2=np.percentile(df['Weight'],50,interpolation='midpoint')\n",
    "q3=np.percentile(df['Weight'],75,interpolation='midpoint')\n",
    "\n",
    "print(q1)\n",
    "print(q2)\n",
    "print(q3)"
   ]
  },
  {
   "cell_type": "code",
   "execution_count": 70,
   "metadata": {},
   "outputs": [
    {
     "data": {
      "text/plain": [
       "2831.5"
      ]
     },
     "execution_count": 70,
     "metadata": {},
     "output_type": "execute_result"
    }
   ],
   "source": [
    "df['Weight'].median()"
   ]
  },
  {
   "cell_type": "code",
   "execution_count": 71,
   "metadata": {},
   "outputs": [
    {
     "name": "stdout",
     "output_type": "stream",
     "text": [
      "130.0\n",
      "5722.0\n"
     ]
    }
   ],
   "source": [
    "iqr=q3-q1\n",
    "low_limit = q1-1.5*iqr\n",
    "up_limit = q3+1.5*iqr\n",
    "print(low_limit)\n",
    "print(up_limit)"
   ]
  },
  {
   "cell_type": "code",
   "execution_count": 72,
   "metadata": {},
   "outputs": [
    {
     "data": {
      "text/plain": [
       "[]"
      ]
     },
     "execution_count": 72,
     "metadata": {},
     "output_type": "execute_result"
    }
   ],
   "source": [
    "outlier=[]\n",
    "for x in df['Weight']:\n",
    "    if((x>up_limit)or(x<low_limit)):\n",
    "        outlier.append(x)\n",
    "outlier"
   ]
  },
  {
   "cell_type": "code",
   "execution_count": 141,
   "metadata": {},
   "outputs": [
    {
     "data": {
      "text/plain": [
       "Index([  0,   1,   2,   3,   4,   5,   6,   7,   8,   9,\n",
       "       ...\n",
       "       395, 396, 397, 398, 399, 400, 401, 403, 404, 405],\n",
       "      dtype='int64', length=367)"
      ]
     },
     "execution_count": 141,
     "metadata": {},
     "output_type": "execute_result"
    }
   ],
   "source": [
    "ind1=df['Weight']>up_limit\n",
    "df.loc[ind1].index"
   ]
  },
  {
   "cell_type": "code",
   "execution_count": null,
   "metadata": {},
   "outputs": [],
   "source": [
    "df.drop([218], inplace=True)"
   ]
  },
  {
   "cell_type": "code",
   "execution_count": 75,
   "metadata": {},
   "outputs": [
    {
     "data": {
      "image/png": "[encoded data removed]",
      "text/plain": [
       "<Figure size 640x480 with 1 Axes>"
      ]
     },
     "metadata": {},
     "output_type": "display_data"
    }
   ],
   "source": [
    "plt.boxplot(df['Weight'])\n",
    "plt.title('Box plot of weight')\n",
    "plt.show()"
   ]
  },
  {
   "cell_type": "code",
   "execution_count": 76,
   "metadata": {},
   "outputs": [
    {
     "name": "stdout",
     "output_type": "stream",
     "text": [
      "4.0\n",
      "4.0\n",
      "8.0\n"
     ]
    }
   ],
   "source": [
    "q1=np.percentile(df['Cylinders'],25,interpolation='midpoint')\n",
    "q2=np.percentile(df['Cylinders'],50,interpolation='midpoint')\n",
    "q3=np.percentile(df['Cylinders'],75,interpolation='midpoint')\n",
    "\n",
    "print(q1)\n",
    "print(q2)\n",
    "print(q3)"
   ]
  },
  {
   "cell_type": "code",
   "execution_count": 77,
   "metadata": {},
   "outputs": [
    {
     "data": {
      "text/plain": [
       "4.0"
      ]
     },
     "execution_count": 77,
     "metadata": {},
     "output_type": "execute_result"
    }
   ],
   "source": [
    "df['Cylinders'].median()"
   ]
  },
  {
   "cell_type": "code",
   "execution_count": 78,
   "metadata": {},
   "outputs": [
    {
     "name": "stdout",
     "output_type": "stream",
     "text": [
      "-2.0\n",
      "14.0\n"
     ]
    }
   ],
   "source": [
    "iqr=q3-q1\n",
    "low_limit=q1-1.5*iqr\n",
    "up_limit=q3+1.5*iqr\n",
    "print(low_limit)\n",
    "print(up_limit)"
   ]
  },
  {
   "cell_type": "code",
   "execution_count": 79,
   "metadata": {},
   "outputs": [
    {
     "data": {
      "text/plain": [
       "[]"
      ]
     },
     "execution_count": 79,
     "metadata": {},
     "output_type": "execute_result"
    }
   ],
   "source": [
    "outlier=[]\n",
    "for x in df['Cylinders']:\n",
    "    if((x>up_limit)or(x<low_limit)):\n",
    "        outlier.append(x)\n",
    "outlier"
   ]
  },
  {
   "cell_type": "code",
   "execution_count": 80,
   "metadata": {},
   "outputs": [
    {
     "data": {
      "text/plain": [
       "Index([], dtype='int64')"
      ]
     },
     "execution_count": 80,
     "metadata": {},
     "output_type": "execute_result"
    }
   ],
   "source": [
    "ind1=df['Cylinders']>up_limit\n",
    "df.loc[ind1].index"
   ]
  },
  {
   "cell_type": "code",
   "execution_count": 81,
   "metadata": {},
   "outputs": [],
   "source": [
    "df.drop([21,  22,  23,  30, 108, 120, 130, 132, 133, 181, 200, 217, 248,\n",
    "            260, 261, 266, 281, 282, 284, 288, 304, 313, 314, 334, 340, 348,\n",
    "            368, 369, 370, 373, 394], inplace = True)"
   ]
  },
  {
   "cell_type": "code",
   "execution_count": 82,
   "metadata": {},
   "outputs": [
    {
     "data": {
      "image/png": "[encoded data removed]",
      "text/plain": [
       "<Figure size 640x480 with 1 Axes>"
      ]
     },
     "metadata": {},
     "output_type": "display_data"
    }
   ],
   "source": [
    "plt.boxplot(df['Cylinders'])\n",
    "plt.title('Box plot of cylinder')\n",
    "plt.show()"
   ]
  },
  {
   "cell_type": "code",
   "execution_count": 83,
   "metadata": {},
   "outputs": [
    {
     "name": "stdout",
     "output_type": "stream",
     "text": [
      "16.0\n",
      "22.75\n",
      "29.0\n"
     ]
    }
   ],
   "source": [
    "q1=np.percentile(df['MPG'],25,interpolation='midpoint')\n",
    "q2=np.percentile(df['MPG'],50,interpolation='midpoint')\n",
    "q3=np.percentile(df['MPG'],75,interpolation='midpoint')\n",
    "\n",
    "print(q1)\n",
    "print(q2)\n",
    "print(q3)"
   ]
  },
  {
   "cell_type": "code",
   "execution_count": 84,
   "metadata": {},
   "outputs": [
    {
     "data": {
      "text/plain": [
       "22.75"
      ]
     },
     "execution_count": 84,
     "metadata": {},
     "output_type": "execute_result"
    }
   ],
   "source": [
    "df['MPG'].median()"
   ]
  },
  {
   "cell_type": "code",
   "execution_count": 85,
   "metadata": {},
   "outputs": [
    {
     "name": "stdout",
     "output_type": "stream",
     "text": [
      "-3.5\n",
      "48.5\n"
     ]
    }
   ],
   "source": [
    "iqr=q3-q1\n",
    "low_limit=q1-1.5*iqr\n",
    "up_limit=q3+1.5*iqr\n",
    "\n",
    "print(low_limit)\n",
    "print(up_limit)"
   ]
  },
  {
   "cell_type": "code",
   "execution_count": 86,
   "metadata": {},
   "outputs": [
    {
     "data": {
      "text/plain": [
       "[]"
      ]
     },
     "execution_count": 86,
     "metadata": {},
     "output_type": "execute_result"
    }
   ],
   "source": [
    "outlier=[]\n",
    "for x in df['MPG']:\n",
    "    if((x>up_limit)or(x<low_limit)):\n",
    "        outlier.append(x)\n",
    "outlier\n"
   ]
  },
  {
   "cell_type": "code",
   "execution_count": 87,
   "metadata": {},
   "outputs": [
    {
     "data": {
      "text/plain": [
       "Index([], dtype='int64')"
      ]
     },
     "execution_count": 87,
     "metadata": {},
     "output_type": "execute_result"
    }
   ],
   "source": [
    "ind1=df['MPG']>up_limit\n",
    "df.loc[ind1].index"
   ]
  },
  {
   "cell_type": "code",
   "execution_count": 88,
   "metadata": {},
   "outputs": [],
   "source": [
    "df.drop([329,332,336], inplace = True)"
   ]
  },
  {
   "cell_type": "code",
   "execution_count": 89,
   "metadata": {},
   "outputs": [
    {
     "data": {
      "image/png": "[encoded data removed]",
      "text/plain": [
       "<Figure size 640x480 with 1 Axes>"
      ]
     },
     "metadata": {},
     "output_type": "display_data"
    }
   ],
   "source": [
    "plt.boxplot(df['MPG'])\n",
    "plt.title('Box plot of MPG')\n",
    "plt.show()"
   ]
  },
  {
   "cell_type": "code",
   "execution_count": 90,
   "metadata": {},
   "outputs": [
    {
     "data": {
      "text/plain": [
       "(367, 9)"
      ]
     },
     "execution_count": 90,
     "metadata": {},
     "output_type": "execute_result"
    }
   ],
   "source": [
    "df.shape"
   ]
  },
  {
   "cell_type": "code",
   "execution_count": 92,
   "metadata": {},
   "outputs": [
    {
     "data": {
      "text/plain": [
       "13"
      ]
     },
     "execution_count": 92,
     "metadata": {},
     "output_type": "execute_result"
    }
   ],
   "source": [
    "df.Model.nunique()"
   ]
  },
  {
   "cell_type": "code",
   "execution_count": 143,
   "metadata": {},
   "outputs": [],
   "source": [
    "df.columns\n",
    "y=df['Model']\n",
    "x=df.drop('Model',axis=1)"
   ]
  },
  {
   "cell_type": "code",
   "execution_count": 145,
   "metadata": {},
   "outputs": [
    {
     "data": {
      "text/plain": [
       "0      70\n",
       "1      70\n",
       "2      70\n",
       "3      70\n",
       "4      70\n",
       "       ..\n",
       "400    82\n",
       "401    82\n",
       "403    82\n",
       "404    82\n",
       "405    82\n",
       "Name: Model, Length: 367, dtype: int64"
      ]
     },
     "execution_count": 145,
     "metadata": {},
     "output_type": "execute_result"
    }
   ],
   "source": [
    "y"
   ]
  },
  {
   "cell_type": "code",
   "execution_count": 144,
   "metadata": {},
   "outputs": [
    {
     "data": {
      "text/html": [
       "<div>\n",
       "<style scoped>\n",
       "    .dataframe tbody tr th:only-of-type {\n",
       "        vertical-align: middle;\n",
       "    }\n",
       "\n",
       "    .dataframe tbody tr th {\n",
       "        vertical-align: top;\n",
       "    }\n",
       "\n",
       "    .dataframe thead th {\n",
       "        text-align: right;\n",
       "    }\n",
       "</style>\n",
       "<table border=\"1\" class=\"dataframe\">\n",
       "  <thead>\n",
       "    <tr style=\"text-align: right;\">\n",
       "      <th></th>\n",
       "      <th>Car</th>\n",
       "      <th>MPG</th>\n",
       "      <th>Cylinders</th>\n",
       "      <th>Displacement</th>\n",
       "      <th>Horsepower</th>\n",
       "      <th>Weight</th>\n",
       "      <th>Acceleration</th>\n",
       "      <th>Origin</th>\n",
       "    </tr>\n",
       "  </thead>\n",
       "  <tbody>\n",
       "    <tr>\n",
       "      <th>0</th>\n",
       "      <td>50</td>\n",
       "      <td>18.0</td>\n",
       "      <td>8</td>\n",
       "      <td>307.0</td>\n",
       "      <td>130.0</td>\n",
       "      <td>3504.0</td>\n",
       "      <td>12.0</td>\n",
       "      <td>2</td>\n",
       "    </tr>\n",
       "    <tr>\n",
       "      <th>1</th>\n",
       "      <td>37</td>\n",
       "      <td>15.0</td>\n",
       "      <td>8</td>\n",
       "      <td>350.0</td>\n",
       "      <td>165.0</td>\n",
       "      <td>3693.0</td>\n",
       "      <td>11.5</td>\n",
       "      <td>2</td>\n",
       "    </tr>\n",
       "    <tr>\n",
       "      <th>2</th>\n",
       "      <td>235</td>\n",
       "      <td>18.0</td>\n",
       "      <td>8</td>\n",
       "      <td>318.0</td>\n",
       "      <td>150.0</td>\n",
       "      <td>3436.0</td>\n",
       "      <td>11.0</td>\n",
       "      <td>2</td>\n",
       "    </tr>\n",
       "    <tr>\n",
       "      <th>3</th>\n",
       "      <td>14</td>\n",
       "      <td>16.0</td>\n",
       "      <td>8</td>\n",
       "      <td>304.0</td>\n",
       "      <td>150.0</td>\n",
       "      <td>3433.0</td>\n",
       "      <td>12.0</td>\n",
       "      <td>2</td>\n",
       "    </tr>\n",
       "    <tr>\n",
       "      <th>4</th>\n",
       "      <td>164</td>\n",
       "      <td>17.0</td>\n",
       "      <td>8</td>\n",
       "      <td>302.0</td>\n",
       "      <td>140.0</td>\n",
       "      <td>3449.0</td>\n",
       "      <td>10.5</td>\n",
       "      <td>2</td>\n",
       "    </tr>\n",
       "  </tbody>\n",
       "</table>\n",
       "</div>"
      ],
      "text/plain": [
       "   Car   MPG  Cylinders  Displacement  Horsepower  Weight  Acceleration  \\\n",
       "0   50  18.0          8         307.0       130.0  3504.0          12.0   \n",
       "1   37  15.0          8         350.0       165.0  3693.0          11.5   \n",
       "2  235  18.0          8         318.0       150.0  3436.0          11.0   \n",
       "3   14  16.0          8         304.0       150.0  3433.0          12.0   \n",
       "4  164  17.0          8         302.0       140.0  3449.0          10.5   \n",
       "\n",
       "   Origin  \n",
       "0       2  \n",
       "1       2  \n",
       "2       2  \n",
       "3       2  \n",
       "4       2  "
      ]
     },
     "execution_count": 144,
     "metadata": {},
     "output_type": "execute_result"
    }
   ],
   "source": [
    "x.head()"
   ]
  },
  {
   "cell_type": "code",
   "execution_count": 94,
   "metadata": {},
   "outputs": [],
   "source": [
    "from sklearn.model_selection import train_test_split\n",
    "x_train,x_test,y_train,y_test=train_test_split(x,y, random_state=42, test_size=0.2)"
   ]
  },
  {
   "cell_type": "code",
   "execution_count": 95,
   "metadata": {},
   "outputs": [],
   "source": [
    "from sklearn import linear_model\n",
    "lr=linear_model.LinearRegression()\n",
    "model=lr.fit(x_train,y_train)\n",
    "prediction=model.predict(x_test)"
   ]
  },
  {
   "cell_type": "code",
   "execution_count": 96,
   "metadata": {},
   "outputs": [
    {
     "name": "stdout",
     "output_type": "stream",
     "text": [
      "MSE IS: 7.574420592019458\n"
     ]
    }
   ],
   "source": [
    "from sklearn.metrics import mean_squared_error\n",
    "print('MSE IS:', mean_squared_error(y_test,prediction))"
   ]
  },
  {
   "cell_type": "code",
   "execution_count": 97,
   "metadata": {},
   "outputs": [
    {
     "name": "stdout",
     "output_type": "stream",
     "text": [
      "R squared value is: 0.5521800977974914\n"
     ]
    }
   ],
   "source": [
    "from sklearn.metrics import r2_score\n",
    "print('R squared value is:', r2_score(y_test,prediction))"
   ]
  },
  {
   "cell_type": "code",
   "execution_count": 99,
   "metadata": {},
   "outputs": [
    {
     "data": {
      "text/html": [
       "<div>\n",
       "<style scoped>\n",
       "    .dataframe tbody tr th:only-of-type {\n",
       "        vertical-align: middle;\n",
       "    }\n",
       "\n",
       "    .dataframe tbody tr th {\n",
       "        vertical-align: top;\n",
       "    }\n",
       "\n",
       "    .dataframe thead th {\n",
       "        text-align: right;\n",
       "    }\n",
       "</style>\n",
       "<table border=\"1\" class=\"dataframe\">\n",
       "  <thead>\n",
       "    <tr style=\"text-align: right;\">\n",
       "      <th></th>\n",
       "      <th>Car</th>\n",
       "      <th>MPG</th>\n",
       "      <th>Cylinders</th>\n",
       "      <th>Displacement</th>\n",
       "      <th>Horsepower</th>\n",
       "      <th>Weight</th>\n",
       "      <th>Acceleration</th>\n",
       "      <th>Origin</th>\n",
       "    </tr>\n",
       "  </thead>\n",
       "  <tbody>\n",
       "    <tr>\n",
       "      <th>count</th>\n",
       "      <td>367.000000</td>\n",
       "      <td>367.000000</td>\n",
       "      <td>367.00000</td>\n",
       "      <td>367.000000</td>\n",
       "      <td>367.000000</td>\n",
       "      <td>367.000000</td>\n",
       "      <td>367.000000</td>\n",
       "      <td>367.000000</td>\n",
       "    </tr>\n",
       "    <tr>\n",
       "      <th>mean</th>\n",
       "      <td>149.204360</td>\n",
       "      <td>22.793733</td>\n",
       "      <td>5.46594</td>\n",
       "      <td>198.246594</td>\n",
       "      <td>104.910082</td>\n",
       "      <td>2994.986376</td>\n",
       "      <td>15.398638</td>\n",
       "      <td>1.474114</td>\n",
       "    </tr>\n",
       "    <tr>\n",
       "      <th>std</th>\n",
       "      <td>90.652819</td>\n",
       "      <td>8.355541</td>\n",
       "      <td>1.78283</td>\n",
       "      <td>109.137640</td>\n",
       "      <td>41.466625</td>\n",
       "      <td>880.296021</td>\n",
       "      <td>2.701896</td>\n",
       "      <td>0.763770</td>\n",
       "    </tr>\n",
       "    <tr>\n",
       "      <th>min</th>\n",
       "      <td>0.000000</td>\n",
       "      <td>0.000000</td>\n",
       "      <td>3.00000</td>\n",
       "      <td>68.000000</td>\n",
       "      <td>0.000000</td>\n",
       "      <td>1613.000000</td>\n",
       "      <td>8.000000</td>\n",
       "      <td>0.000000</td>\n",
       "    </tr>\n",
       "    <tr>\n",
       "      <th>25%</th>\n",
       "      <td>64.500000</td>\n",
       "      <td>16.000000</td>\n",
       "      <td>4.00000</td>\n",
       "      <td>99.000000</td>\n",
       "      <td>75.000000</td>\n",
       "      <td>2212.500000</td>\n",
       "      <td>13.500000</td>\n",
       "      <td>1.000000</td>\n",
       "    </tr>\n",
       "    <tr>\n",
       "      <th>50%</th>\n",
       "      <td>147.000000</td>\n",
       "      <td>22.400000</td>\n",
       "      <td>4.00000</td>\n",
       "      <td>140.000000</td>\n",
       "      <td>92.000000</td>\n",
       "      <td>2789.000000</td>\n",
       "      <td>15.400000</td>\n",
       "      <td>2.000000</td>\n",
       "    </tr>\n",
       "    <tr>\n",
       "      <th>75%</th>\n",
       "      <td>231.500000</td>\n",
       "      <td>29.000000</td>\n",
       "      <td>8.00000</td>\n",
       "      <td>302.000000</td>\n",
       "      <td>137.500000</td>\n",
       "      <td>3709.000000</td>\n",
       "      <td>17.000000</td>\n",
       "      <td>2.000000</td>\n",
       "    </tr>\n",
       "    <tr>\n",
       "      <th>max</th>\n",
       "      <td>305.000000</td>\n",
       "      <td>43.100000</td>\n",
       "      <td>8.00000</td>\n",
       "      <td>455.000000</td>\n",
       "      <td>230.000000</td>\n",
       "      <td>5140.000000</td>\n",
       "      <td>22.200000</td>\n",
       "      <td>2.000000</td>\n",
       "    </tr>\n",
       "  </tbody>\n",
       "</table>\n",
       "</div>"
      ],
      "text/plain": [
       "              Car         MPG  Cylinders  Displacement  Horsepower  \\\n",
       "count  367.000000  367.000000  367.00000    367.000000  367.000000   \n",
       "mean   149.204360   22.793733    5.46594    198.246594  104.910082   \n",
       "std     90.652819    8.355541    1.78283    109.137640   41.466625   \n",
       "min      0.000000    0.000000    3.00000     68.000000    0.000000   \n",
       "25%     64.500000   16.000000    4.00000     99.000000   75.000000   \n",
       "50%    147.000000   22.400000    4.00000    140.000000   92.000000   \n",
       "75%    231.500000   29.000000    8.00000    302.000000  137.500000   \n",
       "max    305.000000   43.100000    8.00000    455.000000  230.000000   \n",
       "\n",
       "            Weight  Acceleration      Origin  \n",
       "count   367.000000    367.000000  367.000000  \n",
       "mean   2994.986376     15.398638    1.474114  \n",
       "std     880.296021      2.701896    0.763770  \n",
       "min    1613.000000      8.000000    0.000000  \n",
       "25%    2212.500000     13.500000    1.000000  \n",
       "50%    2789.000000     15.400000    2.000000  \n",
       "75%    3709.000000     17.000000    2.000000  \n",
       "max    5140.000000     22.200000    2.000000  "
      ]
     },
     "execution_count": 99,
     "metadata": {},
     "output_type": "execute_result"
    }
   ],
   "source": [
    "x.describe()"
   ]
  },
  {
   "cell_type": "code",
   "execution_count": 100,
   "metadata": {},
   "outputs": [
    {
     "data": {
      "text/plain": [
       "pandas.core.frame.DataFrame"
      ]
     },
     "execution_count": 100,
     "metadata": {},
     "output_type": "execute_result"
    }
   ],
   "source": [
    "type(x)"
   ]
  },
  {
   "cell_type": "code",
   "execution_count": 101,
   "metadata": {},
   "outputs": [
    {
     "data": {
      "text/html": [
       "<div>\n",
       "<style scoped>\n",
       "    .dataframe tbody tr th:only-of-type {\n",
       "        vertical-align: middle;\n",
       "    }\n",
       "\n",
       "    .dataframe tbody tr th {\n",
       "        vertical-align: top;\n",
       "    }\n",
       "\n",
       "    .dataframe thead th {\n",
       "        text-align: right;\n",
       "    }\n",
       "</style>\n",
       "<table border=\"1\" class=\"dataframe\">\n",
       "  <thead>\n",
       "    <tr style=\"text-align: right;\">\n",
       "      <th></th>\n",
       "      <th>Car</th>\n",
       "      <th>MPG</th>\n",
       "      <th>Cylinders</th>\n",
       "      <th>Displacement</th>\n",
       "      <th>Horsepower</th>\n",
       "      <th>Weight</th>\n",
       "      <th>Acceleration</th>\n",
       "      <th>Origin</th>\n",
       "    </tr>\n",
       "  </thead>\n",
       "  <tbody>\n",
       "    <tr>\n",
       "      <th>count</th>\n",
       "      <td>367.000000</td>\n",
       "      <td>367.000000</td>\n",
       "      <td>367.00000</td>\n",
       "      <td>367.000000</td>\n",
       "      <td>367.000000</td>\n",
       "      <td>367.000000</td>\n",
       "      <td>367.000000</td>\n",
       "      <td>367.000000</td>\n",
       "    </tr>\n",
       "    <tr>\n",
       "      <th>mean</th>\n",
       "      <td>149.204360</td>\n",
       "      <td>22.793733</td>\n",
       "      <td>5.46594</td>\n",
       "      <td>198.246594</td>\n",
       "      <td>104.910082</td>\n",
       "      <td>2994.986376</td>\n",
       "      <td>15.398638</td>\n",
       "      <td>1.474114</td>\n",
       "    </tr>\n",
       "    <tr>\n",
       "      <th>std</th>\n",
       "      <td>90.652819</td>\n",
       "      <td>8.355541</td>\n",
       "      <td>1.78283</td>\n",
       "      <td>109.137640</td>\n",
       "      <td>41.466625</td>\n",
       "      <td>880.296021</td>\n",
       "      <td>2.701896</td>\n",
       "      <td>0.763770</td>\n",
       "    </tr>\n",
       "    <tr>\n",
       "      <th>min</th>\n",
       "      <td>0.000000</td>\n",
       "      <td>0.000000</td>\n",
       "      <td>3.00000</td>\n",
       "      <td>68.000000</td>\n",
       "      <td>0.000000</td>\n",
       "      <td>1613.000000</td>\n",
       "      <td>8.000000</td>\n",
       "      <td>0.000000</td>\n",
       "    </tr>\n",
       "    <tr>\n",
       "      <th>25%</th>\n",
       "      <td>64.500000</td>\n",
       "      <td>16.000000</td>\n",
       "      <td>4.00000</td>\n",
       "      <td>99.000000</td>\n",
       "      <td>75.000000</td>\n",
       "      <td>2212.500000</td>\n",
       "      <td>13.500000</td>\n",
       "      <td>1.000000</td>\n",
       "    </tr>\n",
       "    <tr>\n",
       "      <th>50%</th>\n",
       "      <td>147.000000</td>\n",
       "      <td>22.400000</td>\n",
       "      <td>4.00000</td>\n",
       "      <td>140.000000</td>\n",
       "      <td>92.000000</td>\n",
       "      <td>2789.000000</td>\n",
       "      <td>15.400000</td>\n",
       "      <td>2.000000</td>\n",
       "    </tr>\n",
       "    <tr>\n",
       "      <th>75%</th>\n",
       "      <td>231.500000</td>\n",
       "      <td>29.000000</td>\n",
       "      <td>8.00000</td>\n",
       "      <td>302.000000</td>\n",
       "      <td>137.500000</td>\n",
       "      <td>3709.000000</td>\n",
       "      <td>17.000000</td>\n",
       "      <td>2.000000</td>\n",
       "    </tr>\n",
       "    <tr>\n",
       "      <th>max</th>\n",
       "      <td>305.000000</td>\n",
       "      <td>43.100000</td>\n",
       "      <td>8.00000</td>\n",
       "      <td>455.000000</td>\n",
       "      <td>230.000000</td>\n",
       "      <td>5140.000000</td>\n",
       "      <td>22.200000</td>\n",
       "      <td>2.000000</td>\n",
       "    </tr>\n",
       "  </tbody>\n",
       "</table>\n",
       "</div>"
      ],
      "text/plain": [
       "              Car         MPG  Cylinders  Displacement  Horsepower  \\\n",
       "count  367.000000  367.000000  367.00000    367.000000  367.000000   \n",
       "mean   149.204360   22.793733    5.46594    198.246594  104.910082   \n",
       "std     90.652819    8.355541    1.78283    109.137640   41.466625   \n",
       "min      0.000000    0.000000    3.00000     68.000000    0.000000   \n",
       "25%     64.500000   16.000000    4.00000     99.000000   75.000000   \n",
       "50%    147.000000   22.400000    4.00000    140.000000   92.000000   \n",
       "75%    231.500000   29.000000    8.00000    302.000000  137.500000   \n",
       "max    305.000000   43.100000    8.00000    455.000000  230.000000   \n",
       "\n",
       "            Weight  Acceleration      Origin  \n",
       "count   367.000000    367.000000  367.000000  \n",
       "mean   2994.986376     15.398638    1.474114  \n",
       "std     880.296021      2.701896    0.763770  \n",
       "min    1613.000000      8.000000    0.000000  \n",
       "25%    2212.500000     13.500000    1.000000  \n",
       "50%    2789.000000     15.400000    2.000000  \n",
       "75%    3709.000000     17.000000    2.000000  \n",
       "max    5140.000000     22.200000    2.000000  "
      ]
     },
     "execution_count": 101,
     "metadata": {},
     "output_type": "execute_result"
    }
   ],
   "source": [
    "x=pd.DataFrame(x)\n",
    "x.describe()"
   ]
  },
  {
   "cell_type": "code",
   "execution_count": 102,
   "metadata": {},
   "outputs": [
    {
     "name": "stdout",
     "output_type": "stream",
     "text": [
      "MSE Is: 7.574420592019458\n",
      "R squared value is: 0.5521800977974914\n"
     ]
    }
   ],
   "source": [
    "x_train,x_test,y_train,y_test=train_test_split(x,y,random_state=42,test_size=0.2)\n",
    "lr=linear_model.LinearRegression()\n",
    "model=lr.fit(x_train,y_train)\n",
    "prediction=model.predict(x_test)\n",
    "print('MSE Is:',mean_squared_error(y_test,prediction))\n",
    "print('R squared value is:',r2_score(y_test,prediction))"
   ]
  },
  {
   "cell_type": "code",
   "execution_count": 103,
   "metadata": {},
   "outputs": [
    {
     "data": {
      "text/html": [
       "<div>\n",
       "<style scoped>\n",
       "    .dataframe tbody tr th:only-of-type {\n",
       "        vertical-align: middle;\n",
       "    }\n",
       "\n",
       "    .dataframe tbody tr th {\n",
       "        vertical-align: top;\n",
       "    }\n",
       "\n",
       "    .dataframe thead th {\n",
       "        text-align: right;\n",
       "    }\n",
       "</style>\n",
       "<table border=\"1\" class=\"dataframe\">\n",
       "  <thead>\n",
       "    <tr style=\"text-align: right;\">\n",
       "      <th></th>\n",
       "      <th>Car</th>\n",
       "      <th>MPG</th>\n",
       "      <th>Cylinders</th>\n",
       "      <th>Displacement</th>\n",
       "      <th>Horsepower</th>\n",
       "      <th>Weight</th>\n",
       "      <th>Acceleration</th>\n",
       "      <th>Origin</th>\n",
       "    </tr>\n",
       "  </thead>\n",
       "  <tbody>\n",
       "    <tr>\n",
       "      <th>count</th>\n",
       "      <td>367.000000</td>\n",
       "      <td>367.000000</td>\n",
       "      <td>367.00000</td>\n",
       "      <td>367.000000</td>\n",
       "      <td>367.000000</td>\n",
       "      <td>367.000000</td>\n",
       "      <td>367.000000</td>\n",
       "      <td>367.000000</td>\n",
       "    </tr>\n",
       "    <tr>\n",
       "      <th>mean</th>\n",
       "      <td>149.204360</td>\n",
       "      <td>22.793733</td>\n",
       "      <td>5.46594</td>\n",
       "      <td>198.246594</td>\n",
       "      <td>104.910082</td>\n",
       "      <td>2994.986376</td>\n",
       "      <td>15.398638</td>\n",
       "      <td>1.474114</td>\n",
       "    </tr>\n",
       "    <tr>\n",
       "      <th>std</th>\n",
       "      <td>90.652819</td>\n",
       "      <td>8.355541</td>\n",
       "      <td>1.78283</td>\n",
       "      <td>109.137640</td>\n",
       "      <td>41.466625</td>\n",
       "      <td>880.296021</td>\n",
       "      <td>2.701896</td>\n",
       "      <td>0.763770</td>\n",
       "    </tr>\n",
       "    <tr>\n",
       "      <th>min</th>\n",
       "      <td>0.000000</td>\n",
       "      <td>0.000000</td>\n",
       "      <td>3.00000</td>\n",
       "      <td>68.000000</td>\n",
       "      <td>0.000000</td>\n",
       "      <td>1613.000000</td>\n",
       "      <td>8.000000</td>\n",
       "      <td>0.000000</td>\n",
       "    </tr>\n",
       "    <tr>\n",
       "      <th>25%</th>\n",
       "      <td>64.500000</td>\n",
       "      <td>16.000000</td>\n",
       "      <td>4.00000</td>\n",
       "      <td>99.000000</td>\n",
       "      <td>75.000000</td>\n",
       "      <td>2212.500000</td>\n",
       "      <td>13.500000</td>\n",
       "      <td>1.000000</td>\n",
       "    </tr>\n",
       "    <tr>\n",
       "      <th>50%</th>\n",
       "      <td>147.000000</td>\n",
       "      <td>22.400000</td>\n",
       "      <td>4.00000</td>\n",
       "      <td>140.000000</td>\n",
       "      <td>92.000000</td>\n",
       "      <td>2789.000000</td>\n",
       "      <td>15.400000</td>\n",
       "      <td>2.000000</td>\n",
       "    </tr>\n",
       "    <tr>\n",
       "      <th>75%</th>\n",
       "      <td>231.500000</td>\n",
       "      <td>29.000000</td>\n",
       "      <td>8.00000</td>\n",
       "      <td>302.000000</td>\n",
       "      <td>137.500000</td>\n",
       "      <td>3709.000000</td>\n",
       "      <td>17.000000</td>\n",
       "      <td>2.000000</td>\n",
       "    </tr>\n",
       "    <tr>\n",
       "      <th>max</th>\n",
       "      <td>305.000000</td>\n",
       "      <td>43.100000</td>\n",
       "      <td>8.00000</td>\n",
       "      <td>455.000000</td>\n",
       "      <td>230.000000</td>\n",
       "      <td>5140.000000</td>\n",
       "      <td>22.200000</td>\n",
       "      <td>2.000000</td>\n",
       "    </tr>\n",
       "  </tbody>\n",
       "</table>\n",
       "</div>"
      ],
      "text/plain": [
       "              Car         MPG  Cylinders  Displacement  Horsepower  \\\n",
       "count  367.000000  367.000000  367.00000    367.000000  367.000000   \n",
       "mean   149.204360   22.793733    5.46594    198.246594  104.910082   \n",
       "std     90.652819    8.355541    1.78283    109.137640   41.466625   \n",
       "min      0.000000    0.000000    3.00000     68.000000    0.000000   \n",
       "25%     64.500000   16.000000    4.00000     99.000000   75.000000   \n",
       "50%    147.000000   22.400000    4.00000    140.000000   92.000000   \n",
       "75%    231.500000   29.000000    8.00000    302.000000  137.500000   \n",
       "max    305.000000   43.100000    8.00000    455.000000  230.000000   \n",
       "\n",
       "            Weight  Acceleration      Origin  \n",
       "count   367.000000    367.000000  367.000000  \n",
       "mean   2994.986376     15.398638    1.474114  \n",
       "std     880.296021      2.701896    0.763770  \n",
       "min    1613.000000      8.000000    0.000000  \n",
       "25%    2212.500000     13.500000    1.000000  \n",
       "50%    2789.000000     15.400000    2.000000  \n",
       "75%    3709.000000     17.000000    2.000000  \n",
       "max    5140.000000     22.200000    2.000000  "
      ]
     },
     "execution_count": 103,
     "metadata": {},
     "output_type": "execute_result"
    }
   ],
   "source": [
    "x=df.drop('Model',axis=1)\n",
    "x.describe()"
   ]
  },
  {
   "cell_type": "code",
   "execution_count": 104,
   "metadata": {},
   "outputs": [],
   "source": [
    "from sklearn import preprocessing"
   ]
  },
  {
   "cell_type": "code",
   "execution_count": 106,
   "metadata": {},
   "outputs": [
    {
     "data": {
      "text/html": [
       "<div>\n",
       "<style scoped>\n",
       "    .dataframe tbody tr th:only-of-type {\n",
       "        vertical-align: middle;\n",
       "    }\n",
       "\n",
       "    .dataframe tbody tr th {\n",
       "        vertical-align: top;\n",
       "    }\n",
       "\n",
       "    .dataframe thead th {\n",
       "        text-align: right;\n",
       "    }\n",
       "</style>\n",
       "<table border=\"1\" class=\"dataframe\">\n",
       "  <thead>\n",
       "    <tr style=\"text-align: right;\">\n",
       "      <th></th>\n",
       "      <th>0</th>\n",
       "      <th>1</th>\n",
       "      <th>2</th>\n",
       "      <th>3</th>\n",
       "      <th>4</th>\n",
       "      <th>5</th>\n",
       "      <th>6</th>\n",
       "      <th>7</th>\n",
       "    </tr>\n",
       "  </thead>\n",
       "  <tbody>\n",
       "    <tr>\n",
       "      <th>count</th>\n",
       "      <td>367.000000</td>\n",
       "      <td>367.000000</td>\n",
       "      <td>367.000000</td>\n",
       "      <td>367.000000</td>\n",
       "      <td>367.000000</td>\n",
       "      <td>367.000000</td>\n",
       "      <td>367.000000</td>\n",
       "      <td>367.000000</td>\n",
       "    </tr>\n",
       "    <tr>\n",
       "      <th>mean</th>\n",
       "      <td>0.489195</td>\n",
       "      <td>0.528857</td>\n",
       "      <td>0.493188</td>\n",
       "      <td>0.336555</td>\n",
       "      <td>0.456131</td>\n",
       "      <td>0.391831</td>\n",
       "      <td>0.521031</td>\n",
       "      <td>0.737057</td>\n",
       "    </tr>\n",
       "    <tr>\n",
       "      <th>std</th>\n",
       "      <td>0.297222</td>\n",
       "      <td>0.193864</td>\n",
       "      <td>0.356566</td>\n",
       "      <td>0.282009</td>\n",
       "      <td>0.180290</td>\n",
       "      <td>0.249588</td>\n",
       "      <td>0.190274</td>\n",
       "      <td>0.381885</td>\n",
       "    </tr>\n",
       "    <tr>\n",
       "      <th>min</th>\n",
       "      <td>0.000000</td>\n",
       "      <td>0.000000</td>\n",
       "      <td>0.000000</td>\n",
       "      <td>0.000000</td>\n",
       "      <td>0.000000</td>\n",
       "      <td>0.000000</td>\n",
       "      <td>0.000000</td>\n",
       "      <td>0.000000</td>\n",
       "    </tr>\n",
       "    <tr>\n",
       "      <th>25%</th>\n",
       "      <td>0.211475</td>\n",
       "      <td>0.371230</td>\n",
       "      <td>0.200000</td>\n",
       "      <td>0.080103</td>\n",
       "      <td>0.326087</td>\n",
       "      <td>0.169974</td>\n",
       "      <td>0.387324</td>\n",
       "      <td>0.500000</td>\n",
       "    </tr>\n",
       "    <tr>\n",
       "      <th>50%</th>\n",
       "      <td>0.481967</td>\n",
       "      <td>0.519722</td>\n",
       "      <td>0.200000</td>\n",
       "      <td>0.186047</td>\n",
       "      <td>0.400000</td>\n",
       "      <td>0.333428</td>\n",
       "      <td>0.521127</td>\n",
       "      <td>1.000000</td>\n",
       "    </tr>\n",
       "    <tr>\n",
       "      <th>75%</th>\n",
       "      <td>0.759016</td>\n",
       "      <td>0.672854</td>\n",
       "      <td>1.000000</td>\n",
       "      <td>0.604651</td>\n",
       "      <td>0.597826</td>\n",
       "      <td>0.594273</td>\n",
       "      <td>0.633803</td>\n",
       "      <td>1.000000</td>\n",
       "    </tr>\n",
       "    <tr>\n",
       "      <th>max</th>\n",
       "      <td>1.000000</td>\n",
       "      <td>1.000000</td>\n",
       "      <td>1.000000</td>\n",
       "      <td>1.000000</td>\n",
       "      <td>1.000000</td>\n",
       "      <td>1.000000</td>\n",
       "      <td>1.000000</td>\n",
       "      <td>1.000000</td>\n",
       "    </tr>\n",
       "  </tbody>\n",
       "</table>\n",
       "</div>"
      ],
      "text/plain": [
       "                0           1           2           3           4           5  \\\n",
       "count  367.000000  367.000000  367.000000  367.000000  367.000000  367.000000   \n",
       "mean     0.489195    0.528857    0.493188    0.336555    0.456131    0.391831   \n",
       "std      0.297222    0.193864    0.356566    0.282009    0.180290    0.249588   \n",
       "min      0.000000    0.000000    0.000000    0.000000    0.000000    0.000000   \n",
       "25%      0.211475    0.371230    0.200000    0.080103    0.326087    0.169974   \n",
       "50%      0.481967    0.519722    0.200000    0.186047    0.400000    0.333428   \n",
       "75%      0.759016    0.672854    1.000000    0.604651    0.597826    0.594273   \n",
       "max      1.000000    1.000000    1.000000    1.000000    1.000000    1.000000   \n",
       "\n",
       "                6           7  \n",
       "count  367.000000  367.000000  \n",
       "mean     0.521031    0.737057  \n",
       "std      0.190274    0.381885  \n",
       "min      0.000000    0.000000  \n",
       "25%      0.387324    0.500000  \n",
       "50%      0.521127    1.000000  \n",
       "75%      0.633803    1.000000  \n",
       "max      1.000000    1.000000  "
      ]
     },
     "execution_count": 106,
     "metadata": {},
     "output_type": "execute_result"
    }
   ],
   "source": [
    "min_max=preprocessing.MinMaxScaler(feature_range=(0,1))\n",
    "x=min_max.fit_transform(x)\n",
    "x=pd.DataFrame(x)\n",
    "x.describe()"
   ]
  },
  {
   "cell_type": "code",
   "execution_count": 107,
   "metadata": {},
   "outputs": [
    {
     "name": "stdout",
     "output_type": "stream",
     "text": [
      "MSE Is: 7.574420592019418\n",
      "R squared value is: 0.5521800977974938\n"
     ]
    }
   ],
   "source": [
    "x_train,x_test,y_train,y_test=train_test_split(x,y,random_state=42,test_size=0.2)\n",
    "lr=linear_model.LinearRegression()\n",
    "model=lr.fit(x_train,y_train)\n",
    "prediction=model.predict(x_test)\n",
    "print('MSE Is:',mean_squared_error(y_test,prediction))\n",
    "print('R squared value is:',r2_score(y_test,prediction))"
   ]
  },
  {
   "cell_type": "code",
   "execution_count": 108,
   "metadata": {},
   "outputs": [
    {
     "data": {
      "text/html": [
       "<div>\n",
       "<style scoped>\n",
       "    .dataframe tbody tr th:only-of-type {\n",
       "        vertical-align: middle;\n",
       "    }\n",
       "\n",
       "    .dataframe tbody tr th {\n",
       "        vertical-align: top;\n",
       "    }\n",
       "\n",
       "    .dataframe thead th {\n",
       "        text-align: right;\n",
       "    }\n",
       "</style>\n",
       "<table border=\"1\" class=\"dataframe\">\n",
       "  <thead>\n",
       "    <tr style=\"text-align: right;\">\n",
       "      <th></th>\n",
       "      <th>Car</th>\n",
       "      <th>MPG</th>\n",
       "      <th>Cylinders</th>\n",
       "      <th>Displacement</th>\n",
       "      <th>Horsepower</th>\n",
       "      <th>Weight</th>\n",
       "      <th>Acceleration</th>\n",
       "      <th>Origin</th>\n",
       "    </tr>\n",
       "  </thead>\n",
       "  <tbody>\n",
       "    <tr>\n",
       "      <th>count</th>\n",
       "      <td>367.000000</td>\n",
       "      <td>367.000000</td>\n",
       "      <td>367.00000</td>\n",
       "      <td>367.000000</td>\n",
       "      <td>367.000000</td>\n",
       "      <td>367.000000</td>\n",
       "      <td>367.000000</td>\n",
       "      <td>367.000000</td>\n",
       "    </tr>\n",
       "    <tr>\n",
       "      <th>mean</th>\n",
       "      <td>149.204360</td>\n",
       "      <td>22.793733</td>\n",
       "      <td>5.46594</td>\n",
       "      <td>198.246594</td>\n",
       "      <td>104.910082</td>\n",
       "      <td>2994.986376</td>\n",
       "      <td>15.398638</td>\n",
       "      <td>1.474114</td>\n",
       "    </tr>\n",
       "    <tr>\n",
       "      <th>std</th>\n",
       "      <td>90.652819</td>\n",
       "      <td>8.355541</td>\n",
       "      <td>1.78283</td>\n",
       "      <td>109.137640</td>\n",
       "      <td>41.466625</td>\n",
       "      <td>880.296021</td>\n",
       "      <td>2.701896</td>\n",
       "      <td>0.763770</td>\n",
       "    </tr>\n",
       "    <tr>\n",
       "      <th>min</th>\n",
       "      <td>0.000000</td>\n",
       "      <td>0.000000</td>\n",
       "      <td>3.00000</td>\n",
       "      <td>68.000000</td>\n",
       "      <td>0.000000</td>\n",
       "      <td>1613.000000</td>\n",
       "      <td>8.000000</td>\n",
       "      <td>0.000000</td>\n",
       "    </tr>\n",
       "    <tr>\n",
       "      <th>25%</th>\n",
       "      <td>64.500000</td>\n",
       "      <td>16.000000</td>\n",
       "      <td>4.00000</td>\n",
       "      <td>99.000000</td>\n",
       "      <td>75.000000</td>\n",
       "      <td>2212.500000</td>\n",
       "      <td>13.500000</td>\n",
       "      <td>1.000000</td>\n",
       "    </tr>\n",
       "    <tr>\n",
       "      <th>50%</th>\n",
       "      <td>147.000000</td>\n",
       "      <td>22.400000</td>\n",
       "      <td>4.00000</td>\n",
       "      <td>140.000000</td>\n",
       "      <td>92.000000</td>\n",
       "      <td>2789.000000</td>\n",
       "      <td>15.400000</td>\n",
       "      <td>2.000000</td>\n",
       "    </tr>\n",
       "    <tr>\n",
       "      <th>75%</th>\n",
       "      <td>231.500000</td>\n",
       "      <td>29.000000</td>\n",
       "      <td>8.00000</td>\n",
       "      <td>302.000000</td>\n",
       "      <td>137.500000</td>\n",
       "      <td>3709.000000</td>\n",
       "      <td>17.000000</td>\n",
       "      <td>2.000000</td>\n",
       "    </tr>\n",
       "    <tr>\n",
       "      <th>max</th>\n",
       "      <td>305.000000</td>\n",
       "      <td>43.100000</td>\n",
       "      <td>8.00000</td>\n",
       "      <td>455.000000</td>\n",
       "      <td>230.000000</td>\n",
       "      <td>5140.000000</td>\n",
       "      <td>22.200000</td>\n",
       "      <td>2.000000</td>\n",
       "    </tr>\n",
       "  </tbody>\n",
       "</table>\n",
       "</div>"
      ],
      "text/plain": [
       "              Car         MPG  Cylinders  Displacement  Horsepower  \\\n",
       "count  367.000000  367.000000  367.00000    367.000000  367.000000   \n",
       "mean   149.204360   22.793733    5.46594    198.246594  104.910082   \n",
       "std     90.652819    8.355541    1.78283    109.137640   41.466625   \n",
       "min      0.000000    0.000000    3.00000     68.000000    0.000000   \n",
       "25%     64.500000   16.000000    4.00000     99.000000   75.000000   \n",
       "50%    147.000000   22.400000    4.00000    140.000000   92.000000   \n",
       "75%    231.500000   29.000000    8.00000    302.000000  137.500000   \n",
       "max    305.000000   43.100000    8.00000    455.000000  230.000000   \n",
       "\n",
       "            Weight  Acceleration      Origin  \n",
       "count   367.000000    367.000000  367.000000  \n",
       "mean   2994.986376     15.398638    1.474114  \n",
       "std     880.296021      2.701896    0.763770  \n",
       "min    1613.000000      8.000000    0.000000  \n",
       "25%    2212.500000     13.500000    1.000000  \n",
       "50%    2789.000000     15.400000    2.000000  \n",
       "75%    3709.000000     17.000000    2.000000  \n",
       "max    5140.000000     22.200000    2.000000  "
      ]
     },
     "execution_count": 108,
     "metadata": {},
     "output_type": "execute_result"
    }
   ],
   "source": [
    "x=df.drop('Model', axis=1)\n",
    "x.describe()"
   ]
  },
  {
   "cell_type": "code",
   "execution_count": 147,
   "metadata": {},
   "outputs": [
    {
     "data": {
      "text/plain": [
       "array([[1.42035132e-02, 5.11326476e-03, 2.27256212e-03, ...,\n",
       "        9.95382206e-01, 3.40884317e-03, 5.68140529e-04],\n",
       "       [9.96375959e-03, 4.03936200e-03, 2.15432640e-03, ...,\n",
       "        9.94490924e-01, 3.09684420e-03, 5.38581600e-04],\n",
       "       [6.78797986e-02, 5.19930372e-03, 2.31080165e-03, ...,\n",
       "        9.92489311e-01, 3.17735227e-03, 5.77700414e-04],\n",
       "       ...,\n",
       "       [5.25187979e-02, 1.38892689e-02, 1.73615861e-03, ...,\n",
       "        9.96121001e-01, 5.03485996e-03, 8.68079304e-04],\n",
       "       [6.15002969e-02, 1.06296809e-02, 1.51852585e-03, ...,\n",
       "        9.96532588e-01, 7.06114520e-03, 7.59262924e-04],\n",
       "       [2.56882163e-02, 1.13762101e-02, 1.46789808e-03, ...,\n",
       "        9.98170692e-01, 7.11930567e-03, 7.33949038e-04]])"
      ]
     },
     "execution_count": 147,
     "metadata": {},
     "output_type": "execute_result"
    }
   ],
   "source": [
    "x=preprocessing.normalize(x)\n",
    "x"
   ]
  },
  {
   "cell_type": "code",
   "execution_count": 110,
   "metadata": {},
   "outputs": [
    {
     "data": {
      "text/html": [
       "<div>\n",
       "<style scoped>\n",
       "    .dataframe tbody tr th:only-of-type {\n",
       "        vertical-align: middle;\n",
       "    }\n",
       "\n",
       "    .dataframe tbody tr th {\n",
       "        vertical-align: top;\n",
       "    }\n",
       "\n",
       "    .dataframe thead th {\n",
       "        text-align: right;\n",
       "    }\n",
       "</style>\n",
       "<table border=\"1\" class=\"dataframe\">\n",
       "  <thead>\n",
       "    <tr style=\"text-align: right;\">\n",
       "      <th></th>\n",
       "      <th>0</th>\n",
       "      <th>1</th>\n",
       "      <th>2</th>\n",
       "      <th>3</th>\n",
       "      <th>4</th>\n",
       "      <th>5</th>\n",
       "      <th>6</th>\n",
       "      <th>7</th>\n",
       "    </tr>\n",
       "  </thead>\n",
       "  <tbody>\n",
       "    <tr>\n",
       "      <th>count</th>\n",
       "      <td>367.000000</td>\n",
       "      <td>367.000000</td>\n",
       "      <td>367.000000</td>\n",
       "      <td>367.000000</td>\n",
       "      <td>367.000000</td>\n",
       "      <td>367.000000</td>\n",
       "      <td>367.000000</td>\n",
       "      <td>367.000000</td>\n",
       "    </tr>\n",
       "    <tr>\n",
       "      <th>mean</th>\n",
       "      <td>0.056626</td>\n",
       "      <td>0.008923</td>\n",
       "      <td>0.001819</td>\n",
       "      <td>0.061598</td>\n",
       "      <td>0.034462</td>\n",
       "      <td>0.994747</td>\n",
       "      <td>0.005679</td>\n",
       "      <td>0.000487</td>\n",
       "    </tr>\n",
       "    <tr>\n",
       "      <th>std</th>\n",
       "      <td>0.041829</td>\n",
       "      <td>0.005232</td>\n",
       "      <td>0.000254</td>\n",
       "      <td>0.018493</td>\n",
       "      <td>0.006993</td>\n",
       "      <td>0.002819</td>\n",
       "      <td>0.002152</td>\n",
       "      <td>0.000262</td>\n",
       "    </tr>\n",
       "    <tr>\n",
       "      <th>min</th>\n",
       "      <td>0.000000</td>\n",
       "      <td>0.000000</td>\n",
       "      <td>0.001099</td>\n",
       "      <td>0.028804</td>\n",
       "      <td>0.000000</td>\n",
       "      <td>0.984858</td>\n",
       "      <td>0.001956</td>\n",
       "      <td>0.000000</td>\n",
       "    </tr>\n",
       "    <tr>\n",
       "      <th>25%</th>\n",
       "      <td>0.022367</td>\n",
       "      <td>0.004307</td>\n",
       "      <td>0.001658</td>\n",
       "      <td>0.045596</td>\n",
       "      <td>0.030959</td>\n",
       "      <td>0.993585</td>\n",
       "      <td>0.003605</td>\n",
       "      <td>0.000427</td>\n",
       "    </tr>\n",
       "    <tr>\n",
       "      <th>50%</th>\n",
       "      <td>0.049218</td>\n",
       "      <td>0.008298</td>\n",
       "      <td>0.001824</td>\n",
       "      <td>0.054538</td>\n",
       "      <td>0.034219</td>\n",
       "      <td>0.995455</td>\n",
       "      <td>0.005593</td>\n",
       "      <td>0.000502</td>\n",
       "    </tr>\n",
       "    <tr>\n",
       "      <th>75%</th>\n",
       "      <td>0.087074</td>\n",
       "      <td>0.012956</td>\n",
       "      <td>0.001987</td>\n",
       "      <td>0.077431</td>\n",
       "      <td>0.037971</td>\n",
       "      <td>0.996710</td>\n",
       "      <td>0.007101</td>\n",
       "      <td>0.000619</td>\n",
       "    </tr>\n",
       "    <tr>\n",
       "      <th>max</th>\n",
       "      <td>0.163048</td>\n",
       "      <td>0.022036</td>\n",
       "      <td>0.002558</td>\n",
       "      <td>0.145475</td>\n",
       "      <td>0.071938</td>\n",
       "      <td>0.998711</td>\n",
       "      <td>0.011295</td>\n",
       "      <td>0.001105</td>\n",
       "    </tr>\n",
       "  </tbody>\n",
       "</table>\n",
       "</div>"
      ],
      "text/plain": [
       "                0           1           2           3           4           5  \\\n",
       "count  367.000000  367.000000  367.000000  367.000000  367.000000  367.000000   \n",
       "mean     0.056626    0.008923    0.001819    0.061598    0.034462    0.994747   \n",
       "std      0.041829    0.005232    0.000254    0.018493    0.006993    0.002819   \n",
       "min      0.000000    0.000000    0.001099    0.028804    0.000000    0.984858   \n",
       "25%      0.022367    0.004307    0.001658    0.045596    0.030959    0.993585   \n",
       "50%      0.049218    0.008298    0.001824    0.054538    0.034219    0.995455   \n",
       "75%      0.087074    0.012956    0.001987    0.077431    0.037971    0.996710   \n",
       "max      0.163048    0.022036    0.002558    0.145475    0.071938    0.998711   \n",
       "\n",
       "                6           7  \n",
       "count  367.000000  367.000000  \n",
       "mean     0.005679    0.000487  \n",
       "std      0.002152    0.000262  \n",
       "min      0.001956    0.000000  \n",
       "25%      0.003605    0.000427  \n",
       "50%      0.005593    0.000502  \n",
       "75%      0.007101    0.000619  \n",
       "max      0.011295    0.001105  "
      ]
     },
     "execution_count": 110,
     "metadata": {},
     "output_type": "execute_result"
    }
   ],
   "source": [
    "x=pd.DataFrame(x)\n",
    "x.describe()"
   ]
  },
  {
   "cell_type": "code",
   "execution_count": 111,
   "metadata": {},
   "outputs": [
    {
     "name": "stdout",
     "output_type": "stream",
     "text": [
      "MSE Is: 8.228925461927542\n",
      "R squared value is : 0.5134840281414019\n"
     ]
    }
   ],
   "source": [
    "x_train,x_test,y_train,y_test=train_test_split(x,y,random_state=42,test_size=0.2)\n",
    "model=lr.fit(x_train,y_train)\n",
    "prediction=model.predict(x_test)\n",
    "print('MSE Is:',mean_squared_error(y_test,prediction))\n",
    "print('R squared value is :',r2_score(y_test,prediction))"
   ]
  },
  {
   "cell_type": "code",
   "execution_count": 113,
   "metadata": {},
   "outputs": [
    {
     "data": {
      "text/plain": [
       "<Axes: >"
      ]
     },
     "execution_count": 113,
     "metadata": {},
     "output_type": "execute_result"
    },
    {
     "data": {
      "image/png": "[encoded data removed]",
      "text/plain": [
       "<Figure size 2000x800 with 2 Axes>"
      ]
     },
     "metadata": {},
     "output_type": "display_data"
    }
   ],
   "source": [
    "corrmatrix =df.corr()\n",
    "plt.subplots(figsize=(20,8))\n",
    "sns.heatmap(corrmatrix,vmin=0.4,vmax=0.9,annot=True,linewidth=0.2,cmap='YlGnBu')"
   ]
  },
  {
   "cell_type": "code",
   "execution_count": null,
   "metadata": {},
   "outputs": [],
   "source": []
  }
 ],
 "metadata": {
  "kernelspec": {
   "display_name": "Python 3",
   "language": "python",
   "name": "python3"
  },
  "language_info": {
   "codemirror_mode": {
    "name": "ipython",
    "version": 3
   },
   "file_extension": ".py",
   "mimetype": "text/x-python",
   "name": "python",
   "nbconvert_exporter": "python",
   "pygments_lexer": "ipython3",
   "version": "3.11.4"
  }
 },
 "nbformat": 4,
 "nbformat_minor": 2
}
